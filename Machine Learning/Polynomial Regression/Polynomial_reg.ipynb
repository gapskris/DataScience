{
 "cells": [
  {
   "cell_type": "code",
   "execution_count": 1,
   "id": "1189b94f-c570-4ac1-a5db-622b8659cb23",
   "metadata": {},
   "outputs": [],
   "source": [
    "import numpy as np\n",
    "import matplotlib.pyplot as plt\n",
    "from sklearn.model_selection import train_test_split\n",
    "from sklearn.linear_model import LinearRegression, SGDRegressor\n",
    "from sklearn.preprocessing import PolynomialFeatures,StandardScaler\n",
    "from sklearn.metrics import r2_score\n",
    "from sklearn.pipeline import Pipeline"
   ]
  },
  {
   "cell_type": "code",
   "execution_count": 2,
   "id": "c8479fb6-2277-42f8-9fb8-66779662c565",
   "metadata": {},
   "outputs": [],
   "source": [
    "x = 6 * np.random.rand(200, 1) - 3\n",
    "y = 0.8 * x**2 + 0.9 * x + 2 + np.random.randn(200, 1)\n",
    "\n",
    "# y = 0.8x^2 + 0.9x + 2"
   ]
  },
  {
   "cell_type": "code",
   "execution_count": 3,
   "id": "b956ab70-37c5-40a6-8c06-3804fd7adfb6",
   "metadata": {},
   "outputs": [
    {
     "data": {
      "image/png": "[encoded data removed]",
      "text/plain": [
       "<Figure size 640x480 with 1 Axes>"
      ]
     },
     "metadata": {},
     "output_type": "display_data"
    }
   ],
   "source": [
    "plt.plot(x,y,'b. ')\n",
    "plt.xlabel(\"X\")\n",
    "plt.ylabel(\"Y\")\n",
    "plt.show()"
   ]
  },
  {
   "cell_type": "code",
   "execution_count": 4,
   "id": "c52bcfbe-a0d5-488a-ac5d-c623eb60f67e",
   "metadata": {},
   "outputs": [],
   "source": [
    "# Train test split\n",
    "x_train,x_test,y_train,y_test = train_test_split(x,y,test_size=0.2,random_state=2)"
   ]
  },
  {
   "cell_type": "markdown",
   "id": "9ec054a4-7a2b-440f-98c6-8b00b31bf0bf",
   "metadata": {},
   "source": [
    "# Applying linear regression\n"
   ]
  },
  {
   "cell_type": "code",
   "execution_count": 8,
   "id": "59e67fa0-9149-4a88-afc4-9fa3eed5cd82",
   "metadata": {},
   "outputs": [],
   "source": [
    "# Applying linear regression\n",
    "lr = LinearRegression()"
   ]
  },
  {
   "cell_type": "code",
   "execution_count": 11,
   "id": "cf349c0a-302e-402f-85af-f1d8510e71ce",
   "metadata": {},
   "outputs": [
    {
     "data": {
      "text/html": [
       "<style>#sk-container-id-1 {\n",
       "  /* Definition of color scheme common for light and dark mode */\n",
       "  --sklearn-color-text: black;\n",
       "  --sklearn-color-line: gray;\n",
       "  /* Definition of color scheme for unfitted estimators */\n",
       "  --sklearn-color-unfitted-level-0: #fff5e6;\n",
       "  --sklearn-color-unfitted-level-1: #f6e4d2;\n",
       "  --sklearn-color-unfitted-level-2: #ffe0b3;\n",
       "  --sklearn-color-unfitted-level-3: chocolate;\n",
       "  /* Definition of color scheme for fitted estimators */\n",
       "  --sklearn-color-fitted-level-0: #f0f8ff;\n",
       "  --sklearn-color-fitted-level-1: #d4ebff;\n",
       "  --sklearn-color-fitted-level-2: #b3dbfd;\n",
       "  --sklearn-color-fitted-level-3: cornflowerblue;\n",
       "\n",
       "  /* Specific color for light theme */\n",
       "  --sklearn-color-text-on-default-background: var(--sg-text-color, var(--theme-code-foreground, var(--jp-content-font-color1, black)));\n",
       "  --sklearn-color-background: var(--sg-background-color, var(--theme-background, var(--jp-layout-color0, white)));\n",
       "  --sklearn-color-border-box: var(--sg-text-color, var(--theme-code-foreground, var(--jp-content-font-color1, black)));\n",
       "  --sklearn-color-icon: #696969;\n",
       "\n",
       "  @media (prefers-color-scheme: dark) {\n",
       "    /* Redefinition of color scheme for dark theme */\n",
       "    --sklearn-color-text-on-default-background: var(--sg-text-color, var(--theme-code-foreground, var(--jp-content-font-color1, white)));\n",
       "    --sklearn-color-background: var(--sg-background-color, var(--theme-background, var(--jp-layout-color0, #111)));\n",
       "    --sklearn-color-border-box: var(--sg-text-color, var(--theme-code-foreground, var(--jp-content-font-color1, white)));\n",
       "    --sklearn-color-icon: #878787;\n",
       "  }\n",
       "}\n",
       "\n",
       "#sk-container-id-1 {\n",
       "  color: var(--sklearn-color-text);\n",
       "}\n",
       "\n",
       "#sk-container-id-1 pre {\n",
       "  padding: 0;\n",
       "}\n",
       "\n",
       "#sk-container-id-1 input.sk-hidden--visually {\n",
       "  border: 0;\n",
       "  clip: rect(1px 1px 1px 1px);\n",
       "  clip: rect(1px, 1px, 1px, 1px);\n",
       "  height: 1px;\n",
       "  margin: -1px;\n",
       "  overflow: hidden;\n",
       "  padding: 0;\n",
       "  position: absolute;\n",
       "  width: 1px;\n",
       "}\n",
       "\n",
       "#sk-container-id-1 div.sk-dashed-wrapped {\n",
       "  border: 1px dashed var(--sklearn-color-line);\n",
       "  margin: 0 0.4em 0.5em 0.4em;\n",
       "  box-sizing: border-box;\n",
       "  padding-bottom: 0.4em;\n",
       "  background-color: var(--sklearn-color-background);\n",
       "}\n",
       "\n",
       "#sk-container-id-1 div.sk-container {\n",
       "  /* jupyter's `normalize.less` sets `[hidden] { display: none; }`\n",
       "     but bootstrap.min.css set `[hidden] { display: none !important; }`\n",
       "     so we also need the `!important` here to be able to override the\n",
       "     default hidden behavior on the sphinx rendered scikit-learn.org.\n",
       "     See: https://github.com/scikit-learn/scikit-learn/issues/21755 */\n",
       "  display: inline-block !important;\n",
       "  position: relative;\n",
       "}\n",
       "\n",
       "#sk-container-id-1 div.sk-text-repr-fallback {\n",
       "  display: none;\n",
       "}\n",
       "\n",
       "div.sk-parallel-item,\n",
       "div.sk-serial,\n",
       "div.sk-item {\n",
       "  /* draw centered vertical line to link estimators */\n",
       "  background-image: linear-gradient(var(--sklearn-color-text-on-default-background), var(--sklearn-color-text-on-default-background));\n",
       "  background-size: 2px 100%;\n",
       "  background-repeat: no-repeat;\n",
       "  background-position: center center;\n",
       "}\n",
       "\n",
       "/* Parallel-specific style estimator block */\n",
       "\n",
       "#sk-container-id-1 div.sk-parallel-item::after {\n",
       "  content: \"\";\n",
       "  width: 100%;\n",
       "  border-bottom: 2px solid var(--sklearn-color-text-on-default-background);\n",
       "  flex-grow: 1;\n",
       "}\n",
       "\n",
       "#sk-container-id-1 div.sk-parallel {\n",
       "  display: flex;\n",
       "  align-items: stretch;\n",
       "  justify-content: center;\n",
       "  background-color: var(--sklearn-color-background);\n",
       "  position: relative;\n",
       "}\n",
       "\n",
       "#sk-container-id-1 div.sk-parallel-item {\n",
       "  display: flex;\n",
       "  flex-direction: column;\n",
       "}\n",
       "\n",
       "#sk-container-id-1 div.sk-parallel-item:first-child::after {\n",
       "  align-self: flex-end;\n",
       "  width: 50%;\n",
       "}\n",
       "\n",
       "#sk-container-id-1 div.sk-parallel-item:last-child::after {\n",
       "  align-self: flex-start;\n",
       "  width: 50%;\n",
       "}\n",
       "\n",
       "#sk-container-id-1 div.sk-parallel-item:only-child::after {\n",
       "  width: 0;\n",
       "}\n",
       "\n",
       "/* Serial-specific style estimator block */\n",
       "\n",
       "#sk-container-id-1 div.sk-serial {\n",
       "  display: flex;\n",
       "  flex-direction: column;\n",
       "  align-items: center;\n",
       "  background-color: var(--sklearn-color-background);\n",
       "  padding-right: 1em;\n",
       "  padding-left: 1em;\n",
       "}\n",
       "\n",
       "\n",
       "/* Toggleable style: style used for estimator/Pipeline/ColumnTransformer box that is\n",
       "clickable and can be expanded/collapsed.\n",
       "- Pipeline and ColumnTransformer use this feature and define the default style\n",
       "- Estimators will overwrite some part of the style using the `sk-estimator` class\n",
       "*/\n",
       "\n",
       "/* Pipeline and ColumnTransformer style (default) */\n",
       "\n",
       "#sk-container-id-1 div.sk-toggleable {\n",
       "  /* Default theme specific background. It is overwritten whether we have a\n",
       "  specific estimator or a Pipeline/ColumnTransformer */\n",
       "  background-color: var(--sklearn-color-background);\n",
       "}\n",
       "\n",
       "/* Toggleable label */\n",
       "#sk-container-id-1 label.sk-toggleable__label {\n",
       "  cursor: pointer;\n",
       "  display: block;\n",
       "  width: 100%;\n",
       "  margin-bottom: 0;\n",
       "  padding: 0.5em;\n",
       "  box-sizing: border-box;\n",
       "  text-align: center;\n",
       "}\n",
       "\n",
       "#sk-container-id-1 label.sk-toggleable__label-arrow:before {\n",
       "  /* Arrow on the left of the label */\n",
       "  content: \"▸\";\n",
       "  float: left;\n",
       "  margin-right: 0.25em;\n",
       "  color: var(--sklearn-color-icon);\n",
       "}\n",
       "\n",
       "#sk-container-id-1 label.sk-toggleable__label-arrow:hover:before {\n",
       "  color: var(--sklearn-color-text);\n",
       "}\n",
       "\n",
       "/* Toggleable content - dropdown */\n",
       "\n",
       "#sk-container-id-1 div.sk-toggleable__content {\n",
       "  max-height: 0;\n",
       "  max-width: 0;\n",
       "  overflow: hidden;\n",
       "  text-align: left;\n",
       "  /* unfitted */\n",
       "  background-color: var(--sklearn-color-unfitted-level-0);\n",
       "}\n",
       "\n",
       "#sk-container-id-1 div.sk-toggleable__content.fitted {\n",
       "  /* fitted */\n",
       "  background-color: var(--sklearn-color-fitted-level-0);\n",
       "}\n",
       "\n",
       "#sk-container-id-1 div.sk-toggleable__content pre {\n",
       "  margin: 0.2em;\n",
       "  border-radius: 0.25em;\n",
       "  color: var(--sklearn-color-text);\n",
       "  /* unfitted */\n",
       "  background-color: var(--sklearn-color-unfitted-level-0);\n",
       "}\n",
       "\n",
       "#sk-container-id-1 div.sk-toggleable__content.fitted pre {\n",
       "  /* unfitted */\n",
       "  background-color: var(--sklearn-color-fitted-level-0);\n",
       "}\n",
       "\n",
       "#sk-container-id-1 input.sk-toggleable__control:checked~div.sk-toggleable__content {\n",
       "  /* Expand drop-down */\n",
       "  max-height: 200px;\n",
       "  max-width: 100%;\n",
       "  overflow: auto;\n",
       "}\n",
       "\n",
       "#sk-container-id-1 input.sk-toggleable__control:checked~label.sk-toggleable__label-arrow:before {\n",
       "  content: \"▾\";\n",
       "}\n",
       "\n",
       "/* Pipeline/ColumnTransformer-specific style */\n",
       "\n",
       "#sk-container-id-1 div.sk-label input.sk-toggleable__control:checked~label.sk-toggleable__label {\n",
       "  color: var(--sklearn-color-text);\n",
       "  background-color: var(--sklearn-color-unfitted-level-2);\n",
       "}\n",
       "\n",
       "#sk-container-id-1 div.sk-label.fitted input.sk-toggleable__control:checked~label.sk-toggleable__label {\n",
       "  background-color: var(--sklearn-color-fitted-level-2);\n",
       "}\n",
       "\n",
       "/* Estimator-specific style */\n",
       "\n",
       "/* Colorize estimator box */\n",
       "#sk-container-id-1 div.sk-estimator input.sk-toggleable__control:checked~label.sk-toggleable__label {\n",
       "  /* unfitted */\n",
       "  background-color: var(--sklearn-color-unfitted-level-2);\n",
       "}\n",
       "\n",
       "#sk-container-id-1 div.sk-estimator.fitted input.sk-toggleable__control:checked~label.sk-toggleable__label {\n",
       "  /* fitted */\n",
       "  background-color: var(--sklearn-color-fitted-level-2);\n",
       "}\n",
       "\n",
       "#sk-container-id-1 div.sk-label label.sk-toggleable__label,\n",
       "#sk-container-id-1 div.sk-label label {\n",
       "  /* The background is the default theme color */\n",
       "  color: var(--sklearn-color-text-on-default-background);\n",
       "}\n",
       "\n",
       "/* On hover, darken the color of the background */\n",
       "#sk-container-id-1 div.sk-label:hover label.sk-toggleable__label {\n",
       "  color: var(--sklearn-color-text);\n",
       "  background-color: var(--sklearn-color-unfitted-level-2);\n",
       "}\n",
       "\n",
       "/* Label box, darken color on hover, fitted */\n",
       "#sk-container-id-1 div.sk-label.fitted:hover label.sk-toggleable__label.fitted {\n",
       "  color: var(--sklearn-color-text);\n",
       "  background-color: var(--sklearn-color-fitted-level-2);\n",
       "}\n",
       "\n",
       "/* Estimator label */\n",
       "\n",
       "#sk-container-id-1 div.sk-label label {\n",
       "  font-family: monospace;\n",
       "  font-weight: bold;\n",
       "  display: inline-block;\n",
       "  line-height: 1.2em;\n",
       "}\n",
       "\n",
       "#sk-container-id-1 div.sk-label-container {\n",
       "  text-align: center;\n",
       "}\n",
       "\n",
       "/* Estimator-specific */\n",
       "#sk-container-id-1 div.sk-estimator {\n",
       "  font-family: monospace;\n",
       "  border: 1px dotted var(--sklearn-color-border-box);\n",
       "  border-radius: 0.25em;\n",
       "  box-sizing: border-box;\n",
       "  margin-bottom: 0.5em;\n",
       "  /* unfitted */\n",
       "  background-color: var(--sklearn-color-unfitted-level-0);\n",
       "}\n",
       "\n",
       "#sk-container-id-1 div.sk-estimator.fitted {\n",
       "  /* fitted */\n",
       "  background-color: var(--sklearn-color-fitted-level-0);\n",
       "}\n",
       "\n",
       "/* on hover */\n",
       "#sk-container-id-1 div.sk-estimator:hover {\n",
       "  /* unfitted */\n",
       "  background-color: var(--sklearn-color-unfitted-level-2);\n",
       "}\n",
       "\n",
       "#sk-container-id-1 div.sk-estimator.fitted:hover {\n",
       "  /* fitted */\n",
       "  background-color: var(--sklearn-color-fitted-level-2);\n",
       "}\n",
       "\n",
       "/* Specification for estimator info (e.g. \"i\" and \"?\") */\n",
       "\n",
       "/* Common style for \"i\" and \"?\" */\n",
       "\n",
       ".sk-estimator-doc-link,\n",
       "a:link.sk-estimator-doc-link,\n",
       "a:visited.sk-estimator-doc-link {\n",
       "  float: right;\n",
       "  font-size: smaller;\n",
       "  line-height: 1em;\n",
       "  font-family: monospace;\n",
       "  background-color: var(--sklearn-color-background);\n",
       "  border-radius: 1em;\n",
       "  height: 1em;\n",
       "  width: 1em;\n",
       "  text-decoration: none !important;\n",
       "  margin-left: 1ex;\n",
       "  /* unfitted */\n",
       "  border: var(--sklearn-color-unfitted-level-1) 1pt solid;\n",
       "  color: var(--sklearn-color-unfitted-level-1);\n",
       "}\n",
       "\n",
       ".sk-estimator-doc-link.fitted,\n",
       "a:link.sk-estimator-doc-link.fitted,\n",
       "a:visited.sk-estimator-doc-link.fitted {\n",
       "  /* fitted */\n",
       "  border: var(--sklearn-color-fitted-level-1) 1pt solid;\n",
       "  color: var(--sklearn-color-fitted-level-1);\n",
       "}\n",
       "\n",
       "/* On hover */\n",
       "div.sk-estimator:hover .sk-estimator-doc-link:hover,\n",
       ".sk-estimator-doc-link:hover,\n",
       "div.sk-label-container:hover .sk-estimator-doc-link:hover,\n",
       ".sk-estimator-doc-link:hover {\n",
       "  /* unfitted */\n",
       "  background-color: var(--sklearn-color-unfitted-level-3);\n",
       "  color: var(--sklearn-color-background);\n",
       "  text-decoration: none;\n",
       "}\n",
       "\n",
       "div.sk-estimator.fitted:hover .sk-estimator-doc-link.fitted:hover,\n",
       ".sk-estimator-doc-link.fitted:hover,\n",
       "div.sk-label-container:hover .sk-estimator-doc-link.fitted:hover,\n",
       ".sk-estimator-doc-link.fitted:hover {\n",
       "  /* fitted */\n",
       "  background-color: var(--sklearn-color-fitted-level-3);\n",
       "  color: var(--sklearn-color-background);\n",
       "  text-decoration: none;\n",
       "}\n",
       "\n",
       "/* Span, style for the box shown on hovering the info icon */\n",
       ".sk-estimator-doc-link span {\n",
       "  display: none;\n",
       "  z-index: 9999;\n",
       "  position: relative;\n",
       "  font-weight: normal;\n",
       "  right: .2ex;\n",
       "  padding: .5ex;\n",
       "  margin: .5ex;\n",
       "  width: min-content;\n",
       "  min-width: 20ex;\n",
       "  max-width: 50ex;\n",
       "  color: var(--sklearn-color-text);\n",
       "  box-shadow: 2pt 2pt 4pt #999;\n",
       "  /* unfitted */\n",
       "  background: var(--sklearn-color-unfitted-level-0);\n",
       "  border: .5pt solid var(--sklearn-color-unfitted-level-3);\n",
       "}\n",
       "\n",
       ".sk-estimator-doc-link.fitted span {\n",
       "  /* fitted */\n",
       "  background: var(--sklearn-color-fitted-level-0);\n",
       "  border: var(--sklearn-color-fitted-level-3);\n",
       "}\n",
       "\n",
       ".sk-estimator-doc-link:hover span {\n",
       "  display: block;\n",
       "}\n",
       "\n",
       "/* \"?\"-specific style due to the `<a>` HTML tag */\n",
       "\n",
       "#sk-container-id-1 a.estimator_doc_link {\n",
       "  float: right;\n",
       "  font-size: 1rem;\n",
       "  line-height: 1em;\n",
       "  font-family: monospace;\n",
       "  background-color: var(--sklearn-color-background);\n",
       "  border-radius: 1rem;\n",
       "  height: 1rem;\n",
       "  width: 1rem;\n",
       "  text-decoration: none;\n",
       "  /* unfitted */\n",
       "  color: var(--sklearn-color-unfitted-level-1);\n",
       "  border: var(--sklearn-color-unfitted-level-1) 1pt solid;\n",
       "}\n",
       "\n",
       "#sk-container-id-1 a.estimator_doc_link.fitted {\n",
       "  /* fitted */\n",
       "  border: var(--sklearn-color-fitted-level-1) 1pt solid;\n",
       "  color: var(--sklearn-color-fitted-level-1);\n",
       "}\n",
       "\n",
       "/* On hover */\n",
       "#sk-container-id-1 a.estimator_doc_link:hover {\n",
       "  /* unfitted */\n",
       "  background-color: var(--sklearn-color-unfitted-level-3);\n",
       "  color: var(--sklearn-color-background);\n",
       "  text-decoration: none;\n",
       "}\n",
       "\n",
       "#sk-container-id-1 a.estimator_doc_link.fitted:hover {\n",
       "  /* fitted */\n",
       "  background-color: var(--sklearn-color-fitted-level-3);\n",
       "}\n",
       "</style><div id=\"sk-container-id-1\" class=\"sk-top-container\"><div class=\"sk-text-repr-fallback\"><pre>LinearRegression()</pre><b>In a Jupyter environment, please rerun this cell to show the HTML representation or trust the notebook. <br />On GitHub, the HTML representation is unable to render, please try loading this page with nbviewer.org.</b></div><div class=\"sk-container\" hidden><div class=\"sk-item\"><div class=\"sk-estimator fitted sk-toggleable\"><input class=\"sk-toggleable__control sk-hidden--visually\" id=\"sk-estimator-id-1\" type=\"checkbox\" checked><label for=\"sk-estimator-id-1\" class=\"sk-toggleable__label fitted sk-toggleable__label-arrow fitted\">&nbsp;&nbsp;LinearRegression<a class=\"sk-estimator-doc-link fitted\" rel=\"noreferrer\" target=\"_blank\" href=\"https://scikit-learn.org/1.4/modules/generated/sklearn.linear_model.LinearRegression.html\">?<span>Documentation for LinearRegression</span></a><span class=\"sk-estimator-doc-link fitted\">i<span>Fitted</span></span></label><div class=\"sk-toggleable__content fitted\"><pre>LinearRegression()</pre></div> </div></div></div></div>"
      ],
      "text/plain": [
       "LinearRegression()"
      ]
     },
     "execution_count": 11,
     "metadata": {},
     "output_type": "execute_result"
    }
   ],
   "source": [
    "lr.fit(x_train,y_train)"
   ]
  },
  {
   "cell_type": "code",
   "execution_count": 12,
   "id": "5cf65b21-b14a-4522-a1a9-49e698ef84a3",
   "metadata": {},
   "outputs": [
    {
     "data": {
      "text/plain": [
       "0.34607123861208533"
      ]
     },
     "execution_count": 12,
     "metadata": {},
     "output_type": "execute_result"
    }
   ],
   "source": [
    "y_pred = lr.predict(x_test)\n",
    "r2_score(y_test,y_pred)"
   ]
  },
  {
   "cell_type": "code",
   "execution_count": 13,
   "id": "917377d7-0c65-4957-835b-7e5d85f1dc64",
   "metadata": {},
   "outputs": [
    {
     "data": {
      "image/png": "[encoded data removed]",
      "text/plain": [
       "<Figure size 640x480 with 1 Axes>"
      ]
     },
     "metadata": {},
     "output_type": "display_data"
    }
   ],
   "source": [
    "plt.plot(x_train,lr.predict(x_train),color='r')\n",
    "plt.plot(x,y,\"b. \")\n",
    "plt.xlabel(\"x\")\n",
    "plt.ylabel(\"y\")\n",
    "plt.show()"
   ]
  },
  {
   "cell_type": "markdown",
   "id": "f806cc14-4432-4079-a8af-3e165e230256",
   "metadata": {},
   "source": [
    "# Applying Polynomial Linear Regression\r\n"
   ]
  },
  {
   "cell_type": "code",
   "execution_count": 21,
   "id": "879db7bb-1a7d-4409-aec7-e8e060c98cf4",
   "metadata": {},
   "outputs": [
    {
     "data": {
      "text/html": [
       "<style>#sk-container-id-2 {\n",
       "  /* Definition of color scheme common for light and dark mode */\n",
       "  --sklearn-color-text: black;\n",
       "  --sklearn-color-line: gray;\n",
       "  /* Definition of color scheme for unfitted estimators */\n",
       "  --sklearn-color-unfitted-level-0: #fff5e6;\n",
       "  --sklearn-color-unfitted-level-1: #f6e4d2;\n",
       "  --sklearn-color-unfitted-level-2: #ffe0b3;\n",
       "  --sklearn-color-unfitted-level-3: chocolate;\n",
       "  /* Definition of color scheme for fitted estimators */\n",
       "  --sklearn-color-fitted-level-0: #f0f8ff;\n",
       "  --sklearn-color-fitted-level-1: #d4ebff;\n",
       "  --sklearn-color-fitted-level-2: #b3dbfd;\n",
       "  --sklearn-color-fitted-level-3: cornflowerblue;\n",
       "\n",
       "  /* Specific color for light theme */\n",
       "  --sklearn-color-text-on-default-background: var(--sg-text-color, var(--theme-code-foreground, var(--jp-content-font-color1, black)));\n",
       "  --sklearn-color-background: var(--sg-background-color, var(--theme-background, var(--jp-layout-color0, white)));\n",
       "  --sklearn-color-border-box: var(--sg-text-color, var(--theme-code-foreground, var(--jp-content-font-color1, black)));\n",
       "  --sklearn-color-icon: #696969;\n",
       "\n",
       "  @media (prefers-color-scheme: dark) {\n",
       "    /* Redefinition of color scheme for dark theme */\n",
       "    --sklearn-color-text-on-default-background: var(--sg-text-color, var(--theme-code-foreground, var(--jp-content-font-color1, white)));\n",
       "    --sklearn-color-background: var(--sg-background-color, var(--theme-background, var(--jp-layout-color0, #111)));\n",
       "    --sklearn-color-border-box: var(--sg-text-color, var(--theme-code-foreground, var(--jp-content-font-color1, white)));\n",
       "    --sklearn-color-icon: #878787;\n",
       "  }\n",
       "}\n",
       "\n",
       "#sk-container-id-2 {\n",
       "  color: var(--sklearn-color-text);\n",
       "}\n",
       "\n",
       "#sk-container-id-2 pre {\n",
       "  padding: 0;\n",
       "}\n",
       "\n",
       "#sk-container-id-2 input.sk-hidden--visually {\n",
       "  border: 0;\n",
       "  clip: rect(1px 1px 1px 1px);\n",
       "  clip: rect(1px, 1px, 1px, 1px);\n",
       "  height: 1px;\n",
       "  margin: -1px;\n",
       "  overflow: hidden;\n",
       "  padding: 0;\n",
       "  position: absolute;\n",
       "  width: 1px;\n",
       "}\n",
       "\n",
       "#sk-container-id-2 div.sk-dashed-wrapped {\n",
       "  border: 1px dashed var(--sklearn-color-line);\n",
       "  margin: 0 0.4em 0.5em 0.4em;\n",
       "  box-sizing: border-box;\n",
       "  padding-bottom: 0.4em;\n",
       "  background-color: var(--sklearn-color-background);\n",
       "}\n",
       "\n",
       "#sk-container-id-2 div.sk-container {\n",
       "  /* jupyter's `normalize.less` sets `[hidden] { display: none; }`\n",
       "     but bootstrap.min.css set `[hidden] { display: none !important; }`\n",
       "     so we also need the `!important` here to be able to override the\n",
       "     default hidden behavior on the sphinx rendered scikit-learn.org.\n",
       "     See: https://github.com/scikit-learn/scikit-learn/issues/21755 */\n",
       "  display: inline-block !important;\n",
       "  position: relative;\n",
       "}\n",
       "\n",
       "#sk-container-id-2 div.sk-text-repr-fallback {\n",
       "  display: none;\n",
       "}\n",
       "\n",
       "div.sk-parallel-item,\n",
       "div.sk-serial,\n",
       "div.sk-item {\n",
       "  /* draw centered vertical line to link estimators */\n",
       "  background-image: linear-gradient(var(--sklearn-color-text-on-default-background), var(--sklearn-color-text-on-default-background));\n",
       "  background-size: 2px 100%;\n",
       "  background-repeat: no-repeat;\n",
       "  background-position: center center;\n",
       "}\n",
       "\n",
       "/* Parallel-specific style estimator block */\n",
       "\n",
       "#sk-container-id-2 div.sk-parallel-item::after {\n",
       "  content: \"\";\n",
       "  width: 100%;\n",
       "  border-bottom: 2px solid var(--sklearn-color-text-on-default-background);\n",
       "  flex-grow: 1;\n",
       "}\n",
       "\n",
       "#sk-container-id-2 div.sk-parallel {\n",
       "  display: flex;\n",
       "  align-items: stretch;\n",
       "  justify-content: center;\n",
       "  background-color: var(--sklearn-color-background);\n",
       "  position: relative;\n",
       "}\n",
       "\n",
       "#sk-container-id-2 div.sk-parallel-item {\n",
       "  display: flex;\n",
       "  flex-direction: column;\n",
       "}\n",
       "\n",
       "#sk-container-id-2 div.sk-parallel-item:first-child::after {\n",
       "  align-self: flex-end;\n",
       "  width: 50%;\n",
       "}\n",
       "\n",
       "#sk-container-id-2 div.sk-parallel-item:last-child::after {\n",
       "  align-self: flex-start;\n",
       "  width: 50%;\n",
       "}\n",
       "\n",
       "#sk-container-id-2 div.sk-parallel-item:only-child::after {\n",
       "  width: 0;\n",
       "}\n",
       "\n",
       "/* Serial-specific style estimator block */\n",
       "\n",
       "#sk-container-id-2 div.sk-serial {\n",
       "  display: flex;\n",
       "  flex-direction: column;\n",
       "  align-items: center;\n",
       "  background-color: var(--sklearn-color-background);\n",
       "  padding-right: 1em;\n",
       "  padding-left: 1em;\n",
       "}\n",
       "\n",
       "\n",
       "/* Toggleable style: style used for estimator/Pipeline/ColumnTransformer box that is\n",
       "clickable and can be expanded/collapsed.\n",
       "- Pipeline and ColumnTransformer use this feature and define the default style\n",
       "- Estimators will overwrite some part of the style using the `sk-estimator` class\n",
       "*/\n",
       "\n",
       "/* Pipeline and ColumnTransformer style (default) */\n",
       "\n",
       "#sk-container-id-2 div.sk-toggleable {\n",
       "  /* Default theme specific background. It is overwritten whether we have a\n",
       "  specific estimator or a Pipeline/ColumnTransformer */\n",
       "  background-color: var(--sklearn-color-background);\n",
       "}\n",
       "\n",
       "/* Toggleable label */\n",
       "#sk-container-id-2 label.sk-toggleable__label {\n",
       "  cursor: pointer;\n",
       "  display: block;\n",
       "  width: 100%;\n",
       "  margin-bottom: 0;\n",
       "  padding: 0.5em;\n",
       "  box-sizing: border-box;\n",
       "  text-align: center;\n",
       "}\n",
       "\n",
       "#sk-container-id-2 label.sk-toggleable__label-arrow:before {\n",
       "  /* Arrow on the left of the label */\n",
       "  content: \"▸\";\n",
       "  float: left;\n",
       "  margin-right: 0.25em;\n",
       "  color: var(--sklearn-color-icon);\n",
       "}\n",
       "\n",
       "#sk-container-id-2 label.sk-toggleable__label-arrow:hover:before {\n",
       "  color: var(--sklearn-color-text);\n",
       "}\n",
       "\n",
       "/* Toggleable content - dropdown */\n",
       "\n",
       "#sk-container-id-2 div.sk-toggleable__content {\n",
       "  max-height: 0;\n",
       "  max-width: 0;\n",
       "  overflow: hidden;\n",
       "  text-align: left;\n",
       "  /* unfitted */\n",
       "  background-color: var(--sklearn-color-unfitted-level-0);\n",
       "}\n",
       "\n",
       "#sk-container-id-2 div.sk-toggleable__content.fitted {\n",
       "  /* fitted */\n",
       "  background-color: var(--sklearn-color-fitted-level-0);\n",
       "}\n",
       "\n",
       "#sk-container-id-2 div.sk-toggleable__content pre {\n",
       "  margin: 0.2em;\n",
       "  border-radius: 0.25em;\n",
       "  color: var(--sklearn-color-text);\n",
       "  /* unfitted */\n",
       "  background-color: var(--sklearn-color-unfitted-level-0);\n",
       "}\n",
       "\n",
       "#sk-container-id-2 div.sk-toggleable__content.fitted pre {\n",
       "  /* unfitted */\n",
       "  background-color: var(--sklearn-color-fitted-level-0);\n",
       "}\n",
       "\n",
       "#sk-container-id-2 input.sk-toggleable__control:checked~div.sk-toggleable__content {\n",
       "  /* Expand drop-down */\n",
       "  max-height: 200px;\n",
       "  max-width: 100%;\n",
       "  overflow: auto;\n",
       "}\n",
       "\n",
       "#sk-container-id-2 input.sk-toggleable__control:checked~label.sk-toggleable__label-arrow:before {\n",
       "  content: \"▾\";\n",
       "}\n",
       "\n",
       "/* Pipeline/ColumnTransformer-specific style */\n",
       "\n",
       "#sk-container-id-2 div.sk-label input.sk-toggleable__control:checked~label.sk-toggleable__label {\n",
       "  color: var(--sklearn-color-text);\n",
       "  background-color: var(--sklearn-color-unfitted-level-2);\n",
       "}\n",
       "\n",
       "#sk-container-id-2 div.sk-label.fitted input.sk-toggleable__control:checked~label.sk-toggleable__label {\n",
       "  background-color: var(--sklearn-color-fitted-level-2);\n",
       "}\n",
       "\n",
       "/* Estimator-specific style */\n",
       "\n",
       "/* Colorize estimator box */\n",
       "#sk-container-id-2 div.sk-estimator input.sk-toggleable__control:checked~label.sk-toggleable__label {\n",
       "  /* unfitted */\n",
       "  background-color: var(--sklearn-color-unfitted-level-2);\n",
       "}\n",
       "\n",
       "#sk-container-id-2 div.sk-estimator.fitted input.sk-toggleable__control:checked~label.sk-toggleable__label {\n",
       "  /* fitted */\n",
       "  background-color: var(--sklearn-color-fitted-level-2);\n",
       "}\n",
       "\n",
       "#sk-container-id-2 div.sk-label label.sk-toggleable__label,\n",
       "#sk-container-id-2 div.sk-label label {\n",
       "  /* The background is the default theme color */\n",
       "  color: var(--sklearn-color-text-on-default-background);\n",
       "}\n",
       "\n",
       "/* On hover, darken the color of the background */\n",
       "#sk-container-id-2 div.sk-label:hover label.sk-toggleable__label {\n",
       "  color: var(--sklearn-color-text);\n",
       "  background-color: var(--sklearn-color-unfitted-level-2);\n",
       "}\n",
       "\n",
       "/* Label box, darken color on hover, fitted */\n",
       "#sk-container-id-2 div.sk-label.fitted:hover label.sk-toggleable__label.fitted {\n",
       "  color: var(--sklearn-color-text);\n",
       "  background-color: var(--sklearn-color-fitted-level-2);\n",
       "}\n",
       "\n",
       "/* Estimator label */\n",
       "\n",
       "#sk-container-id-2 div.sk-label label {\n",
       "  font-family: monospace;\n",
       "  font-weight: bold;\n",
       "  display: inline-block;\n",
       "  line-height: 1.2em;\n",
       "}\n",
       "\n",
       "#sk-container-id-2 div.sk-label-container {\n",
       "  text-align: center;\n",
       "}\n",
       "\n",
       "/* Estimator-specific */\n",
       "#sk-container-id-2 div.sk-estimator {\n",
       "  font-family: monospace;\n",
       "  border: 1px dotted var(--sklearn-color-border-box);\n",
       "  border-radius: 0.25em;\n",
       "  box-sizing: border-box;\n",
       "  margin-bottom: 0.5em;\n",
       "  /* unfitted */\n",
       "  background-color: var(--sklearn-color-unfitted-level-0);\n",
       "}\n",
       "\n",
       "#sk-container-id-2 div.sk-estimator.fitted {\n",
       "  /* fitted */\n",
       "  background-color: var(--sklearn-color-fitted-level-0);\n",
       "}\n",
       "\n",
       "/* on hover */\n",
       "#sk-container-id-2 div.sk-estimator:hover {\n",
       "  /* unfitted */\n",
       "  background-color: var(--sklearn-color-unfitted-level-2);\n",
       "}\n",
       "\n",
       "#sk-container-id-2 div.sk-estimator.fitted:hover {\n",
       "  /* fitted */\n",
       "  background-color: var(--sklearn-color-fitted-level-2);\n",
       "}\n",
       "\n",
       "/* Specification for estimator info (e.g. \"i\" and \"?\") */\n",
       "\n",
       "/* Common style for \"i\" and \"?\" */\n",
       "\n",
       ".sk-estimator-doc-link,\n",
       "a:link.sk-estimator-doc-link,\n",
       "a:visited.sk-estimator-doc-link {\n",
       "  float: right;\n",
       "  font-size: smaller;\n",
       "  line-height: 1em;\n",
       "  font-family: monospace;\n",
       "  background-color: var(--sklearn-color-background);\n",
       "  border-radius: 1em;\n",
       "  height: 1em;\n",
       "  width: 1em;\n",
       "  text-decoration: none !important;\n",
       "  margin-left: 1ex;\n",
       "  /* unfitted */\n",
       "  border: var(--sklearn-color-unfitted-level-1) 1pt solid;\n",
       "  color: var(--sklearn-color-unfitted-level-1);\n",
       "}\n",
       "\n",
       ".sk-estimator-doc-link.fitted,\n",
       "a:link.sk-estimator-doc-link.fitted,\n",
       "a:visited.sk-estimator-doc-link.fitted {\n",
       "  /* fitted */\n",
       "  border: var(--sklearn-color-fitted-level-1) 1pt solid;\n",
       "  color: var(--sklearn-color-fitted-level-1);\n",
       "}\n",
       "\n",
       "/* On hover */\n",
       "div.sk-estimator:hover .sk-estimator-doc-link:hover,\n",
       ".sk-estimator-doc-link:hover,\n",
       "div.sk-label-container:hover .sk-estimator-doc-link:hover,\n",
       ".sk-estimator-doc-link:hover {\n",
       "  /* unfitted */\n",
       "  background-color: var(--sklearn-color-unfitted-level-3);\n",
       "  color: var(--sklearn-color-background);\n",
       "  text-decoration: none;\n",
       "}\n",
       "\n",
       "div.sk-estimator.fitted:hover .sk-estimator-doc-link.fitted:hover,\n",
       ".sk-estimator-doc-link.fitted:hover,\n",
       "div.sk-label-container:hover .sk-estimator-doc-link.fitted:hover,\n",
       ".sk-estimator-doc-link.fitted:hover {\n",
       "  /* fitted */\n",
       "  background-color: var(--sklearn-color-fitted-level-3);\n",
       "  color: var(--sklearn-color-background);\n",
       "  text-decoration: none;\n",
       "}\n",
       "\n",
       "/* Span, style for the box shown on hovering the info icon */\n",
       ".sk-estimator-doc-link span {\n",
       "  display: none;\n",
       "  z-index: 9999;\n",
       "  position: relative;\n",
       "  font-weight: normal;\n",
       "  right: .2ex;\n",
       "  padding: .5ex;\n",
       "  margin: .5ex;\n",
       "  width: min-content;\n",
       "  min-width: 20ex;\n",
       "  max-width: 50ex;\n",
       "  color: var(--sklearn-color-text);\n",
       "  box-shadow: 2pt 2pt 4pt #999;\n",
       "  /* unfitted */\n",
       "  background: var(--sklearn-color-unfitted-level-0);\n",
       "  border: .5pt solid var(--sklearn-color-unfitted-level-3);\n",
       "}\n",
       "\n",
       ".sk-estimator-doc-link.fitted span {\n",
       "  /* fitted */\n",
       "  background: var(--sklearn-color-fitted-level-0);\n",
       "  border: var(--sklearn-color-fitted-level-3);\n",
       "}\n",
       "\n",
       ".sk-estimator-doc-link:hover span {\n",
       "  display: block;\n",
       "}\n",
       "\n",
       "/* \"?\"-specific style due to the `<a>` HTML tag */\n",
       "\n",
       "#sk-container-id-2 a.estimator_doc_link {\n",
       "  float: right;\n",
       "  font-size: 1rem;\n",
       "  line-height: 1em;\n",
       "  font-family: monospace;\n",
       "  background-color: var(--sklearn-color-background);\n",
       "  border-radius: 1rem;\n",
       "  height: 1rem;\n",
       "  width: 1rem;\n",
       "  text-decoration: none;\n",
       "  /* unfitted */\n",
       "  color: var(--sklearn-color-unfitted-level-1);\n",
       "  border: var(--sklearn-color-unfitted-level-1) 1pt solid;\n",
       "}\n",
       "\n",
       "#sk-container-id-2 a.estimator_doc_link.fitted {\n",
       "  /* fitted */\n",
       "  border: var(--sklearn-color-fitted-level-1) 1pt solid;\n",
       "  color: var(--sklearn-color-fitted-level-1);\n",
       "}\n",
       "\n",
       "/* On hover */\n",
       "#sk-container-id-2 a.estimator_doc_link:hover {\n",
       "  /* unfitted */\n",
       "  background-color: var(--sklearn-color-unfitted-level-3);\n",
       "  color: var(--sklearn-color-background);\n",
       "  text-decoration: none;\n",
       "}\n",
       "\n",
       "#sk-container-id-2 a.estimator_doc_link.fitted:hover {\n",
       "  /* fitted */\n",
       "  background-color: var(--sklearn-color-fitted-level-3);\n",
       "}\n",
       "</style><div id=\"sk-container-id-2\" class=\"sk-top-container\"><div class=\"sk-text-repr-fallback\"><pre>PolynomialFeatures()</pre><b>In a Jupyter environment, please rerun this cell to show the HTML representation or trust the notebook. <br />On GitHub, the HTML representation is unable to render, please try loading this page with nbviewer.org.</b></div><div class=\"sk-container\" hidden><div class=\"sk-item\"><div class=\"sk-estimator  sk-toggleable\"><input class=\"sk-toggleable__control sk-hidden--visually\" id=\"sk-estimator-id-2\" type=\"checkbox\" checked><label for=\"sk-estimator-id-2\" class=\"sk-toggleable__label  sk-toggleable__label-arrow \">&nbsp;&nbsp;PolynomialFeatures<a class=\"sk-estimator-doc-link \" rel=\"noreferrer\" target=\"_blank\" href=\"https://scikit-learn.org/1.4/modules/generated/sklearn.preprocessing.PolynomialFeatures.html\">?<span>Documentation for PolynomialFeatures</span></a><span class=\"sk-estimator-doc-link \">i<span>Not fitted</span></span></label><div class=\"sk-toggleable__content \"><pre>PolynomialFeatures()</pre></div> </div></div></div></div>"
      ],
      "text/plain": [
       "PolynomialFeatures()"
      ]
     },
     "execution_count": 21,
     "metadata": {},
     "output_type": "execute_result"
    }
   ],
   "source": [
    "poly = PolynomialFeatures(degree=2,include_bias=True)\n",
    "poly"
   ]
  },
  {
   "cell_type": "code",
   "execution_count": 27,
   "id": "f47b032d-47d0-4253-8ea4-284e6a13feba",
   "metadata": {},
   "outputs": [
    {
     "data": {
      "text/plain": [
       "array([[ 0.5234185 ],\n",
       "       [-0.22711744],\n",
       "       [ 0.78076433],\n",
       "       [ 1.14847022],\n",
       "       [-0.8191183 ],\n",
       "       [-2.57847935],\n",
       "       [ 1.31181725],\n",
       "       [ 2.61488187],\n",
       "       [ 2.26500805],\n",
       "       [-2.37339194],\n",
       "       [ 0.4775503 ],\n",
       "       [-2.65503898],\n",
       "       [-1.88522026],\n",
       "       [-2.34872377],\n",
       "       [ 2.29716245],\n",
       "       [-0.12126814],\n",
       "       [-1.78705138],\n",
       "       [ 0.54414184],\n",
       "       [-1.16901112],\n",
       "       [ 0.37722673],\n",
       "       [ 1.54176979],\n",
       "       [-2.22965817],\n",
       "       [ 2.59139997],\n",
       "       [ 1.88042192],\n",
       "       [-0.52606557],\n",
       "       [ 1.10464327],\n",
       "       [ 2.82808854],\n",
       "       [ 2.50935337],\n",
       "       [ 2.14779036],\n",
       "       [-1.38008192],\n",
       "       [ 1.24534235],\n",
       "       [ 1.99497008],\n",
       "       [-2.37978463],\n",
       "       [-0.81252394],\n",
       "       [ 2.06420876],\n",
       "       [ 0.63582307],\n",
       "       [ 1.58299711],\n",
       "       [ 2.62002137],\n",
       "       [ 2.85728837],\n",
       "       [ 2.97630859],\n",
       "       [-2.67729547],\n",
       "       [-2.90371746],\n",
       "       [-2.18669076],\n",
       "       [ 0.11735273],\n",
       "       [ 2.39616423],\n",
       "       [ 0.20201846],\n",
       "       [ 0.47770086],\n",
       "       [ 0.28534381],\n",
       "       [-2.37356965],\n",
       "       [ 0.03454588],\n",
       "       [-0.30926385],\n",
       "       [ 0.43653517],\n",
       "       [ 1.2454443 ],\n",
       "       [-2.49540614],\n",
       "       [ 1.33251155],\n",
       "       [ 2.03964284],\n",
       "       [ 2.12740204],\n",
       "       [-0.079682  ],\n",
       "       [-0.03809317],\n",
       "       [-2.56430204],\n",
       "       [-1.23512989],\n",
       "       [-2.84539065],\n",
       "       [ 1.83476362],\n",
       "       [-1.08477591],\n",
       "       [-0.02219722],\n",
       "       [ 2.23718259],\n",
       "       [-1.19906985],\n",
       "       [ 0.62834441],\n",
       "       [ 1.36468523],\n",
       "       [-1.15062903],\n",
       "       [ 2.71143802],\n",
       "       [-2.16986789],\n",
       "       [-0.2510472 ],\n",
       "       [ 1.91705197],\n",
       "       [ 1.45632146],\n",
       "       [-2.36774622],\n",
       "       [ 1.0186482 ],\n",
       "       [ 2.10013601],\n",
       "       [ 1.54805199],\n",
       "       [ 2.03490668],\n",
       "       [-0.97247372],\n",
       "       [-1.9926618 ],\n",
       "       [ 2.15837883],\n",
       "       [ 2.16981346],\n",
       "       [ 0.87402519],\n",
       "       [ 1.53773749],\n",
       "       [ 1.53685668],\n",
       "       [-2.8497291 ],\n",
       "       [-2.68546364],\n",
       "       [ 2.89415557],\n",
       "       [ 0.74736018],\n",
       "       [-2.96601347],\n",
       "       [-0.68017852],\n",
       "       [ 1.29024113],\n",
       "       [ 1.30094408],\n",
       "       [-2.10128356],\n",
       "       [ 2.5049846 ],\n",
       "       [-0.60068403],\n",
       "       [ 2.59479159],\n",
       "       [ 2.40970872],\n",
       "       [-0.7562896 ],\n",
       "       [-1.60921473],\n",
       "       [-1.07157499],\n",
       "       [ 1.37010409],\n",
       "       [ 2.82021011],\n",
       "       [ 2.66878016],\n",
       "       [-1.0404872 ],\n",
       "       [-0.55855689],\n",
       "       [ 2.93030673],\n",
       "       [ 0.11145592],\n",
       "       [ 0.39248581],\n",
       "       [ 1.90876754],\n",
       "       [ 1.45657611],\n",
       "       [-0.74109083],\n",
       "       [ 1.41833053],\n",
       "       [ 0.60965879],\n",
       "       [-0.6717804 ],\n",
       "       [-1.35862814],\n",
       "       [ 2.54889724],\n",
       "       [ 1.13277485],\n",
       "       [-0.69171417],\n",
       "       [ 1.95556913],\n",
       "       [ 0.0942731 ],\n",
       "       [ 1.1418278 ],\n",
       "       [ 2.7151461 ],\n",
       "       [-0.22584344],\n",
       "       [ 1.25147228],\n",
       "       [ 2.55920912],\n",
       "       [-0.43292865],\n",
       "       [ 2.46368839],\n",
       "       [ 0.83510194],\n",
       "       [ 0.68620537],\n",
       "       [ 2.27028747],\n",
       "       [ 2.29484419],\n",
       "       [-2.67433812],\n",
       "       [-2.28257335],\n",
       "       [ 1.95418849],\n",
       "       [ 2.71655847],\n",
       "       [-2.93642911],\n",
       "       [ 1.54357742],\n",
       "       [-1.83542598],\n",
       "       [ 1.86145617],\n",
       "       [ 2.98576313],\n",
       "       [ 1.0648081 ],\n",
       "       [ 0.55536392],\n",
       "       [-0.0176477 ],\n",
       "       [-0.34669705],\n",
       "       [-0.3273869 ],\n",
       "       [ 2.09676729],\n",
       "       [ 1.55687982],\n",
       "       [-0.6420825 ],\n",
       "       [-1.234327  ],\n",
       "       [ 1.26979505],\n",
       "       [-0.52517509],\n",
       "       [-0.08045288],\n",
       "       [-2.498011  ],\n",
       "       [-1.26341292],\n",
       "       [ 2.29863832],\n",
       "       [-0.33975127],\n",
       "       [-0.32013327]])"
      ]
     },
     "execution_count": 27,
     "metadata": {},
     "output_type": "execute_result"
    }
   ],
   "source": [
    "x_train"
   ]
  },
  {
   "cell_type": "code",
   "execution_count": 29,
   "id": "603a2a94-4567-4b94-97c4-043b98894c31",
   "metadata": {},
   "outputs": [
    {
     "data": {
      "text/plain": [
       "(160, 1)"
      ]
     },
     "execution_count": 29,
     "metadata": {},
     "output_type": "execute_result"
    }
   ],
   "source": [
    "x_train.shape"
   ]
  },
  {
   "attachments": {
    "1d769b2b-dae8-432b-8edf-fb8133f655f3.png": {
     "image/png": "[encoded data removed]"
    },
    "5883700b-fae5-4542-ba99-c8e719107e16.png": {
     "image/png": "[encoded data removed]"
    }
   },
   "cell_type": "markdown",
   "id": "add77a10-419d-4735-878a-5a94fffb7dc1",
   "metadata": {},
   "source": [
    "![image.png](attachment:5883700b-fae5-4542-ba99-c8e719107e16.png)\n",
    "![image.png](attachment:1d769b2b-dae8-432b-8edf-fb8133f655f3.png)"
   ]
  },
  {
   "cell_type": "code",
   "execution_count": 33,
   "id": "3827b899-b878-47ea-b8be-24b535382a90",
   "metadata": {},
   "outputs": [
    {
     "data": {
      "text/plain": [
       "array([[ 1.00000000e+00,  5.23418503e-01,  2.73966929e-01],\n",
       "       [ 1.00000000e+00, -2.27117445e-01,  5.15823337e-02],\n",
       "       [ 1.00000000e+00,  7.80764325e-01,  6.09592932e-01],\n",
       "       [ 1.00000000e+00,  1.14847022e+00,  1.31898385e+00],\n",
       "       [ 1.00000000e+00, -8.19118299e-01,  6.70954788e-01],\n",
       "       [ 1.00000000e+00, -2.57847935e+00,  6.64855576e+00],\n",
       "       [ 1.00000000e+00,  1.31181725e+00,  1.72086450e+00],\n",
       "       [ 1.00000000e+00,  2.61488187e+00,  6.83760721e+00],\n",
       "       [ 1.00000000e+00,  2.26500805e+00,  5.13026145e+00],\n",
       "       [ 1.00000000e+00, -2.37339194e+00,  5.63298931e+00],\n",
       "       [ 1.00000000e+00,  4.77550303e-01,  2.28054292e-01],\n",
       "       [ 1.00000000e+00, -2.65503898e+00,  7.04923198e+00],\n",
       "       [ 1.00000000e+00, -1.88522026e+00,  3.55405545e+00],\n",
       "       [ 1.00000000e+00, -2.34872377e+00,  5.51650336e+00],\n",
       "       [ 1.00000000e+00,  2.29716245e+00,  5.27695531e+00],\n",
       "       [ 1.00000000e+00, -1.21268141e-01,  1.47059619e-02],\n",
       "       [ 1.00000000e+00, -1.78705138e+00,  3.19355262e+00],\n",
       "       [ 1.00000000e+00,  5.44141839e-01,  2.96090341e-01],\n",
       "       [ 1.00000000e+00, -1.16901112e+00,  1.36658699e+00],\n",
       "       [ 1.00000000e+00,  3.77226727e-01,  1.42300004e-01],\n",
       "       [ 1.00000000e+00,  1.54176979e+00,  2.37705409e+00],\n",
       "       [ 1.00000000e+00, -2.22965817e+00,  4.97137555e+00],\n",
       "       [ 1.00000000e+00,  2.59139997e+00,  6.71535380e+00],\n",
       "       [ 1.00000000e+00,  1.88042192e+00,  3.53598658e+00],\n",
       "       [ 1.00000000e+00, -5.26065569e-01,  2.76744982e-01],\n",
       "       [ 1.00000000e+00,  1.10464327e+00,  1.22023676e+00],\n",
       "       [ 1.00000000e+00,  2.82808854e+00,  7.99808476e+00],\n",
       "       [ 1.00000000e+00,  2.50935337e+00,  6.29685432e+00],\n",
       "       [ 1.00000000e+00,  2.14779036e+00,  4.61300342e+00],\n",
       "       [ 1.00000000e+00, -1.38008192e+00,  1.90462611e+00],\n",
       "       [ 1.00000000e+00,  1.24534235e+00,  1.55087758e+00],\n",
       "       [ 1.00000000e+00,  1.99497008e+00,  3.97990564e+00],\n",
       "       [ 1.00000000e+00, -2.37978463e+00,  5.66337488e+00],\n",
       "       [ 1.00000000e+00, -8.12523941e-01,  6.60195154e-01],\n",
       "       [ 1.00000000e+00,  2.06420876e+00,  4.26095782e+00],\n",
       "       [ 1.00000000e+00,  6.35823070e-01,  4.04270976e-01],\n",
       "       [ 1.00000000e+00,  1.58299711e+00,  2.50587986e+00],\n",
       "       [ 1.00000000e+00,  2.62002137e+00,  6.86451199e+00],\n",
       "       [ 1.00000000e+00,  2.85728837e+00,  8.16409682e+00],\n",
       "       [ 1.00000000e+00,  2.97630859e+00,  8.85841283e+00],\n",
       "       [ 1.00000000e+00, -2.67729547e+00,  7.16791105e+00],\n",
       "       [ 1.00000000e+00, -2.90371746e+00,  8.43157508e+00],\n",
       "       [ 1.00000000e+00, -2.18669076e+00,  4.78161648e+00],\n",
       "       [ 1.00000000e+00,  1.17352726e-01,  1.37716623e-02],\n",
       "       [ 1.00000000e+00,  2.39616423e+00,  5.74160300e+00],\n",
       "       [ 1.00000000e+00,  2.02018459e-01,  4.08114577e-02],\n",
       "       [ 1.00000000e+00,  4.77700858e-01,  2.28198110e-01],\n",
       "       [ 1.00000000e+00,  2.85343808e-01,  8.14210885e-02],\n",
       "       [ 1.00000000e+00, -2.37356965e+00,  5.63383286e+00],\n",
       "       [ 1.00000000e+00,  3.45458836e-02,  1.19341807e-03],\n",
       "       [ 1.00000000e+00, -3.09263855e-01,  9.56441319e-02],\n",
       "       [ 1.00000000e+00,  4.36535168e-01,  1.90562953e-01],\n",
       "       [ 1.00000000e+00,  1.24544430e+00,  1.55113150e+00],\n",
       "       [ 1.00000000e+00, -2.49540614e+00,  6.22705179e+00],\n",
       "       [ 1.00000000e+00,  1.33251155e+00,  1.77558702e+00],\n",
       "       [ 1.00000000e+00,  2.03964284e+00,  4.16014292e+00],\n",
       "       [ 1.00000000e+00,  2.12740204e+00,  4.52583943e+00],\n",
       "       [ 1.00000000e+00, -7.96819957e-02,  6.34922044e-03],\n",
       "       [ 1.00000000e+00, -3.80931684e-02,  1.45108948e-03],\n",
       "       [ 1.00000000e+00, -2.56430204e+00,  6.57564493e+00],\n",
       "       [ 1.00000000e+00, -1.23512989e+00,  1.52554585e+00],\n",
       "       [ 1.00000000e+00, -2.84539065e+00,  8.09624795e+00],\n",
       "       [ 1.00000000e+00,  1.83476362e+00,  3.36635755e+00],\n",
       "       [ 1.00000000e+00, -1.08477591e+00,  1.17673878e+00],\n",
       "       [ 1.00000000e+00, -2.21972189e-02,  4.92716528e-04],\n",
       "       [ 1.00000000e+00,  2.23718259e+00,  5.00498594e+00],\n",
       "       [ 1.00000000e+00, -1.19906985e+00,  1.43776852e+00],\n",
       "       [ 1.00000000e+00,  6.28344410e-01,  3.94816698e-01],\n",
       "       [ 1.00000000e+00,  1.36468523e+00,  1.86236577e+00],\n",
       "       [ 1.00000000e+00, -1.15062903e+00,  1.32394716e+00],\n",
       "       [ 1.00000000e+00,  2.71143802e+00,  7.35189614e+00],\n",
       "       [ 1.00000000e+00, -2.16986789e+00,  4.70832666e+00],\n",
       "       [ 1.00000000e+00, -2.51047204e-01,  6.30246986e-02],\n",
       "       [ 1.00000000e+00,  1.91705197e+00,  3.67508827e+00],\n",
       "       [ 1.00000000e+00,  1.45632146e+00,  2.12087219e+00],\n",
       "       [ 1.00000000e+00, -2.36774622e+00,  5.60622217e+00],\n",
       "       [ 1.00000000e+00,  1.01864820e+00,  1.03764416e+00],\n",
       "       [ 1.00000000e+00,  2.10013601e+00,  4.41057127e+00],\n",
       "       [ 1.00000000e+00,  1.54805199e+00,  2.39646495e+00],\n",
       "       [ 1.00000000e+00,  2.03490668e+00,  4.14084518e+00],\n",
       "       [ 1.00000000e+00, -9.72473721e-01,  9.45705138e-01],\n",
       "       [ 1.00000000e+00, -1.99266180e+00,  3.97070103e+00],\n",
       "       [ 1.00000000e+00,  2.15837883e+00,  4.65859918e+00],\n",
       "       [ 1.00000000e+00,  2.16981346e+00,  4.70809045e+00],\n",
       "       [ 1.00000000e+00,  8.74025191e-01,  7.63920035e-01],\n",
       "       [ 1.00000000e+00,  1.53773749e+00,  2.36463660e+00],\n",
       "       [ 1.00000000e+00,  1.53685668e+00,  2.36192845e+00],\n",
       "       [ 1.00000000e+00, -2.84972910e+00,  8.12095597e+00],\n",
       "       [ 1.00000000e+00, -2.68546364e+00,  7.21171497e+00],\n",
       "       [ 1.00000000e+00,  2.89415557e+00,  8.37613649e+00],\n",
       "       [ 1.00000000e+00,  7.47360183e-01,  5.58547243e-01],\n",
       "       [ 1.00000000e+00, -2.96601347e+00,  8.79723589e+00],\n",
       "       [ 1.00000000e+00, -6.80178524e-01,  4.62642824e-01],\n",
       "       [ 1.00000000e+00,  1.29024113e+00,  1.66472216e+00],\n",
       "       [ 1.00000000e+00,  1.30094408e+00,  1.69245551e+00],\n",
       "       [ 1.00000000e+00, -2.10128356e+00,  4.41539260e+00],\n",
       "       [ 1.00000000e+00,  2.50498460e+00,  6.27494783e+00],\n",
       "       [ 1.00000000e+00, -6.00684028e-01,  3.60821301e-01],\n",
       "       [ 1.00000000e+00,  2.59479159e+00,  6.73294339e+00],\n",
       "       [ 1.00000000e+00,  2.40970872e+00,  5.80669609e+00],\n",
       "       [ 1.00000000e+00, -7.56289595e-01,  5.71973952e-01],\n",
       "       [ 1.00000000e+00, -1.60921473e+00,  2.58957205e+00],\n",
       "       [ 1.00000000e+00, -1.07157499e+00,  1.14827295e+00],\n",
       "       [ 1.00000000e+00,  1.37010409e+00,  1.87718523e+00],\n",
       "       [ 1.00000000e+00,  2.82021011e+00,  7.95358508e+00],\n",
       "       [ 1.00000000e+00,  2.66878016e+00,  7.12238755e+00],\n",
       "       [ 1.00000000e+00, -1.04048720e+00,  1.08261361e+00],\n",
       "       [ 1.00000000e+00, -5.58556889e-01,  3.11985798e-01],\n",
       "       [ 1.00000000e+00,  2.93030673e+00,  8.58669752e+00],\n",
       "       [ 1.00000000e+00,  1.11455924e-01,  1.24224230e-02],\n",
       "       [ 1.00000000e+00,  3.92485814e-01,  1.54045114e-01],\n",
       "       [ 1.00000000e+00,  1.90876754e+00,  3.64339354e+00],\n",
       "       [ 1.00000000e+00,  1.45657611e+00,  2.12161395e+00],\n",
       "       [ 1.00000000e+00, -7.41090827e-01,  5.49215613e-01],\n",
       "       [ 1.00000000e+00,  1.41833053e+00,  2.01166148e+00],\n",
       "       [ 1.00000000e+00,  6.09658792e-01,  3.71683843e-01],\n",
       "       [ 1.00000000e+00, -6.71780402e-01,  4.51288909e-01],\n",
       "       [ 1.00000000e+00, -1.35862814e+00,  1.84587043e+00],\n",
       "       [ 1.00000000e+00,  2.54889724e+00,  6.49687712e+00],\n",
       "       [ 1.00000000e+00,  1.13277485e+00,  1.28317885e+00],\n",
       "       [ 1.00000000e+00, -6.91714167e-01,  4.78468488e-01],\n",
       "       [ 1.00000000e+00,  1.95556913e+00,  3.82425064e+00],\n",
       "       [ 1.00000000e+00,  9.42730965e-02,  8.88741673e-03],\n",
       "       [ 1.00000000e+00,  1.14182780e+00,  1.30377072e+00],\n",
       "       [ 1.00000000e+00,  2.71514610e+00,  7.37201835e+00],\n",
       "       [ 1.00000000e+00, -2.25843438e-01,  5.10052583e-02],\n",
       "       [ 1.00000000e+00,  1.25147228e+00,  1.56618287e+00],\n",
       "       [ 1.00000000e+00,  2.55920912e+00,  6.54955132e+00],\n",
       "       [ 1.00000000e+00, -4.32928651e-01,  1.87427217e-01],\n",
       "       [ 1.00000000e+00,  2.46368839e+00,  6.06976047e+00],\n",
       "       [ 1.00000000e+00,  8.35101936e-01,  6.97395243e-01],\n",
       "       [ 1.00000000e+00,  6.86205373e-01,  4.70877814e-01],\n",
       "       [ 1.00000000e+00,  2.27028747e+00,  5.15420519e+00],\n",
       "       [ 1.00000000e+00,  2.29484419e+00,  5.26630986e+00],\n",
       "       [ 1.00000000e+00, -2.67433812e+00,  7.15208440e+00],\n",
       "       [ 1.00000000e+00, -2.28257335e+00,  5.21014108e+00],\n",
       "       [ 1.00000000e+00,  1.95418849e+00,  3.81885267e+00],\n",
       "       [ 1.00000000e+00,  2.71655847e+00,  7.37968994e+00],\n",
       "       [ 1.00000000e+00, -2.93642911e+00,  8.62261590e+00],\n",
       "       [ 1.00000000e+00,  1.54357742e+00,  2.38263124e+00],\n",
       "       [ 1.00000000e+00, -1.83542598e+00,  3.36878851e+00],\n",
       "       [ 1.00000000e+00,  1.86145617e+00,  3.46501907e+00],\n",
       "       [ 1.00000000e+00,  2.98576313e+00,  8.91478146e+00],\n",
       "       [ 1.00000000e+00,  1.06480810e+00,  1.13381629e+00],\n",
       "       [ 1.00000000e+00,  5.55363917e-01,  3.08429080e-01],\n",
       "       [ 1.00000000e+00, -1.76476998e-02,  3.11441309e-04],\n",
       "       [ 1.00000000e+00, -3.46697047e-01,  1.20198842e-01],\n",
       "       [ 1.00000000e+00, -3.27386902e-01,  1.07182184e-01],\n",
       "       [ 1.00000000e+00,  2.09676729e+00,  4.39643306e+00],\n",
       "       [ 1.00000000e+00,  1.55687982e+00,  2.42387478e+00],\n",
       "       [ 1.00000000e+00, -6.42082496e-01,  4.12269931e-01],\n",
       "       [ 1.00000000e+00, -1.23432700e+00,  1.52356315e+00],\n",
       "       [ 1.00000000e+00,  1.26979505e+00,  1.61237947e+00],\n",
       "       [ 1.00000000e+00, -5.25175086e-01,  2.75808871e-01],\n",
       "       [ 1.00000000e+00, -8.04528795e-02,  6.47266582e-03],\n",
       "       [ 1.00000000e+00, -2.49801100e+00,  6.24005894e+00],\n",
       "       [ 1.00000000e+00, -1.26341292e+00,  1.59621222e+00],\n",
       "       [ 1.00000000e+00,  2.29863832e+00,  5.28373811e+00],\n",
       "       [ 1.00000000e+00, -3.39751273e-01,  1.15430927e-01],\n",
       "       [ 1.00000000e+00, -3.20133272e-01,  1.02485312e-01]])"
      ]
     },
     "execution_count": 33,
     "metadata": {},
     "output_type": "execute_result"
    }
   ],
   "source": [
    "x_train_trans = poly.fit_transform(x_train)\n",
    "x_train_trans"
   ]
  },
  {
   "cell_type": "code",
   "execution_count": 37,
   "id": "85fe5282-4331-4c71-8913-1b6a527b0e7d",
   "metadata": {},
   "outputs": [
    {
     "data": {
      "text/plain": [
       "(160, 3)"
      ]
     },
     "execution_count": 37,
     "metadata": {},
     "output_type": "execute_result"
    }
   ],
   "source": [
    "x_train_trans.shape"
   ]
  },
  {
   "cell_type": "code",
   "execution_count": 25,
   "id": "b46d4226-1889-4cab-baca-99feafd0df8d",
   "metadata": {},
   "outputs": [
    {
     "data": {
      "text/plain": [
       "array([[ 1.        , -2.55502226,  6.52813877],\n",
       "       [ 1.        , -2.80821047,  7.88604602],\n",
       "       [ 1.        , -2.67510531,  7.15618843],\n",
       "       [ 1.        , -2.0342584 ,  4.13820724],\n",
       "       [ 1.        , -1.3039999 ,  1.70041575],\n",
       "       [ 1.        ,  0.68637954,  0.47111688],\n",
       "       [ 1.        ,  1.37999285,  1.90438026],\n",
       "       [ 1.        ,  1.62803834,  2.65050882],\n",
       "       [ 1.        , -1.90383893,  3.62460266],\n",
       "       [ 1.        ,  2.86769309,  8.22366365],\n",
       "       [ 1.        , -1.27398118,  1.62302806],\n",
       "       [ 1.        , -2.00200429,  4.00802118],\n",
       "       [ 1.        , -0.87967349,  0.77382544],\n",
       "       [ 1.        ,  1.04878136,  1.09994234],\n",
       "       [ 1.        ,  1.97596246,  3.90442764],\n",
       "       [ 1.        , -1.48787559,  2.21377377],\n",
       "       [ 1.        ,  2.97495311,  8.85034599],\n",
       "       [ 1.        , -0.345802  ,  0.11957902],\n",
       "       [ 1.        ,  1.17682272,  1.38491172],\n",
       "       [ 1.        , -1.75551858,  3.08184548],\n",
       "       [ 1.        , -1.22289045,  1.49546105],\n",
       "       [ 1.        , -2.30268215,  5.3023451 ],\n",
       "       [ 1.        , -0.83879575,  0.70357831],\n",
       "       [ 1.        ,  1.94744908,  3.79255791],\n",
       "       [ 1.        , -1.8501704 ,  3.4231305 ],\n",
       "       [ 1.        , -1.50983843,  2.27961209],\n",
       "       [ 1.        ,  2.68845043,  7.2277657 ],\n",
       "       [ 1.        ,  1.3249783 ,  1.75556751],\n",
       "       [ 1.        ,  0.64244789,  0.41273929],\n",
       "       [ 1.        , -0.22466733,  0.05047541],\n",
       "       [ 1.        , -1.73131127,  2.99743872],\n",
       "       [ 1.        , -1.3020448 ,  1.69532065],\n",
       "       [ 1.        , -0.87306368,  0.76224018],\n",
       "       [ 1.        , -1.33267143,  1.77601314],\n",
       "       [ 1.        ,  1.60220977,  2.56707615],\n",
       "       [ 1.        ,  1.17749701,  1.3864992 ],\n",
       "       [ 1.        , -0.90234134,  0.81421989],\n",
       "       [ 1.        ,  0.46910578,  0.22006023],\n",
       "       [ 1.        , -0.16318929,  0.02663074],\n",
       "       [ 1.        ,  0.50782461,  0.25788584]])"
      ]
     },
     "execution_count": 25,
     "metadata": {},
     "output_type": "execute_result"
    }
   ],
   "source": [
    "x_test_trans = poly.transform(x_test)\n",
    "x_test_trans"
   ]
  },
  {
   "cell_type": "code",
   "execution_count": 35,
   "id": "23b8b8bf-97ab-4c9e-b42f-521e903e77c0",
   "metadata": {},
   "outputs": [
    {
     "data": {
      "text/plain": [
       "(40, 3)"
      ]
     },
     "execution_count": 35,
     "metadata": {},
     "output_type": "execute_result"
    }
   ],
   "source": [
    "x_test_trans.shape"
   ]
  },
  {
   "cell_type": "code",
   "execution_count": 40,
   "id": "90213f7d-5118-4104-9b8a-355ea7e7fe37",
   "metadata": {},
   "outputs": [
    {
     "name": "stdout",
     "output_type": "stream",
     "text": [
      "[0.5234185]\n",
      "[1.         0.5234185  0.27396693]\n"
     ]
    }
   ],
   "source": [
    "print(x_train[0])\n",
    "print(x_train_trans[0])"
   ]
  },
  {
   "attachments": {
    "7cbb8580-b24b-41cb-88a4-3fdb1909434e.png": {
     "image/png": "[encoded data removed]"
    }
   },
   "cell_type": "markdown",
   "id": "d732b33c-5099-47fa-a1bc-5e4def801f1c",
   "metadata": {},
   "source": [
    "![image.png](attachment:7cbb8580-b24b-41cb-88a4-3fdb1909434e.png)"
   ]
  },
  {
   "cell_type": "code",
   "execution_count": 42,
   "id": "aef2984b-aafa-4ab2-85cb-a5ca308ccbb2",
   "metadata": {},
   "outputs": [
    {
     "data": {
      "text/html": [
       "<style>#sk-container-id-3 {\n",
       "  /* Definition of color scheme common for light and dark mode */\n",
       "  --sklearn-color-text: black;\n",
       "  --sklearn-color-line: gray;\n",
       "  /* Definition of color scheme for unfitted estimators */\n",
       "  --sklearn-color-unfitted-level-0: #fff5e6;\n",
       "  --sklearn-color-unfitted-level-1: #f6e4d2;\n",
       "  --sklearn-color-unfitted-level-2: #ffe0b3;\n",
       "  --sklearn-color-unfitted-level-3: chocolate;\n",
       "  /* Definition of color scheme for fitted estimators */\n",
       "  --sklearn-color-fitted-level-0: #f0f8ff;\n",
       "  --sklearn-color-fitted-level-1: #d4ebff;\n",
       "  --sklearn-color-fitted-level-2: #b3dbfd;\n",
       "  --sklearn-color-fitted-level-3: cornflowerblue;\n",
       "\n",
       "  /* Specific color for light theme */\n",
       "  --sklearn-color-text-on-default-background: var(--sg-text-color, var(--theme-code-foreground, var(--jp-content-font-color1, black)));\n",
       "  --sklearn-color-background: var(--sg-background-color, var(--theme-background, var(--jp-layout-color0, white)));\n",
       "  --sklearn-color-border-box: var(--sg-text-color, var(--theme-code-foreground, var(--jp-content-font-color1, black)));\n",
       "  --sklearn-color-icon: #696969;\n",
       "\n",
       "  @media (prefers-color-scheme: dark) {\n",
       "    /* Redefinition of color scheme for dark theme */\n",
       "    --sklearn-color-text-on-default-background: var(--sg-text-color, var(--theme-code-foreground, var(--jp-content-font-color1, white)));\n",
       "    --sklearn-color-background: var(--sg-background-color, var(--theme-background, var(--jp-layout-color0, #111)));\n",
       "    --sklearn-color-border-box: var(--sg-text-color, var(--theme-code-foreground, var(--jp-content-font-color1, white)));\n",
       "    --sklearn-color-icon: #878787;\n",
       "  }\n",
       "}\n",
       "\n",
       "#sk-container-id-3 {\n",
       "  color: var(--sklearn-color-text);\n",
       "}\n",
       "\n",
       "#sk-container-id-3 pre {\n",
       "  padding: 0;\n",
       "}\n",
       "\n",
       "#sk-container-id-3 input.sk-hidden--visually {\n",
       "  border: 0;\n",
       "  clip: rect(1px 1px 1px 1px);\n",
       "  clip: rect(1px, 1px, 1px, 1px);\n",
       "  height: 1px;\n",
       "  margin: -1px;\n",
       "  overflow: hidden;\n",
       "  padding: 0;\n",
       "  position: absolute;\n",
       "  width: 1px;\n",
       "}\n",
       "\n",
       "#sk-container-id-3 div.sk-dashed-wrapped {\n",
       "  border: 1px dashed var(--sklearn-color-line);\n",
       "  margin: 0 0.4em 0.5em 0.4em;\n",
       "  box-sizing: border-box;\n",
       "  padding-bottom: 0.4em;\n",
       "  background-color: var(--sklearn-color-background);\n",
       "}\n",
       "\n",
       "#sk-container-id-3 div.sk-container {\n",
       "  /* jupyter's `normalize.less` sets `[hidden] { display: none; }`\n",
       "     but bootstrap.min.css set `[hidden] { display: none !important; }`\n",
       "     so we also need the `!important` here to be able to override the\n",
       "     default hidden behavior on the sphinx rendered scikit-learn.org.\n",
       "     See: https://github.com/scikit-learn/scikit-learn/issues/21755 */\n",
       "  display: inline-block !important;\n",
       "  position: relative;\n",
       "}\n",
       "\n",
       "#sk-container-id-3 div.sk-text-repr-fallback {\n",
       "  display: none;\n",
       "}\n",
       "\n",
       "div.sk-parallel-item,\n",
       "div.sk-serial,\n",
       "div.sk-item {\n",
       "  /* draw centered vertical line to link estimators */\n",
       "  background-image: linear-gradient(var(--sklearn-color-text-on-default-background), var(--sklearn-color-text-on-default-background));\n",
       "  background-size: 2px 100%;\n",
       "  background-repeat: no-repeat;\n",
       "  background-position: center center;\n",
       "}\n",
       "\n",
       "/* Parallel-specific style estimator block */\n",
       "\n",
       "#sk-container-id-3 div.sk-parallel-item::after {\n",
       "  content: \"\";\n",
       "  width: 100%;\n",
       "  border-bottom: 2px solid var(--sklearn-color-text-on-default-background);\n",
       "  flex-grow: 1;\n",
       "}\n",
       "\n",
       "#sk-container-id-3 div.sk-parallel {\n",
       "  display: flex;\n",
       "  align-items: stretch;\n",
       "  justify-content: center;\n",
       "  background-color: var(--sklearn-color-background);\n",
       "  position: relative;\n",
       "}\n",
       "\n",
       "#sk-container-id-3 div.sk-parallel-item {\n",
       "  display: flex;\n",
       "  flex-direction: column;\n",
       "}\n",
       "\n",
       "#sk-container-id-3 div.sk-parallel-item:first-child::after {\n",
       "  align-self: flex-end;\n",
       "  width: 50%;\n",
       "}\n",
       "\n",
       "#sk-container-id-3 div.sk-parallel-item:last-child::after {\n",
       "  align-self: flex-start;\n",
       "  width: 50%;\n",
       "}\n",
       "\n",
       "#sk-container-id-3 div.sk-parallel-item:only-child::after {\n",
       "  width: 0;\n",
       "}\n",
       "\n",
       "/* Serial-specific style estimator block */\n",
       "\n",
       "#sk-container-id-3 div.sk-serial {\n",
       "  display: flex;\n",
       "  flex-direction: column;\n",
       "  align-items: center;\n",
       "  background-color: var(--sklearn-color-background);\n",
       "  padding-right: 1em;\n",
       "  padding-left: 1em;\n",
       "}\n",
       "\n",
       "\n",
       "/* Toggleable style: style used for estimator/Pipeline/ColumnTransformer box that is\n",
       "clickable and can be expanded/collapsed.\n",
       "- Pipeline and ColumnTransformer use this feature and define the default style\n",
       "- Estimators will overwrite some part of the style using the `sk-estimator` class\n",
       "*/\n",
       "\n",
       "/* Pipeline and ColumnTransformer style (default) */\n",
       "\n",
       "#sk-container-id-3 div.sk-toggleable {\n",
       "  /* Default theme specific background. It is overwritten whether we have a\n",
       "  specific estimator or a Pipeline/ColumnTransformer */\n",
       "  background-color: var(--sklearn-color-background);\n",
       "}\n",
       "\n",
       "/* Toggleable label */\n",
       "#sk-container-id-3 label.sk-toggleable__label {\n",
       "  cursor: pointer;\n",
       "  display: block;\n",
       "  width: 100%;\n",
       "  margin-bottom: 0;\n",
       "  padding: 0.5em;\n",
       "  box-sizing: border-box;\n",
       "  text-align: center;\n",
       "}\n",
       "\n",
       "#sk-container-id-3 label.sk-toggleable__label-arrow:before {\n",
       "  /* Arrow on the left of the label */\n",
       "  content: \"▸\";\n",
       "  float: left;\n",
       "  margin-right: 0.25em;\n",
       "  color: var(--sklearn-color-icon);\n",
       "}\n",
       "\n",
       "#sk-container-id-3 label.sk-toggleable__label-arrow:hover:before {\n",
       "  color: var(--sklearn-color-text);\n",
       "}\n",
       "\n",
       "/* Toggleable content - dropdown */\n",
       "\n",
       "#sk-container-id-3 div.sk-toggleable__content {\n",
       "  max-height: 0;\n",
       "  max-width: 0;\n",
       "  overflow: hidden;\n",
       "  text-align: left;\n",
       "  /* unfitted */\n",
       "  background-color: var(--sklearn-color-unfitted-level-0);\n",
       "}\n",
       "\n",
       "#sk-container-id-3 div.sk-toggleable__content.fitted {\n",
       "  /* fitted */\n",
       "  background-color: var(--sklearn-color-fitted-level-0);\n",
       "}\n",
       "\n",
       "#sk-container-id-3 div.sk-toggleable__content pre {\n",
       "  margin: 0.2em;\n",
       "  border-radius: 0.25em;\n",
       "  color: var(--sklearn-color-text);\n",
       "  /* unfitted */\n",
       "  background-color: var(--sklearn-color-unfitted-level-0);\n",
       "}\n",
       "\n",
       "#sk-container-id-3 div.sk-toggleable__content.fitted pre {\n",
       "  /* unfitted */\n",
       "  background-color: var(--sklearn-color-fitted-level-0);\n",
       "}\n",
       "\n",
       "#sk-container-id-3 input.sk-toggleable__control:checked~div.sk-toggleable__content {\n",
       "  /* Expand drop-down */\n",
       "  max-height: 200px;\n",
       "  max-width: 100%;\n",
       "  overflow: auto;\n",
       "}\n",
       "\n",
       "#sk-container-id-3 input.sk-toggleable__control:checked~label.sk-toggleable__label-arrow:before {\n",
       "  content: \"▾\";\n",
       "}\n",
       "\n",
       "/* Pipeline/ColumnTransformer-specific style */\n",
       "\n",
       "#sk-container-id-3 div.sk-label input.sk-toggleable__control:checked~label.sk-toggleable__label {\n",
       "  color: var(--sklearn-color-text);\n",
       "  background-color: var(--sklearn-color-unfitted-level-2);\n",
       "}\n",
       "\n",
       "#sk-container-id-3 div.sk-label.fitted input.sk-toggleable__control:checked~label.sk-toggleable__label {\n",
       "  background-color: var(--sklearn-color-fitted-level-2);\n",
       "}\n",
       "\n",
       "/* Estimator-specific style */\n",
       "\n",
       "/* Colorize estimator box */\n",
       "#sk-container-id-3 div.sk-estimator input.sk-toggleable__control:checked~label.sk-toggleable__label {\n",
       "  /* unfitted */\n",
       "  background-color: var(--sklearn-color-unfitted-level-2);\n",
       "}\n",
       "\n",
       "#sk-container-id-3 div.sk-estimator.fitted input.sk-toggleable__control:checked~label.sk-toggleable__label {\n",
       "  /* fitted */\n",
       "  background-color: var(--sklearn-color-fitted-level-2);\n",
       "}\n",
       "\n",
       "#sk-container-id-3 div.sk-label label.sk-toggleable__label,\n",
       "#sk-container-id-3 div.sk-label label {\n",
       "  /* The background is the default theme color */\n",
       "  color: var(--sklearn-color-text-on-default-background);\n",
       "}\n",
       "\n",
       "/* On hover, darken the color of the background */\n",
       "#sk-container-id-3 div.sk-label:hover label.sk-toggleable__label {\n",
       "  color: var(--sklearn-color-text);\n",
       "  background-color: var(--sklearn-color-unfitted-level-2);\n",
       "}\n",
       "\n",
       "/* Label box, darken color on hover, fitted */\n",
       "#sk-container-id-3 div.sk-label.fitted:hover label.sk-toggleable__label.fitted {\n",
       "  color: var(--sklearn-color-text);\n",
       "  background-color: var(--sklearn-color-fitted-level-2);\n",
       "}\n",
       "\n",
       "/* Estimator label */\n",
       "\n",
       "#sk-container-id-3 div.sk-label label {\n",
       "  font-family: monospace;\n",
       "  font-weight: bold;\n",
       "  display: inline-block;\n",
       "  line-height: 1.2em;\n",
       "}\n",
       "\n",
       "#sk-container-id-3 div.sk-label-container {\n",
       "  text-align: center;\n",
       "}\n",
       "\n",
       "/* Estimator-specific */\n",
       "#sk-container-id-3 div.sk-estimator {\n",
       "  font-family: monospace;\n",
       "  border: 1px dotted var(--sklearn-color-border-box);\n",
       "  border-radius: 0.25em;\n",
       "  box-sizing: border-box;\n",
       "  margin-bottom: 0.5em;\n",
       "  /* unfitted */\n",
       "  background-color: var(--sklearn-color-unfitted-level-0);\n",
       "}\n",
       "\n",
       "#sk-container-id-3 div.sk-estimator.fitted {\n",
       "  /* fitted */\n",
       "  background-color: var(--sklearn-color-fitted-level-0);\n",
       "}\n",
       "\n",
       "/* on hover */\n",
       "#sk-container-id-3 div.sk-estimator:hover {\n",
       "  /* unfitted */\n",
       "  background-color: var(--sklearn-color-unfitted-level-2);\n",
       "}\n",
       "\n",
       "#sk-container-id-3 div.sk-estimator.fitted:hover {\n",
       "  /* fitted */\n",
       "  background-color: var(--sklearn-color-fitted-level-2);\n",
       "}\n",
       "\n",
       "/* Specification for estimator info (e.g. \"i\" and \"?\") */\n",
       "\n",
       "/* Common style for \"i\" and \"?\" */\n",
       "\n",
       ".sk-estimator-doc-link,\n",
       "a:link.sk-estimator-doc-link,\n",
       "a:visited.sk-estimator-doc-link {\n",
       "  float: right;\n",
       "  font-size: smaller;\n",
       "  line-height: 1em;\n",
       "  font-family: monospace;\n",
       "  background-color: var(--sklearn-color-background);\n",
       "  border-radius: 1em;\n",
       "  height: 1em;\n",
       "  width: 1em;\n",
       "  text-decoration: none !important;\n",
       "  margin-left: 1ex;\n",
       "  /* unfitted */\n",
       "  border: var(--sklearn-color-unfitted-level-1) 1pt solid;\n",
       "  color: var(--sklearn-color-unfitted-level-1);\n",
       "}\n",
       "\n",
       ".sk-estimator-doc-link.fitted,\n",
       "a:link.sk-estimator-doc-link.fitted,\n",
       "a:visited.sk-estimator-doc-link.fitted {\n",
       "  /* fitted */\n",
       "  border: var(--sklearn-color-fitted-level-1) 1pt solid;\n",
       "  color: var(--sklearn-color-fitted-level-1);\n",
       "}\n",
       "\n",
       "/* On hover */\n",
       "div.sk-estimator:hover .sk-estimator-doc-link:hover,\n",
       ".sk-estimator-doc-link:hover,\n",
       "div.sk-label-container:hover .sk-estimator-doc-link:hover,\n",
       ".sk-estimator-doc-link:hover {\n",
       "  /* unfitted */\n",
       "  background-color: var(--sklearn-color-unfitted-level-3);\n",
       "  color: var(--sklearn-color-background);\n",
       "  text-decoration: none;\n",
       "}\n",
       "\n",
       "div.sk-estimator.fitted:hover .sk-estimator-doc-link.fitted:hover,\n",
       ".sk-estimator-doc-link.fitted:hover,\n",
       "div.sk-label-container:hover .sk-estimator-doc-link.fitted:hover,\n",
       ".sk-estimator-doc-link.fitted:hover {\n",
       "  /* fitted */\n",
       "  background-color: var(--sklearn-color-fitted-level-3);\n",
       "  color: var(--sklearn-color-background);\n",
       "  text-decoration: none;\n",
       "}\n",
       "\n",
       "/* Span, style for the box shown on hovering the info icon */\n",
       ".sk-estimator-doc-link span {\n",
       "  display: none;\n",
       "  z-index: 9999;\n",
       "  position: relative;\n",
       "  font-weight: normal;\n",
       "  right: .2ex;\n",
       "  padding: .5ex;\n",
       "  margin: .5ex;\n",
       "  width: min-content;\n",
       "  min-width: 20ex;\n",
       "  max-width: 50ex;\n",
       "  color: var(--sklearn-color-text);\n",
       "  box-shadow: 2pt 2pt 4pt #999;\n",
       "  /* unfitted */\n",
       "  background: var(--sklearn-color-unfitted-level-0);\n",
       "  border: .5pt solid var(--sklearn-color-unfitted-level-3);\n",
       "}\n",
       "\n",
       ".sk-estimator-doc-link.fitted span {\n",
       "  /* fitted */\n",
       "  background: var(--sklearn-color-fitted-level-0);\n",
       "  border: var(--sklearn-color-fitted-level-3);\n",
       "}\n",
       "\n",
       ".sk-estimator-doc-link:hover span {\n",
       "  display: block;\n",
       "}\n",
       "\n",
       "/* \"?\"-specific style due to the `<a>` HTML tag */\n",
       "\n",
       "#sk-container-id-3 a.estimator_doc_link {\n",
       "  float: right;\n",
       "  font-size: 1rem;\n",
       "  line-height: 1em;\n",
       "  font-family: monospace;\n",
       "  background-color: var(--sklearn-color-background);\n",
       "  border-radius: 1rem;\n",
       "  height: 1rem;\n",
       "  width: 1rem;\n",
       "  text-decoration: none;\n",
       "  /* unfitted */\n",
       "  color: var(--sklearn-color-unfitted-level-1);\n",
       "  border: var(--sklearn-color-unfitted-level-1) 1pt solid;\n",
       "}\n",
       "\n",
       "#sk-container-id-3 a.estimator_doc_link.fitted {\n",
       "  /* fitted */\n",
       "  border: var(--sklearn-color-fitted-level-1) 1pt solid;\n",
       "  color: var(--sklearn-color-fitted-level-1);\n",
       "}\n",
       "\n",
       "/* On hover */\n",
       "#sk-container-id-3 a.estimator_doc_link:hover {\n",
       "  /* unfitted */\n",
       "  background-color: var(--sklearn-color-unfitted-level-3);\n",
       "  color: var(--sklearn-color-background);\n",
       "  text-decoration: none;\n",
       "}\n",
       "\n",
       "#sk-container-id-3 a.estimator_doc_link.fitted:hover {\n",
       "  /* fitted */\n",
       "  background-color: var(--sklearn-color-fitted-level-3);\n",
       "}\n",
       "</style><div id=\"sk-container-id-3\" class=\"sk-top-container\"><div class=\"sk-text-repr-fallback\"><pre>LinearRegression()</pre><b>In a Jupyter environment, please rerun this cell to show the HTML representation or trust the notebook. <br />On GitHub, the HTML representation is unable to render, please try loading this page with nbviewer.org.</b></div><div class=\"sk-container\" hidden><div class=\"sk-item\"><div class=\"sk-estimator fitted sk-toggleable\"><input class=\"sk-toggleable__control sk-hidden--visually\" id=\"sk-estimator-id-3\" type=\"checkbox\" checked><label for=\"sk-estimator-id-3\" class=\"sk-toggleable__label fitted sk-toggleable__label-arrow fitted\">&nbsp;&nbsp;LinearRegression<a class=\"sk-estimator-doc-link fitted\" rel=\"noreferrer\" target=\"_blank\" href=\"https://scikit-learn.org/1.4/modules/generated/sklearn.linear_model.LinearRegression.html\">?<span>Documentation for LinearRegression</span></a><span class=\"sk-estimator-doc-link fitted\">i<span>Fitted</span></span></label><div class=\"sk-toggleable__content fitted\"><pre>LinearRegression()</pre></div> </div></div></div></div>"
      ],
      "text/plain": [
       "LinearRegression()"
      ]
     },
     "execution_count": 42,
     "metadata": {},
     "output_type": "execute_result"
    }
   ],
   "source": [
    "lr = LinearRegression()\n",
    "lr.fit(x_train_trans,y_train)"
   ]
  },
  {
   "cell_type": "code",
   "execution_count": 45,
   "id": "094bb4bf-7064-4b77-8b57-cae405f74a2c",
   "metadata": {},
   "outputs": [
    {
     "data": {
      "text/plain": [
       "array([[ 5.09942864],\n",
       "       [ 5.97672906],\n",
       "       [ 5.50261758],\n",
       "       [ 3.62027266],\n",
       "       [ 2.28341663],\n",
       "       [ 3.01022068],\n",
       "       [ 4.76603494],\n",
       "       [ 5.58245498],\n",
       "       [ 3.31837898],\n",
       "       [11.15114736],\n",
       "       [ 2.24688254],\n",
       "       [ 3.54305571],\n",
       "       [ 1.90203253],\n",
       "       [ 3.83072821],\n",
       "       [ 6.89497027],\n",
       "       [ 2.53894448],\n",
       "       [11.74957494],\n",
       "       [ 1.83506381],\n",
       "       [ 4.17130769],\n",
       "       [ 3.00841619],\n",
       "       [ 2.18804745],\n",
       "       [ 4.3280243 ],\n",
       "       [ 1.88063983],\n",
       "       [ 6.78005525],\n",
       "       [ 3.20212151],\n",
       "       [ 2.57311447],\n",
       "       [10.19255984],\n",
       "       [ 4.59841587],\n",
       "       [ 2.92516322],\n",
       "       [ 1.88390701],\n",
       "       [ 2.96119807],\n",
       "       [ 2.2809929 ],\n",
       "       [ 1.89839058],\n",
       "       [ 2.31966926],\n",
       "       [ 5.49281014],\n",
       "       [ 4.17317129],\n",
       "       [ 1.91505796],\n",
       "       [ 2.61994755],\n",
       "       [ 1.91775683],\n",
       "       [ 2.68391557]])"
      ]
     },
     "execution_count": 45,
     "metadata": {},
     "output_type": "execute_result"
    }
   ],
   "source": [
    "y_pred = lr.predict(x_test_trans)\n",
    "y_pred"
   ]
  },
  {
   "cell_type": "code",
   "execution_count": 47,
   "id": "89378636-3969-457f-a304-a5404d3d65d7",
   "metadata": {},
   "outputs": [
    {
     "data": {
      "text/plain": [
       "0.8167320962146276"
      ]
     },
     "execution_count": 47,
     "metadata": {},
     "output_type": "execute_result"
    }
   ],
   "source": [
    "r2_score(y_test,y_pred)"
   ]
  },
  {
   "cell_type": "code",
   "execution_count": 49,
   "id": "6cf9a50d-45db-4cc1-8d77-43bfbd2de282",
   "metadata": {},
   "outputs": [
    {
     "name": "stdout",
     "output_type": "stream",
     "text": [
      "[[0.         0.86363835 0.80709744]]\n",
      "[2.03719976]\n"
     ]
    }
   ],
   "source": [
    "print(lr.coef_)\n",
    "print(lr.intercept_)"
   ]
  },
  {
   "cell_type": "code",
   "execution_count": 51,
   "id": "713aa4e3-3a09-4fbe-b429-3c03b1fa6c8d",
   "metadata": {},
   "outputs": [
    {
     "data": {
      "text/plain": [
       "array([[-3.        ],\n",
       "       [-2.96984925],\n",
       "       [-2.93969849],\n",
       "       [-2.90954774],\n",
       "       [-2.87939698],\n",
       "       [-2.84924623],\n",
       "       [-2.81909548],\n",
       "       [-2.78894472],\n",
       "       [-2.75879397],\n",
       "       [-2.72864322],\n",
       "       [-2.69849246],\n",
       "       [-2.66834171],\n",
       "       [-2.63819095],\n",
       "       [-2.6080402 ],\n",
       "       [-2.57788945],\n",
       "       [-2.54773869],\n",
       "       [-2.51758794],\n",
       "       [-2.48743719],\n",
       "       [-2.45728643],\n",
       "       [-2.42713568],\n",
       "       [-2.39698492],\n",
       "       [-2.36683417],\n",
       "       [-2.33668342],\n",
       "       [-2.30653266],\n",
       "       [-2.27638191],\n",
       "       [-2.24623116],\n",
       "       [-2.2160804 ],\n",
       "       [-2.18592965],\n",
       "       [-2.15577889],\n",
       "       [-2.12562814],\n",
       "       [-2.09547739],\n",
       "       [-2.06532663],\n",
       "       [-2.03517588],\n",
       "       [-2.00502513],\n",
       "       [-1.97487437],\n",
       "       [-1.94472362],\n",
       "       [-1.91457286],\n",
       "       [-1.88442211],\n",
       "       [-1.85427136],\n",
       "       [-1.8241206 ],\n",
       "       [-1.79396985],\n",
       "       [-1.7638191 ],\n",
       "       [-1.73366834],\n",
       "       [-1.70351759],\n",
       "       [-1.67336683],\n",
       "       [-1.64321608],\n",
       "       [-1.61306533],\n",
       "       [-1.58291457],\n",
       "       [-1.55276382],\n",
       "       [-1.52261307],\n",
       "       [-1.49246231],\n",
       "       [-1.46231156],\n",
       "       [-1.4321608 ],\n",
       "       [-1.40201005],\n",
       "       [-1.3718593 ],\n",
       "       [-1.34170854],\n",
       "       [-1.31155779],\n",
       "       [-1.28140704],\n",
       "       [-1.25125628],\n",
       "       [-1.22110553],\n",
       "       [-1.19095477],\n",
       "       [-1.16080402],\n",
       "       [-1.13065327],\n",
       "       [-1.10050251],\n",
       "       [-1.07035176],\n",
       "       [-1.04020101],\n",
       "       [-1.01005025],\n",
       "       [-0.9798995 ],\n",
       "       [-0.94974874],\n",
       "       [-0.91959799],\n",
       "       [-0.88944724],\n",
       "       [-0.85929648],\n",
       "       [-0.82914573],\n",
       "       [-0.79899497],\n",
       "       [-0.76884422],\n",
       "       [-0.73869347],\n",
       "       [-0.70854271],\n",
       "       [-0.67839196],\n",
       "       [-0.64824121],\n",
       "       [-0.61809045],\n",
       "       [-0.5879397 ],\n",
       "       [-0.55778894],\n",
       "       [-0.52763819],\n",
       "       [-0.49748744],\n",
       "       [-0.46733668],\n",
       "       [-0.43718593],\n",
       "       [-0.40703518],\n",
       "       [-0.37688442],\n",
       "       [-0.34673367],\n",
       "       [-0.31658291],\n",
       "       [-0.28643216],\n",
       "       [-0.25628141],\n",
       "       [-0.22613065],\n",
       "       [-0.1959799 ],\n",
       "       [-0.16582915],\n",
       "       [-0.13567839],\n",
       "       [-0.10552764],\n",
       "       [-0.07537688],\n",
       "       [-0.04522613],\n",
       "       [-0.01507538],\n",
       "       [ 0.01507538],\n",
       "       [ 0.04522613],\n",
       "       [ 0.07537688],\n",
       "       [ 0.10552764],\n",
       "       [ 0.13567839],\n",
       "       [ 0.16582915],\n",
       "       [ 0.1959799 ],\n",
       "       [ 0.22613065],\n",
       "       [ 0.25628141],\n",
       "       [ 0.28643216],\n",
       "       [ 0.31658291],\n",
       "       [ 0.34673367],\n",
       "       [ 0.37688442],\n",
       "       [ 0.40703518],\n",
       "       [ 0.43718593],\n",
       "       [ 0.46733668],\n",
       "       [ 0.49748744],\n",
       "       [ 0.52763819],\n",
       "       [ 0.55778894],\n",
       "       [ 0.5879397 ],\n",
       "       [ 0.61809045],\n",
       "       [ 0.64824121],\n",
       "       [ 0.67839196],\n",
       "       [ 0.70854271],\n",
       "       [ 0.73869347],\n",
       "       [ 0.76884422],\n",
       "       [ 0.79899497],\n",
       "       [ 0.82914573],\n",
       "       [ 0.85929648],\n",
       "       [ 0.88944724],\n",
       "       [ 0.91959799],\n",
       "       [ 0.94974874],\n",
       "       [ 0.9798995 ],\n",
       "       [ 1.01005025],\n",
       "       [ 1.04020101],\n",
       "       [ 1.07035176],\n",
       "       [ 1.10050251],\n",
       "       [ 1.13065327],\n",
       "       [ 1.16080402],\n",
       "       [ 1.19095477],\n",
       "       [ 1.22110553],\n",
       "       [ 1.25125628],\n",
       "       [ 1.28140704],\n",
       "       [ 1.31155779],\n",
       "       [ 1.34170854],\n",
       "       [ 1.3718593 ],\n",
       "       [ 1.40201005],\n",
       "       [ 1.4321608 ],\n",
       "       [ 1.46231156],\n",
       "       [ 1.49246231],\n",
       "       [ 1.52261307],\n",
       "       [ 1.55276382],\n",
       "       [ 1.58291457],\n",
       "       [ 1.61306533],\n",
       "       [ 1.64321608],\n",
       "       [ 1.67336683],\n",
       "       [ 1.70351759],\n",
       "       [ 1.73366834],\n",
       "       [ 1.7638191 ],\n",
       "       [ 1.79396985],\n",
       "       [ 1.8241206 ],\n",
       "       [ 1.85427136],\n",
       "       [ 1.88442211],\n",
       "       [ 1.91457286],\n",
       "       [ 1.94472362],\n",
       "       [ 1.97487437],\n",
       "       [ 2.00502513],\n",
       "       [ 2.03517588],\n",
       "       [ 2.06532663],\n",
       "       [ 2.09547739],\n",
       "       [ 2.12562814],\n",
       "       [ 2.15577889],\n",
       "       [ 2.18592965],\n",
       "       [ 2.2160804 ],\n",
       "       [ 2.24623116],\n",
       "       [ 2.27638191],\n",
       "       [ 2.30653266],\n",
       "       [ 2.33668342],\n",
       "       [ 2.36683417],\n",
       "       [ 2.39698492],\n",
       "       [ 2.42713568],\n",
       "       [ 2.45728643],\n",
       "       [ 2.48743719],\n",
       "       [ 2.51758794],\n",
       "       [ 2.54773869],\n",
       "       [ 2.57788945],\n",
       "       [ 2.6080402 ],\n",
       "       [ 2.63819095],\n",
       "       [ 2.66834171],\n",
       "       [ 2.69849246],\n",
       "       [ 2.72864322],\n",
       "       [ 2.75879397],\n",
       "       [ 2.78894472],\n",
       "       [ 2.81909548],\n",
       "       [ 2.84924623],\n",
       "       [ 2.87939698],\n",
       "       [ 2.90954774],\n",
       "       [ 2.93969849],\n",
       "       [ 2.96984925],\n",
       "       [ 3.        ]])"
      ]
     },
     "execution_count": 51,
     "metadata": {},
     "output_type": "execute_result"
    }
   ],
   "source": [
    "x_new=np.linspace(-3,3,200).reshape(200,1) # generate 200 datapoints of 200 rows and 1 col -3 se 3 k beech me\n",
    "x_new"
   ]
  },
  {
   "cell_type": "code",
   "execution_count": 53,
   "id": "ec690ac0-75b7-44b3-89b0-2a3914948d30",
   "metadata": {},
   "outputs": [
    {
     "data": {
      "text/plain": [
       "array([[ 1.00000000e+00, -3.00000000e+00,  9.00000000e+00],\n",
       "       [ 1.00000000e+00, -2.96984925e+00,  8.82000455e+00],\n",
       "       [ 1.00000000e+00, -2.93969849e+00,  8.64182723e+00],\n",
       "       [ 1.00000000e+00, -2.90954774e+00,  8.46546804e+00],\n",
       "       [ 1.00000000e+00, -2.87939698e+00,  8.29092700e+00],\n",
       "       [ 1.00000000e+00, -2.84924623e+00,  8.11820409e+00],\n",
       "       [ 1.00000000e+00, -2.81909548e+00,  7.94729931e+00],\n",
       "       [ 1.00000000e+00, -2.78894472e+00,  7.77821267e+00],\n",
       "       [ 1.00000000e+00, -2.75879397e+00,  7.61094417e+00],\n",
       "       [ 1.00000000e+00, -2.72864322e+00,  7.44549380e+00],\n",
       "       [ 1.00000000e+00, -2.69849246e+00,  7.28186157e+00],\n",
       "       [ 1.00000000e+00, -2.66834171e+00,  7.12004747e+00],\n",
       "       [ 1.00000000e+00, -2.63819095e+00,  6.96005151e+00],\n",
       "       [ 1.00000000e+00, -2.60804020e+00,  6.80187369e+00],\n",
       "       [ 1.00000000e+00, -2.57788945e+00,  6.64551400e+00],\n",
       "       [ 1.00000000e+00, -2.54773869e+00,  6.49097245e+00],\n",
       "       [ 1.00000000e+00, -2.51758794e+00,  6.33824903e+00],\n",
       "       [ 1.00000000e+00, -2.48743719e+00,  6.18734375e+00],\n",
       "       [ 1.00000000e+00, -2.45728643e+00,  6.03825661e+00],\n",
       "       [ 1.00000000e+00, -2.42713568e+00,  5.89098760e+00],\n",
       "       [ 1.00000000e+00, -2.39698492e+00,  5.74553673e+00],\n",
       "       [ 1.00000000e+00, -2.36683417e+00,  5.60190399e+00],\n",
       "       [ 1.00000000e+00, -2.33668342e+00,  5.46008939e+00],\n",
       "       [ 1.00000000e+00, -2.30653266e+00,  5.32009293e+00],\n",
       "       [ 1.00000000e+00, -2.27638191e+00,  5.18191460e+00],\n",
       "       [ 1.00000000e+00, -2.24623116e+00,  5.04555441e+00],\n",
       "       [ 1.00000000e+00, -2.21608040e+00,  4.91101235e+00],\n",
       "       [ 1.00000000e+00, -2.18592965e+00,  4.77828843e+00],\n",
       "       [ 1.00000000e+00, -2.15577889e+00,  4.64738264e+00],\n",
       "       [ 1.00000000e+00, -2.12562814e+00,  4.51829499e+00],\n",
       "       [ 1.00000000e+00, -2.09547739e+00,  4.39102548e+00],\n",
       "       [ 1.00000000e+00, -2.06532663e+00,  4.26557410e+00],\n",
       "       [ 1.00000000e+00, -2.03517588e+00,  4.14194086e+00],\n",
       "       [ 1.00000000e+00, -2.00502513e+00,  4.02012575e+00],\n",
       "       [ 1.00000000e+00, -1.97487437e+00,  3.90012878e+00],\n",
       "       [ 1.00000000e+00, -1.94472362e+00,  3.78194995e+00],\n",
       "       [ 1.00000000e+00, -1.91457286e+00,  3.66558925e+00],\n",
       "       [ 1.00000000e+00, -1.88442211e+00,  3.55104669e+00],\n",
       "       [ 1.00000000e+00, -1.85427136e+00,  3.43832226e+00],\n",
       "       [ 1.00000000e+00, -1.82412060e+00,  3.32741597e+00],\n",
       "       [ 1.00000000e+00, -1.79396985e+00,  3.21832782e+00],\n",
       "       [ 1.00000000e+00, -1.76381910e+00,  3.11105780e+00],\n",
       "       [ 1.00000000e+00, -1.73366834e+00,  3.00560592e+00],\n",
       "       [ 1.00000000e+00, -1.70351759e+00,  2.90197217e+00],\n",
       "       [ 1.00000000e+00, -1.67336683e+00,  2.80015656e+00],\n",
       "       [ 1.00000000e+00, -1.64321608e+00,  2.70015909e+00],\n",
       "       [ 1.00000000e+00, -1.61306533e+00,  2.60197975e+00],\n",
       "       [ 1.00000000e+00, -1.58291457e+00,  2.50561854e+00],\n",
       "       [ 1.00000000e+00, -1.55276382e+00,  2.41107548e+00],\n",
       "       [ 1.00000000e+00, -1.52261307e+00,  2.31835055e+00],\n",
       "       [ 1.00000000e+00, -1.49246231e+00,  2.22744375e+00],\n",
       "       [ 1.00000000e+00, -1.46231156e+00,  2.13835509e+00],\n",
       "       [ 1.00000000e+00, -1.43216080e+00,  2.05108457e+00],\n",
       "       [ 1.00000000e+00, -1.40201005e+00,  1.96563218e+00],\n",
       "       [ 1.00000000e+00, -1.37185930e+00,  1.88199793e+00],\n",
       "       [ 1.00000000e+00, -1.34170854e+00,  1.80018181e+00],\n",
       "       [ 1.00000000e+00, -1.31155779e+00,  1.72018383e+00],\n",
       "       [ 1.00000000e+00, -1.28140704e+00,  1.64200399e+00],\n",
       "       [ 1.00000000e+00, -1.25125628e+00,  1.56564228e+00],\n",
       "       [ 1.00000000e+00, -1.22110553e+00,  1.49109871e+00],\n",
       "       [ 1.00000000e+00, -1.19095477e+00,  1.41837327e+00],\n",
       "       [ 1.00000000e+00, -1.16080402e+00,  1.34746597e+00],\n",
       "       [ 1.00000000e+00, -1.13065327e+00,  1.27837681e+00],\n",
       "       [ 1.00000000e+00, -1.10050251e+00,  1.21110578e+00],\n",
       "       [ 1.00000000e+00, -1.07035176e+00,  1.14565289e+00],\n",
       "       [ 1.00000000e+00, -1.04020101e+00,  1.08201813e+00],\n",
       "       [ 1.00000000e+00, -1.01005025e+00,  1.02020151e+00],\n",
       "       [ 1.00000000e+00, -9.79899497e-01,  9.60203025e-01],\n",
       "       [ 1.00000000e+00, -9.49748744e-01,  9.02022676e-01],\n",
       "       [ 1.00000000e+00, -9.19597990e-01,  8.45660463e-01],\n",
       "       [ 1.00000000e+00, -8.89447236e-01,  7.91116386e-01],\n",
       "       [ 1.00000000e+00, -8.59296482e-01,  7.38390445e-01],\n",
       "       [ 1.00000000e+00, -8.29145729e-01,  6.87482639e-01],\n",
       "       [ 1.00000000e+00, -7.98994975e-01,  6.38392970e-01],\n",
       "       [ 1.00000000e+00, -7.68844221e-01,  5.91121436e-01],\n",
       "       [ 1.00000000e+00, -7.38693467e-01,  5.45668039e-01],\n",
       "       [ 1.00000000e+00, -7.08542714e-01,  5.02032777e-01],\n",
       "       [ 1.00000000e+00, -6.78391960e-01,  4.60215651e-01],\n",
       "       [ 1.00000000e+00, -6.48241206e-01,  4.20216661e-01],\n",
       "       [ 1.00000000e+00, -6.18090452e-01,  3.82035807e-01],\n",
       "       [ 1.00000000e+00, -5.87939698e-01,  3.45673089e-01],\n",
       "       [ 1.00000000e+00, -5.57788945e-01,  3.11128507e-01],\n",
       "       [ 1.00000000e+00, -5.27638191e-01,  2.78402061e-01],\n",
       "       [ 1.00000000e+00, -4.97487437e-01,  2.47493750e-01],\n",
       "       [ 1.00000000e+00, -4.67336683e-01,  2.18403576e-01],\n",
       "       [ 1.00000000e+00, -4.37185930e-01,  1.91131537e-01],\n",
       "       [ 1.00000000e+00, -4.07035176e-01,  1.65677634e-01],\n",
       "       [ 1.00000000e+00, -3.76884422e-01,  1.42041868e-01],\n",
       "       [ 1.00000000e+00, -3.46733668e-01,  1.20224237e-01],\n",
       "       [ 1.00000000e+00, -3.16582915e-01,  1.00224742e-01],\n",
       "       [ 1.00000000e+00, -2.86432161e-01,  8.20433827e-02],\n",
       "       [ 1.00000000e+00, -2.56281407e-01,  6.56801596e-02],\n",
       "       [ 1.00000000e+00, -2.26130653e-01,  5.11350723e-02],\n",
       "       [ 1.00000000e+00, -1.95979899e-01,  3.84081210e-02],\n",
       "       [ 1.00000000e+00, -1.65829146e-01,  2.74993056e-02],\n",
       "       [ 1.00000000e+00, -1.35678392e-01,  1.84086260e-02],\n",
       "       [ 1.00000000e+00, -1.05527638e-01,  1.11360824e-02],\n",
       "       [ 1.00000000e+00, -7.53768844e-02,  5.68167471e-03],\n",
       "       [ 1.00000000e+00, -4.52261307e-02,  2.04540289e-03],\n",
       "       [ 1.00000000e+00, -1.50753769e-02,  2.27266988e-04],\n",
       "       [ 1.00000000e+00,  1.50753769e-02,  2.27266988e-04],\n",
       "       [ 1.00000000e+00,  4.52261307e-02,  2.04540289e-03],\n",
       "       [ 1.00000000e+00,  7.53768844e-02,  5.68167471e-03],\n",
       "       [ 1.00000000e+00,  1.05527638e-01,  1.11360824e-02],\n",
       "       [ 1.00000000e+00,  1.35678392e-01,  1.84086260e-02],\n",
       "       [ 1.00000000e+00,  1.65829146e-01,  2.74993056e-02],\n",
       "       [ 1.00000000e+00,  1.95979899e-01,  3.84081210e-02],\n",
       "       [ 1.00000000e+00,  2.26130653e-01,  5.11350723e-02],\n",
       "       [ 1.00000000e+00,  2.56281407e-01,  6.56801596e-02],\n",
       "       [ 1.00000000e+00,  2.86432161e-01,  8.20433827e-02],\n",
       "       [ 1.00000000e+00,  3.16582915e-01,  1.00224742e-01],\n",
       "       [ 1.00000000e+00,  3.46733668e-01,  1.20224237e-01],\n",
       "       [ 1.00000000e+00,  3.76884422e-01,  1.42041868e-01],\n",
       "       [ 1.00000000e+00,  4.07035176e-01,  1.65677634e-01],\n",
       "       [ 1.00000000e+00,  4.37185930e-01,  1.91131537e-01],\n",
       "       [ 1.00000000e+00,  4.67336683e-01,  2.18403576e-01],\n",
       "       [ 1.00000000e+00,  4.97487437e-01,  2.47493750e-01],\n",
       "       [ 1.00000000e+00,  5.27638191e-01,  2.78402061e-01],\n",
       "       [ 1.00000000e+00,  5.57788945e-01,  3.11128507e-01],\n",
       "       [ 1.00000000e+00,  5.87939698e-01,  3.45673089e-01],\n",
       "       [ 1.00000000e+00,  6.18090452e-01,  3.82035807e-01],\n",
       "       [ 1.00000000e+00,  6.48241206e-01,  4.20216661e-01],\n",
       "       [ 1.00000000e+00,  6.78391960e-01,  4.60215651e-01],\n",
       "       [ 1.00000000e+00,  7.08542714e-01,  5.02032777e-01],\n",
       "       [ 1.00000000e+00,  7.38693467e-01,  5.45668039e-01],\n",
       "       [ 1.00000000e+00,  7.68844221e-01,  5.91121436e-01],\n",
       "       [ 1.00000000e+00,  7.98994975e-01,  6.38392970e-01],\n",
       "       [ 1.00000000e+00,  8.29145729e-01,  6.87482639e-01],\n",
       "       [ 1.00000000e+00,  8.59296482e-01,  7.38390445e-01],\n",
       "       [ 1.00000000e+00,  8.89447236e-01,  7.91116386e-01],\n",
       "       [ 1.00000000e+00,  9.19597990e-01,  8.45660463e-01],\n",
       "       [ 1.00000000e+00,  9.49748744e-01,  9.02022676e-01],\n",
       "       [ 1.00000000e+00,  9.79899497e-01,  9.60203025e-01],\n",
       "       [ 1.00000000e+00,  1.01005025e+00,  1.02020151e+00],\n",
       "       [ 1.00000000e+00,  1.04020101e+00,  1.08201813e+00],\n",
       "       [ 1.00000000e+00,  1.07035176e+00,  1.14565289e+00],\n",
       "       [ 1.00000000e+00,  1.10050251e+00,  1.21110578e+00],\n",
       "       [ 1.00000000e+00,  1.13065327e+00,  1.27837681e+00],\n",
       "       [ 1.00000000e+00,  1.16080402e+00,  1.34746597e+00],\n",
       "       [ 1.00000000e+00,  1.19095477e+00,  1.41837327e+00],\n",
       "       [ 1.00000000e+00,  1.22110553e+00,  1.49109871e+00],\n",
       "       [ 1.00000000e+00,  1.25125628e+00,  1.56564228e+00],\n",
       "       [ 1.00000000e+00,  1.28140704e+00,  1.64200399e+00],\n",
       "       [ 1.00000000e+00,  1.31155779e+00,  1.72018383e+00],\n",
       "       [ 1.00000000e+00,  1.34170854e+00,  1.80018181e+00],\n",
       "       [ 1.00000000e+00,  1.37185930e+00,  1.88199793e+00],\n",
       "       [ 1.00000000e+00,  1.40201005e+00,  1.96563218e+00],\n",
       "       [ 1.00000000e+00,  1.43216080e+00,  2.05108457e+00],\n",
       "       [ 1.00000000e+00,  1.46231156e+00,  2.13835509e+00],\n",
       "       [ 1.00000000e+00,  1.49246231e+00,  2.22744375e+00],\n",
       "       [ 1.00000000e+00,  1.52261307e+00,  2.31835055e+00],\n",
       "       [ 1.00000000e+00,  1.55276382e+00,  2.41107548e+00],\n",
       "       [ 1.00000000e+00,  1.58291457e+00,  2.50561854e+00],\n",
       "       [ 1.00000000e+00,  1.61306533e+00,  2.60197975e+00],\n",
       "       [ 1.00000000e+00,  1.64321608e+00,  2.70015909e+00],\n",
       "       [ 1.00000000e+00,  1.67336683e+00,  2.80015656e+00],\n",
       "       [ 1.00000000e+00,  1.70351759e+00,  2.90197217e+00],\n",
       "       [ 1.00000000e+00,  1.73366834e+00,  3.00560592e+00],\n",
       "       [ 1.00000000e+00,  1.76381910e+00,  3.11105780e+00],\n",
       "       [ 1.00000000e+00,  1.79396985e+00,  3.21832782e+00],\n",
       "       [ 1.00000000e+00,  1.82412060e+00,  3.32741597e+00],\n",
       "       [ 1.00000000e+00,  1.85427136e+00,  3.43832226e+00],\n",
       "       [ 1.00000000e+00,  1.88442211e+00,  3.55104669e+00],\n",
       "       [ 1.00000000e+00,  1.91457286e+00,  3.66558925e+00],\n",
       "       [ 1.00000000e+00,  1.94472362e+00,  3.78194995e+00],\n",
       "       [ 1.00000000e+00,  1.97487437e+00,  3.90012878e+00],\n",
       "       [ 1.00000000e+00,  2.00502513e+00,  4.02012575e+00],\n",
       "       [ 1.00000000e+00,  2.03517588e+00,  4.14194086e+00],\n",
       "       [ 1.00000000e+00,  2.06532663e+00,  4.26557410e+00],\n",
       "       [ 1.00000000e+00,  2.09547739e+00,  4.39102548e+00],\n",
       "       [ 1.00000000e+00,  2.12562814e+00,  4.51829499e+00],\n",
       "       [ 1.00000000e+00,  2.15577889e+00,  4.64738264e+00],\n",
       "       [ 1.00000000e+00,  2.18592965e+00,  4.77828843e+00],\n",
       "       [ 1.00000000e+00,  2.21608040e+00,  4.91101235e+00],\n",
       "       [ 1.00000000e+00,  2.24623116e+00,  5.04555441e+00],\n",
       "       [ 1.00000000e+00,  2.27638191e+00,  5.18191460e+00],\n",
       "       [ 1.00000000e+00,  2.30653266e+00,  5.32009293e+00],\n",
       "       [ 1.00000000e+00,  2.33668342e+00,  5.46008939e+00],\n",
       "       [ 1.00000000e+00,  2.36683417e+00,  5.60190399e+00],\n",
       "       [ 1.00000000e+00,  2.39698492e+00,  5.74553673e+00],\n",
       "       [ 1.00000000e+00,  2.42713568e+00,  5.89098760e+00],\n",
       "       [ 1.00000000e+00,  2.45728643e+00,  6.03825661e+00],\n",
       "       [ 1.00000000e+00,  2.48743719e+00,  6.18734375e+00],\n",
       "       [ 1.00000000e+00,  2.51758794e+00,  6.33824903e+00],\n",
       "       [ 1.00000000e+00,  2.54773869e+00,  6.49097245e+00],\n",
       "       [ 1.00000000e+00,  2.57788945e+00,  6.64551400e+00],\n",
       "       [ 1.00000000e+00,  2.60804020e+00,  6.80187369e+00],\n",
       "       [ 1.00000000e+00,  2.63819095e+00,  6.96005151e+00],\n",
       "       [ 1.00000000e+00,  2.66834171e+00,  7.12004747e+00],\n",
       "       [ 1.00000000e+00,  2.69849246e+00,  7.28186157e+00],\n",
       "       [ 1.00000000e+00,  2.72864322e+00,  7.44549380e+00],\n",
       "       [ 1.00000000e+00,  2.75879397e+00,  7.61094417e+00],\n",
       "       [ 1.00000000e+00,  2.78894472e+00,  7.77821267e+00],\n",
       "       [ 1.00000000e+00,  2.81909548e+00,  7.94729931e+00],\n",
       "       [ 1.00000000e+00,  2.84924623e+00,  8.11820409e+00],\n",
       "       [ 1.00000000e+00,  2.87939698e+00,  8.29092700e+00],\n",
       "       [ 1.00000000e+00,  2.90954774e+00,  8.46546804e+00],\n",
       "       [ 1.00000000e+00,  2.93969849e+00,  8.64182723e+00],\n",
       "       [ 1.00000000e+00,  2.96984925e+00,  8.82000455e+00],\n",
       "       [ 1.00000000e+00,  3.00000000e+00,  9.00000000e+00]])"
      ]
     },
     "execution_count": 53,
     "metadata": {},
     "output_type": "execute_result"
    }
   ],
   "source": [
    "x_new_poly = poly.transform(x_new)\n",
    "x_new_poly"
   ]
  },
  {
   "cell_type": "code",
   "execution_count": 55,
   "id": "3728fb81-741e-4fb0-bd3a-335f06d671bc",
   "metadata": {},
   "outputs": [
    {
     "data": {
      "text/plain": [
       "array([[ 6.71016167],\n",
       "       [ 6.59092715],\n",
       "       [ 6.47316003],\n",
       "       [ 6.35686034],\n",
       "       [ 6.24202805],\n",
       "       [ 6.12866318],\n",
       "       [ 6.01676572],\n",
       "       [ 5.90633567],\n",
       "       [ 5.79737304],\n",
       "       [ 5.68987782],\n",
       "       [ 5.58385001],\n",
       "       [ 5.47928962],\n",
       "       [ 5.37619663],\n",
       "       [ 5.27457107],\n",
       "       [ 5.17441291],\n",
       "       [ 5.07572216],\n",
       "       [ 4.97849883],\n",
       "       [ 4.88274292],\n",
       "       [ 4.78845441],\n",
       "       [ 4.69563332],\n",
       "       [ 4.60427964],\n",
       "       [ 4.51439337],\n",
       "       [ 4.42597452],\n",
       "       [ 4.33902308],\n",
       "       [ 4.25353905],\n",
       "       [ 4.16952243],\n",
       "       [ 4.08697323],\n",
       "       [ 4.00589144],\n",
       "       [ 3.92627706],\n",
       "       [ 3.8481301 ],\n",
       "       [ 3.77145055],\n",
       "       [ 3.69623841],\n",
       "       [ 3.62249368],\n",
       "       [ 3.55021637],\n",
       "       [ 3.47940647],\n",
       "       [ 3.41006398],\n",
       "       [ 3.34218891],\n",
       "       [ 3.27578125],\n",
       "       [ 3.210841  ],\n",
       "       [ 3.14736816],\n",
       "       [ 3.08536274],\n",
       "       [ 3.02482473],\n",
       "       [ 2.96575413],\n",
       "       [ 2.90815095],\n",
       "       [ 2.85201518],\n",
       "       [ 2.79734682],\n",
       "       [ 2.74414587],\n",
       "       [ 2.69241234],\n",
       "       [ 2.64214622],\n",
       "       [ 2.59334751],\n",
       "       [ 2.54601622],\n",
       "       [ 2.50015234],\n",
       "       [ 2.45575587],\n",
       "       [ 2.41282681],\n",
       "       [ 2.37136517],\n",
       "       [ 2.33137094],\n",
       "       [ 2.29284412],\n",
       "       [ 2.25578472],\n",
       "       [ 2.22019272],\n",
       "       [ 2.18606815],\n",
       "       [ 2.15341098],\n",
       "       [ 2.12222123],\n",
       "       [ 2.09249889],\n",
       "       [ 2.06424396],\n",
       "       [ 2.03745644],\n",
       "       [ 2.01213634],\n",
       "       [ 1.98828365],\n",
       "       [ 1.96589838],\n",
       "       [ 1.94498051],\n",
       "       [ 1.92553006],\n",
       "       [ 1.90754702],\n",
       "       [ 1.8910314 ],\n",
       "       [ 1.87598319],\n",
       "       [ 1.86240239],\n",
       "       [ 1.850289  ],\n",
       "       [ 1.83964303],\n",
       "       [ 1.83046447],\n",
       "       [ 1.82275332],\n",
       "       [ 1.81650958],\n",
       "       [ 1.81173326],\n",
       "       [ 1.80842435],\n",
       "       [ 1.80658285],\n",
       "       [ 1.80620877],\n",
       "       [ 1.8073021 ],\n",
       "       [ 1.80986284],\n",
       "       [ 1.813891  ],\n",
       "       [ 1.81938656],\n",
       "       [ 1.82634954],\n",
       "       [ 1.83477994],\n",
       "       [ 1.84467774],\n",
       "       [ 1.85604296],\n",
       "       [ 1.86887559],\n",
       "       [ 1.88317564],\n",
       "       [ 1.8989431 ],\n",
       "       [ 1.91617797],\n",
       "       [ 1.93488025],\n",
       "       [ 1.95504995],\n",
       "       [ 1.97668705],\n",
       "       [ 1.99979158],\n",
       "       [ 2.02436351],\n",
       "       [ 2.05040286],\n",
       "       [ 2.07790962],\n",
       "       [ 2.10688379],\n",
       "       [ 2.13732538],\n",
       "       [ 2.16923437],\n",
       "       [ 2.20261079],\n",
       "       [ 2.23745461],\n",
       "       [ 2.27376585],\n",
       "       [ 2.3115445 ],\n",
       "       [ 2.35079056],\n",
       "       [ 2.39150404],\n",
       "       [ 2.43368492],\n",
       "       [ 2.47733322],\n",
       "       [ 2.52244894],\n",
       "       [ 2.56903207],\n",
       "       [ 2.61708261],\n",
       "       [ 2.66660056],\n",
       "       [ 2.71758592],\n",
       "       [ 2.7700387 ],\n",
       "       [ 2.82395889],\n",
       "       [ 2.8793465 ],\n",
       "       [ 2.93620151],\n",
       "       [ 2.99452394],\n",
       "       [ 3.05431379],\n",
       "       [ 3.11557104],\n",
       "       [ 3.17829571],\n",
       "       [ 3.24248779],\n",
       "       [ 3.30814728],\n",
       "       [ 3.37527419],\n",
       "       [ 3.44386851],\n",
       "       [ 3.51393024],\n",
       "       [ 3.58545939],\n",
       "       [ 3.65845595],\n",
       "       [ 3.73291992],\n",
       "       [ 3.8088513 ],\n",
       "       [ 3.8862501 ],\n",
       "       [ 3.96511631],\n",
       "       [ 4.04544993],\n",
       "       [ 4.12725096],\n",
       "       [ 4.21051941],\n",
       "       [ 4.29525527],\n",
       "       [ 4.38145854],\n",
       "       [ 4.46912923],\n",
       "       [ 4.55826733],\n",
       "       [ 4.64887284],\n",
       "       [ 4.74094577],\n",
       "       [ 4.8344861 ],\n",
       "       [ 4.92949386],\n",
       "       [ 5.02596902],\n",
       "       [ 5.12391159],\n",
       "       [ 5.22332158],\n",
       "       [ 5.32419899],\n",
       "       [ 5.4265438 ],\n",
       "       [ 5.53035603],\n",
       "       [ 5.63563567],\n",
       "       [ 5.74238272],\n",
       "       [ 5.85059719],\n",
       "       [ 5.96027907],\n",
       "       [ 6.07142836],\n",
       "       [ 6.18404506],\n",
       "       [ 6.29812918],\n",
       "       [ 6.41368071],\n",
       "       [ 6.53069965],\n",
       "       [ 6.64918601],\n",
       "       [ 6.76913978],\n",
       "       [ 6.89056096],\n",
       "       [ 7.01344955],\n",
       "       [ 7.13780556],\n",
       "       [ 7.26362898],\n",
       "       [ 7.39091981],\n",
       "       [ 7.51967806],\n",
       "       [ 7.64990372],\n",
       "       [ 7.78159679],\n",
       "       [ 7.91475727],\n",
       "       [ 8.04938517],\n",
       "       [ 8.18548048],\n",
       "       [ 8.3230432 ],\n",
       "       [ 8.46207334],\n",
       "       [ 8.60257089],\n",
       "       [ 8.74453585],\n",
       "       [ 8.88796822],\n",
       "       [ 9.03286801],\n",
       "       [ 9.17923521],\n",
       "       [ 9.32706982],\n",
       "       [ 9.47637185],\n",
       "       [ 9.62714129],\n",
       "       [ 9.77937814],\n",
       "       [ 9.9330824 ],\n",
       "       [10.08825408],\n",
       "       [10.24489317],\n",
       "       [10.40299967],\n",
       "       [10.56257358],\n",
       "       [10.72361491],\n",
       "       [10.88612365],\n",
       "       [11.05009981],\n",
       "       [11.21554337],\n",
       "       [11.38245435],\n",
       "       [11.55083275],\n",
       "       [11.72067855],\n",
       "       [11.89199177]])"
      ]
     },
     "execution_count": 55,
     "metadata": {},
     "output_type": "execute_result"
    }
   ],
   "source": [
    "y_new = lr.predict(x_new_poly)\n",
    "y_new"
   ]
  },
  {
   "cell_type": "code",
   "execution_count": 57,
   "id": "8b18d218-951e-42dd-8daa-bec2aa4aff33",
   "metadata": {},
   "outputs": [
    {
     "data": {
      "image/png": "[encoded data removed]",
      "text/plain": [
       "<Figure size 640x480 with 1 Axes>"
      ]
     },
     "metadata": {},
     "output_type": "display_data"
    }
   ],
   "source": [
    "plt.plot(x_new,y_new,\"r-\",linewidth=2,label=\"Predictions\")\n",
    "plt.plot(x_train,y_train,\"b.\",label='Training Points')\n",
    "plt.plot(x_test,y_test,\"g.\",label='Testing points')\n",
    "plt.xlabel(\"x\")\n",
    "plt.ylabel(\"y\")\n",
    "plt.legend()\n",
    "plt.show()"
   ]
  },
  {
   "cell_type": "code",
   "execution_count": null,
   "id": "6baf049d-a1b4-4d80-8920-e9e02f19857e",
   "metadata": {},
   "outputs": [],
   "source": []
  },
  {
   "cell_type": "code",
   "execution_count": 63,
   "id": "21f9b311-9c37-4779-a362-0a78cab7bc01",
   "metadata": {},
   "outputs": [],
   "source": [
    "def polynomial_regression(degree):\n",
    "    x_new=np.linspace(-3, 3, 100).reshape(100, 1)\n",
    "    x_new_poly = poly.transform(x_new)\n",
    "\n",
    "    polybig_features = PolynomialFeatures(degree=degree, include_bias=False)\n",
    "    std_scaler = StandardScaler()\n",
    "    lin_reg = LinearRegression()\n",
    "    polynomial_regression = Pipeline([\n",
    "            (\"poly_features\", polybig_features),\n",
    "            (\"std_scaler\", std_scaler),\n",
    "            (\"lin_reg\", lin_reg),\n",
    "        ])\n",
    "    polynomial_regression.fit(x, y)\n",
    "    y_newbig = polynomial_regression.predict(x_new)\n",
    "    plt.plot(x_new, y_newbig,'r', label=\"Degree \" + str(degree), linewidth=2)\n",
    "\n",
    "    plt.plot(x_train, y_train, \"b.\", linewidth=3)\n",
    "    plt.plot(x_test, y_test, \"g.\", linewidth=3)\n",
    "    plt.legend(loc=\"upper left\")\n",
    "    plt.xlabel(\"x\")\n",
    "    plt.ylabel(\"y\")\n",
    "    plt.axis([-3, 3, 0, 10])\n",
    "    plt.show()"
   ]
  },
  {
   "cell_type": "code",
   "execution_count": 65,
   "id": "1ab2dbac-562d-4359-90cd-b2160ce5603e",
   "metadata": {},
   "outputs": [
    {
     "data": {
      "image/png": "[encoded data removed]",
      "text/plain": [
       "<Figure size 640x480 with 1 Axes>"
      ]
     },
     "metadata": {},
     "output_type": "display_data"
    }
   ],
   "source": [
    "polynomial_regression(3)\n"
   ]
  },
  {
   "cell_type": "code",
   "execution_count": 67,
   "id": "fe34e09e-2c61-4df1-ae0e-f03607d6e0d4",
   "metadata": {},
   "outputs": [
    {
     "data": {
      "image/png": "[encoded data removed]",
      "text/plain": [
       "<Figure size 640x480 with 1 Axes>"
      ]
     },
     "metadata": {},
     "output_type": "display_data"
    }
   ],
   "source": [
    "polynomial_regression(5)\n"
   ]
  },
  {
   "cell_type": "code",
   "execution_count": 69,
   "id": "b17cbc24-c628-4979-9f1f-edf0ad8312b7",
   "metadata": {},
   "outputs": [
    {
     "data": {
      "image/png": "[encoded data removed]",
      "text/plain": [
       "<Figure size 640x480 with 1 Axes>"
      ]
     },
     "metadata": {},
     "output_type": "display_data"
    }
   ],
   "source": [
    "polynomial_regression(10)\n"
   ]
  },
  {
   "cell_type": "code",
   "execution_count": 71,
   "id": "883c2f59-b8c1-41ad-8ff5-c9e306cc5bed",
   "metadata": {},
   "outputs": [
    {
     "data": {
      "image/png": "[encoded data removed]",
      "text/plain": [
       "<Figure size 640x480 with 1 Axes>"
      ]
     },
     "metadata": {},
     "output_type": "display_data"
    }
   ],
   "source": [
    "polynomial_regression(30)\n"
   ]
  },
  {
   "cell_type": "markdown",
   "id": "f8eb5a91-85eb-4e36-8a30-ace163adc0f9",
   "metadata": {},
   "source": [
    "``See jaise jaise hm degree ko bdhayenge ye model as it is data points ko pkdne ka try krega jisse overfitting ki condition hogi``"
   ]
  },
  {
   "cell_type": "code",
   "execution_count": 79,
   "id": "b2e12bb3-e03f-4816-87f2-f5fdeb33e8fa",
   "metadata": {},
   "outputs": [
    {
     "data": {
      "image/png": "[encoded data removed]",
      "text/plain": [
       "<Figure size 640x480 with 1 Axes>"
      ]
     },
     "metadata": {},
     "output_type": "display_data"
    }
   ],
   "source": [
    "polynomial_regression(310)\n"
   ]
  },
  {
   "cell_type": "code",
   "execution_count": 81,
   "id": "a651dc05-7296-40d5-90ce-b35fa5681c29",
   "metadata": {},
   "outputs": [
    {
     "name": "stderr",
     "output_type": "stream",
     "text": [
      "C:\\ProgramData\\anaconda3\\Lib\\site-packages\\sklearn\\utils\\extmath.py:1156: RuntimeWarning: overflow encountered in square\n",
      "  temp **= 2\n",
      "C:\\ProgramData\\anaconda3\\Lib\\site-packages\\numpy\\core\\fromnumeric.py:88: RuntimeWarning: overflow encountered in reduce\n",
      "  return ufunc.reduce(obj, axis, dtype, out, **passkwargs)\n"
     ]
    },
    {
     "data": {
      "image/png": "[encoded data removed]",
      "text/plain": [
       "<Figure size 640x480 with 1 Axes>"
      ]
     },
     "metadata": {},
     "output_type": "display_data"
    }
   ],
   "source": [
    "polynomial_regression(330)\n"
   ]
  },
  {
   "cell_type": "code",
   "execution_count": 83,
   "id": "bbb9654d-eadb-4e27-b16f-91b8274da7d1",
   "metadata": {},
   "outputs": [
    {
     "data": {
      "text/plain": [
       "array([[0],\n",
       "       [1],\n",
       "       [2]], dtype=int64)"
      ]
     },
     "execution_count": 83,
     "metadata": {},
     "output_type": "execute_result"
    }
   ],
   "source": [
    "poly.powers_"
   ]
  },
  {
   "cell_type": "code",
   "execution_count": 89,
   "id": "14c5189e-9902-40c8-8e23-eed3c79916d2",
   "metadata": {},
   "outputs": [
    {
     "name": "stderr",
     "output_type": "stream",
     "text": [
      "C:\\ProgramData\\anaconda3\\Lib\\site-packages\\sklearn\\utils\\validation.py:1300: DataConversionWarning: A column-vector y was passed when a 1d array was expected. Please change the shape of y to (n_samples, ), for example using ravel().\n",
      "  y = column_or_1d(y, warn=True)\n"
     ]
    },
    {
     "data": {
      "image/png": "[encoded data removed]",
      "text/plain": [
       "<Figure size 640x480 with 1 Axes>"
      ]
     },
     "metadata": {},
     "output_type": "display_data"
    }
   ],
   "source": [
    "# Applying Gradient Descent\n",
    "\n",
    "poly = PolynomialFeatures(degree=2)\n",
    "\n",
    "x_train_trans = poly.fit_transform(x_train)\n",
    "x_test_trans = poly.transform(x_test)\n",
    "\n",
    "sgd = SGDRegressor(max_iter=100)\n",
    "sgd.fit(x_train_trans,y_train)\n",
    "\n",
    "x_new=np.linspace(-2.9, 2.8, 200).reshape(200, 1)\n",
    "x_new_poly = poly.transform(x_new)\n",
    "y_new = sgd.predict(x_new_poly)\n",
    "\n",
    "y_pred = sgd.predict(x_test_trans)\n",
    "\n",
    "plt.plot(x_new, y_new, \"r-\", linewidth=2, label=\"Predictions \" + str(round(r2_score(y_test,y_pred),2)))\n",
    "plt.plot(x_train, y_train, \"b.\",label='Training points')\n",
    "plt.plot(x_test, y_test, \"g.\",label='Testing points')\n",
    "plt.xlabel(\"x\")\n",
    "plt.ylabel(\"y\")\n",
    "plt.legend()\n",
    "plt.show()"
   ]
  },
  {
   "cell_type": "markdown",
   "id": "871597d4-3e68-44a4-b1ef-68f304145e1b",
   "metadata": {},
   "source": [
    "# 3D polynomial regression"
   ]
  },
  {
   "cell_type": "code",
   "execution_count": 92,
   "id": "b77b091f-8efa-4fe7-9e0a-2cdc0dcc930f",
   "metadata": {},
   "outputs": [],
   "source": [
    "x = 7 * np.random.rand(100, 1) - 2.8\n",
    "y = 7 * np.random.rand(100, 1) - 2.8\n",
    "\n",
    "z = x**2 + y**2 + 0.2*x + 0.2*y + 0.1*x*y +2 + np.random.randn(100, 1)\n",
    "# z = x^2 + y^2 + 0.2x + 0.2y + 0.1xy + 2"
   ]
  },
  {
   "cell_type": "code",
   "execution_count": 98,
   "id": "d4f65f2f-f974-4262-9ead-344e38824b09",
   "metadata": {},
   "outputs": [
    {
     "data": {
      "application/vnd.plotly.v1+json": {
       "config": {
        "plotlyServerURL": "https://plot.ly"
       },
       "data": [
        {
         "hovertemplate": "x=%{x}<br>y=%{y}<br>z=%{z}<extra></extra>",
         "legendgroup": "",
         "marker": {
          "color": "#636efa",
          "symbol": "circle"
         },
         "mode": "markers",
         "name": "",
         "scene": "scene",
         "showlegend": false,
         "type": "scatter3d",
         "x": [
          2.8329353559788943,
          2.5393127311368806,
          2.1262243424365517,
          0.6280654981416909,
          2.3123902869750967,
          1.7908800541289134,
          2.3856074361846487,
          3.459518973282913,
          -2.2929191825351243,
          1.5858189560176674,
          2.108708439064171,
          2.3092075604935642,
          3.370412041996662,
          0.4898972482351498,
          -0.1317731922389549,
          0.7158270918721428,
          2.0884036740319125,
          -0.15437818844223328,
          2.6212406835539763,
          2.7093714317390214,
          2.5700206900556477,
          -0.47401816824553267,
          0.13232683965765712,
          -1.3986003386390364,
          1.2165748184838465,
          -0.06261466740854438,
          4.093207864261461,
          0.485619824988087,
          -1.0500489723419322,
          0.30981838656638816,
          -2.7395742611875242,
          3.896526675388725,
          -0.07436354898136344,
          4.1529404063831725,
          -1.089316734143064,
          1.8114340285015125,
          0.7657776777034253,
          0.3098591230882479,
          0.7957083074651763,
          -1.5575431979407373,
          -2.7934757439571993,
          2.389047554678397,
          -1.0687508198560707,
          -0.18519887793800738,
          -1.7704332681606783,
          0.5419344158398705,
          -0.6105341349264437,
          2.443176389948148,
          -1.3862416159873374,
          3.2539057678259775,
          2.5136271139762005,
          -1.020986675795559,
          3.9842485643005823,
          1.7421707613572375,
          2.97186144344551,
          1.4897405436951328,
          2.796577998749121,
          1.69792016333896,
          -1.8904518250118236,
          -1.9274597922099252,
          -2.5128788639632518,
          0.9329075172237165,
          -2.169426185559773,
          -0.752577551754726,
          3.8846653375290074,
          2.4716029668846256,
          -0.4670235276244199,
          0.2425343977316956,
          -0.19926602344668431,
          -1.1783115533357342,
          2.874302092987681,
          0.26779687591808,
          2.5500985125531335,
          1.1253196850190954,
          -1.4706726097691738,
          -0.19783345657029283,
          3.983029380286105,
          -2.489313027277893,
          2.1150550708060916,
          -1.6484798263927685,
          2.0284374824874263,
          3.7726348160501164,
          0.743256179727279,
          -1.1725147182395155,
          0.656282901957344,
          3.683651593055864,
          1.2916577829501197,
          -1.4441068736725249,
          1.416896332697764,
          -0.2880687880442281,
          0.2774940583490344,
          2.2187187334974716,
          -0.39936433754512946,
          -0.5992763969418036,
          0.35600855205834847,
          0.9735699550163508,
          4.182619830362996,
          -2.4294170488173514,
          -2.3976339507722977,
          3.073829072855956
         ],
         "y": [
          1.4773523658911287,
          1.0303857681205049,
          -2.2071996639825917,
          2.2288034248229183,
          -1.5633338857810992,
          -1.0782202053966503,
          3.0621535575131835,
          -0.501125190420344,
          1.1170369597110468,
          -1.359691958642129,
          4.121590167329058,
          -1.2869138935586353,
          -2.5615358378820643,
          3.497095635644401,
          3.9401601577339216,
          2.3565571888439596,
          0.5795512671689602,
          1.2804806891494218,
          1.7330813585314084,
          -0.8032112189925447,
          -0.6461157200909042,
          1.7413830626611357,
          2.5664373595779892,
          -1.49485741302203,
          4.19190522890993,
          3.699754512490691,
          -2.4744384497663567,
          -0.7549803492268894,
          0.904997869418092,
          -1.531807891922052,
          2.751579402209324,
          -1.1958598115475718,
          0.30065141064366685,
          4.142706676625913,
          3.5680407802984853,
          3.677204022452706,
          0.3758473477363604,
          -1.671636257181408,
          2.3321511059551643,
          2.5840860681769353,
          0.7351958050781437,
          -2.6217988691119416,
          -1.9807691167338197,
          -1.0474073458723165,
          0.6185673364878808,
          -2.783517188178002,
          3.4234056318023143,
          4.026228078693863,
          1.7974163129478677,
          3.6985345000687415,
          0.17796269647667495,
          3.4266755092885672,
          -0.5248854031263979,
          1.639546973416441,
          -2.3144752031111193,
          2.008121009396258,
          -0.6153005953383959,
          0.823055526880204,
          3.5391467801117704,
          2.7095672962694834,
          0.8565587340975211,
          0.5145068369388675,
          1.203262884409706,
          -1.8960955880299348,
          1.674785111426285,
          3.1855618788035116,
          -1.1463241442613095,
          -1.9154635038898284,
          3.330988552838379,
          -1.5487706894534172,
          0.9450788687046687,
          3.673481609993977,
          4.047331439622994,
          -1.374306506387191,
          0.21466518429281,
          1.3281573871852386,
          -2.1693517729053933,
          -0.765435182709088,
          2.34091703734516,
          2.668535677256722,
          1.2024315568580723,
          1.016624616229998,
          2.172630315821827,
          0.751111606874403,
          -0.03242415527737652,
          -0.2024670028786817,
          -2.0287994798073594,
          -2.191857097186828,
          -0.42711487199803644,
          -1.3877324322294413,
          0.3952231892024787,
          2.5817957097152897,
          3.516517744669722,
          1.5136543917766128,
          1.201926264454369,
          1.8897360487622672,
          -0.48493286605204977,
          -1.1575357337110068,
          -2.2333069333789175,
          1.8207014359297595
         ],
         "z": [
          13.519565603833138,
          11.779074786748348,
          11.35021123795118,
          9.091941664346447,
          12.066698671788473,
          4.93603280112472,
          18.78490756710485,
          15.249867793474749,
          8.422509251759466,
          6.325330880353437,
          27.571346992256117,
          8.27483394972975,
          18.108176216117418,
          15.311187574950447,
          17.106937170439203,
          8.688505955779137,
          7.854101693471482,
          3.7263481988849123,
          10.95994712405126,
          11.020342519219794,
          9.891563232367272,
          5.1374847933891745,
          8.986630963004798,
          7.2315188445394725,
          21.54757516061254,
          16.870889192469157,
          25.068980866935178,
          1.897071666933603,
          4.405303978945249,
          3.0279153958050515,
          17.78918389889625,
          19.281756884324345,
          1.7693072178994491,
          39.518089499810785,
          16.603935756269248,
          20.71378966430009,
          3.7290184838519203,
          5.302867471903374,
          9.287990663377512,
          9.406245899970658,
          8.677638481209843,
          15.428530911158163,
          5.925806650367981,
          2.3560802961746887,
          5.846632071416992,
          10.755721138629209,
          15.555054036999294,
          26.039091747495615,
          6.115849417507745,
          30.175972433217645,
          8.482755696361222,
          15.610223341455356,
          17.355362101875468,
          7.907692938634021,
          17.138400444462917,
          9.397893817652701,
          9.677182235478224,
          4.435415499681238,
          15.748755817062953,
          12.553734513966328,
          8.510129021640024,
          2.1175667329476107,
          8.866620181463352,
          6.036783343334685,
          22.544542867677666,
          20.43944815489122,
          2.627271036790437,
          8.11446894509741,
          12.215964391639158,
          5.054414278133045,
          11.34422991414188,
          16.74686945745784,
          27.525009317722475,
          5.797342371917137,
          3.159523255027315,
          5.120643933418908,
          21.74993222878189,
          8.27931064268787,
          13.388695035927745,
          12.984844033074701,
          8.268914000230259,
          17.351183771558397,
          7.563095802692243,
          3.3803612483232475,
          3.7496099886304837,
          14.888070938661734,
          6.556822275692919,
          10.216491449120944,
          5.2619486208044535,
          2.8997860508226188,
          0.7805705185504248,
          15.340228580347969,
          14.092471859400396,
          3.7556268776181447,
          2.457382943390485,
          7.956828792964204,
          22.31985310930977,
          7.001068669991321,
          10.086387309721268,
          15.12632456108524
         ]
        }
       ],
       "layout": {
        "autosize": true,
        "legend": {
         "tracegroupgap": 0
        },
        "margin": {
         "t": 60
        },
        "scene": {
         "aspectmode": "auto",
         "aspectratio": {
          "x": 1,
          "y": 1,
          "z": 1
         },
         "camera": {
          "center": {
           "x": 0,
           "y": 0,
           "z": 0
          },
          "eye": {
           "x": 0.9989385092264645,
           "y": 0.998938509226464,
           "z": 0.9989385092264643
          },
          "projection": {
           "type": "perspective"
          },
          "up": {
           "x": 0.0023675866014879563,
           "y": -0.0023619943440528293,
           "z": 0.9999944077425649
          }
         },
         "domain": {
          "x": [
           0,
           1
          ],
          "y": [
           0,
           1
          ]
         },
         "xaxis": {
          "title": {
           "text": "x"
          },
          "type": "linear"
         },
         "yaxis": {
          "title": {
           "text": "y"
          },
          "type": "linear"
         },
         "zaxis": {
          "title": {
           "text": "z"
          },
          "type": "linear"
         }
        },
        "template": {
         "data": {
          "bar": [
           {
            "error_x": {
             "color": "#2a3f5f"
            },
            "error_y": {
             "color": "#2a3f5f"
            },
            "marker": {
             "line": {
              "color": "#E5ECF6",
              "width": 0.5
             },
             "pattern": {
              "fillmode": "overlay",
              "size": 10,
              "solidity": 0.2
             }
            },
            "type": "bar"
           }
          ],
          "barpolar": [
           {
            "marker": {
             "line": {
              "color": "#E5ECF6",
              "width": 0.5
             },
             "pattern": {
              "fillmode": "overlay",
              "size": 10,
              "solidity": 0.2
             }
            },
            "type": "barpolar"
           }
          ],
          "carpet": [
           {
            "aaxis": {
             "endlinecolor": "#2a3f5f",
             "gridcolor": "white",
             "linecolor": "white",
             "minorgridcolor": "white",
             "startlinecolor": "#2a3f5f"
            },
            "baxis": {
             "endlinecolor": "#2a3f5f",
             "gridcolor": "white",
             "linecolor": "white",
             "minorgridcolor": "white",
             "startlinecolor": "#2a3f5f"
            },
            "type": "carpet"
           }
          ],
          "choropleth": [
           {
            "colorbar": {
             "outlinewidth": 0,
             "ticks": ""
            },
            "type": "choropleth"
           }
          ],
          "contour": [
           {
            "colorbar": {
             "outlinewidth": 0,
             "ticks": ""
            },
            "colorscale": [
             [
              0,
              "#0d0887"
             ],
             [
              0.1111111111111111,
              "#46039f"
             ],
             [
              0.2222222222222222,
              "#7201a8"
             ],
             [
              0.3333333333333333,
              "#9c179e"
             ],
             [
              0.4444444444444444,
              "#bd3786"
             ],
             [
              0.5555555555555556,
              "#d8576b"
             ],
             [
              0.6666666666666666,
              "#ed7953"
             ],
             [
              0.7777777777777778,
              "#fb9f3a"
             ],
             [
              0.8888888888888888,
              "#fdca26"
             ],
             [
              1,
              "#f0f921"
             ]
            ],
            "type": "contour"
           }
          ],
          "contourcarpet": [
           {
            "colorbar": {
             "outlinewidth": 0,
             "ticks": ""
            },
            "type": "contourcarpet"
           }
          ],
          "heatmap": [
           {
            "colorbar": {
             "outlinewidth": 0,
             "ticks": ""
            },
            "colorscale": [
             [
              0,
              "#0d0887"
             ],
             [
              0.1111111111111111,
              "#46039f"
             ],
             [
              0.2222222222222222,
              "#7201a8"
             ],
             [
              0.3333333333333333,
              "#9c179e"
             ],
             [
              0.4444444444444444,
              "#bd3786"
             ],
             [
              0.5555555555555556,
              "#d8576b"
             ],
             [
              0.6666666666666666,
              "#ed7953"
             ],
             [
              0.7777777777777778,
              "#fb9f3a"
             ],
             [
              0.8888888888888888,
              "#fdca26"
             ],
             [
              1,
              "#f0f921"
             ]
            ],
            "type": "heatmap"
           }
          ],
          "heatmapgl": [
           {
            "colorbar": {
             "outlinewidth": 0,
             "ticks": ""
            },
            "colorscale": [
             [
              0,
              "#0d0887"
             ],
             [
              0.1111111111111111,
              "#46039f"
             ],
             [
              0.2222222222222222,
              "#7201a8"
             ],
             [
              0.3333333333333333,
              "#9c179e"
             ],
             [
              0.4444444444444444,
              "#bd3786"
             ],
             [
              0.5555555555555556,
              "#d8576b"
             ],
             [
              0.6666666666666666,
              "#ed7953"
             ],
             [
              0.7777777777777778,
              "#fb9f3a"
             ],
             [
              0.8888888888888888,
              "#fdca26"
             ],
             [
              1,
              "#f0f921"
             ]
            ],
            "type": "heatmapgl"
           }
          ],
          "histogram": [
           {
            "marker": {
             "pattern": {
              "fillmode": "overlay",
              "size": 10,
              "solidity": 0.2
             }
            },
            "type": "histogram"
           }
          ],
          "histogram2d": [
           {
            "colorbar": {
             "outlinewidth": 0,
             "ticks": ""
            },
            "colorscale": [
             [
              0,
              "#0d0887"
             ],
             [
              0.1111111111111111,
              "#46039f"
             ],
             [
              0.2222222222222222,
              "#7201a8"
             ],
             [
              0.3333333333333333,
              "#9c179e"
             ],
             [
              0.4444444444444444,
              "#bd3786"
             ],
             [
              0.5555555555555556,
              "#d8576b"
             ],
             [
              0.6666666666666666,
              "#ed7953"
             ],
             [
              0.7777777777777778,
              "#fb9f3a"
             ],
             [
              0.8888888888888888,
              "#fdca26"
             ],
             [
              1,
              "#f0f921"
             ]
            ],
            "type": "histogram2d"
           }
          ],
          "histogram2dcontour": [
           {
            "colorbar": {
             "outlinewidth": 0,
             "ticks": ""
            },
            "colorscale": [
             [
              0,
              "#0d0887"
             ],
             [
              0.1111111111111111,
              "#46039f"
             ],
             [
              0.2222222222222222,
              "#7201a8"
             ],
             [
              0.3333333333333333,
              "#9c179e"
             ],
             [
              0.4444444444444444,
              "#bd3786"
             ],
             [
              0.5555555555555556,
              "#d8576b"
             ],
             [
              0.6666666666666666,
              "#ed7953"
             ],
             [
              0.7777777777777778,
              "#fb9f3a"
             ],
             [
              0.8888888888888888,
              "#fdca26"
             ],
             [
              1,
              "#f0f921"
             ]
            ],
            "type": "histogram2dcontour"
           }
          ],
          "mesh3d": [
           {
            "colorbar": {
             "outlinewidth": 0,
             "ticks": ""
            },
            "type": "mesh3d"
           }
          ],
          "parcoords": [
           {
            "line": {
             "colorbar": {
              "outlinewidth": 0,
              "ticks": ""
             }
            },
            "type": "parcoords"
           }
          ],
          "pie": [
           {
            "automargin": true,
            "type": "pie"
           }
          ],
          "scatter": [
           {
            "fillpattern": {
             "fillmode": "overlay",
             "size": 10,
             "solidity": 0.2
            },
            "type": "scatter"
           }
          ],
          "scatter3d": [
           {
            "line": {
             "colorbar": {
              "outlinewidth": 0,
              "ticks": ""
             }
            },
            "marker": {
             "colorbar": {
              "outlinewidth": 0,
              "ticks": ""
             }
            },
            "type": "scatter3d"
           }
          ],
          "scattercarpet": [
           {
            "marker": {
             "colorbar": {
              "outlinewidth": 0,
              "ticks": ""
             }
            },
            "type": "scattercarpet"
           }
          ],
          "scattergeo": [
           {
            "marker": {
             "colorbar": {
              "outlinewidth": 0,
              "ticks": ""
             }
            },
            "type": "scattergeo"
           }
          ],
          "scattergl": [
           {
            "marker": {
             "colorbar": {
              "outlinewidth": 0,
              "ticks": ""
             }
            },
            "type": "scattergl"
           }
          ],
          "scattermapbox": [
           {
            "marker": {
             "colorbar": {
              "outlinewidth": 0,
              "ticks": ""
             }
            },
            "type": "scattermapbox"
           }
          ],
          "scatterpolar": [
           {
            "marker": {
             "colorbar": {
              "outlinewidth": 0,
              "ticks": ""
             }
            },
            "type": "scatterpolar"
           }
          ],
          "scatterpolargl": [
           {
            "marker": {
             "colorbar": {
              "outlinewidth": 0,
              "ticks": ""
             }
            },
            "type": "scatterpolargl"
           }
          ],
          "scatterternary": [
           {
            "marker": {
             "colorbar": {
              "outlinewidth": 0,
              "ticks": ""
             }
            },
            "type": "scatterternary"
           }
          ],
          "surface": [
           {
            "colorbar": {
             "outlinewidth": 0,
             "ticks": ""
            },
            "colorscale": [
             [
              0,
              "#0d0887"
             ],
             [
              0.1111111111111111,
              "#46039f"
             ],
             [
              0.2222222222222222,
              "#7201a8"
             ],
             [
              0.3333333333333333,
              "#9c179e"
             ],
             [
              0.4444444444444444,
              "#bd3786"
             ],
             [
              0.5555555555555556,
              "#d8576b"
             ],
             [
              0.6666666666666666,
              "#ed7953"
             ],
             [
              0.7777777777777778,
              "#fb9f3a"
             ],
             [
              0.8888888888888888,
              "#fdca26"
             ],
             [
              1,
              "#f0f921"
             ]
            ],
            "type": "surface"
           }
          ],
          "table": [
           {
            "cells": {
             "fill": {
              "color": "#EBF0F8"
             },
             "line": {
              "color": "white"
             }
            },
            "header": {
             "fill": {
              "color": "#C8D4E3"
             },
             "line": {
              "color": "white"
             }
            },
            "type": "table"
           }
          ]
         },
         "layout": {
          "annotationdefaults": {
           "arrowcolor": "#2a3f5f",
           "arrowhead": 0,
           "arrowwidth": 1
          },
          "autotypenumbers": "strict",
          "coloraxis": {
           "colorbar": {
            "outlinewidth": 0,
            "ticks": ""
           }
          },
          "colorscale": {
           "diverging": [
            [
             0,
             "#8e0152"
            ],
            [
             0.1,
             "#c51b7d"
            ],
            [
             0.2,
             "#de77ae"
            ],
            [
             0.3,
             "#f1b6da"
            ],
            [
             0.4,
             "#fde0ef"
            ],
            [
             0.5,
             "#f7f7f7"
            ],
            [
             0.6,
             "#e6f5d0"
            ],
            [
             0.7,
             "#b8e186"
            ],
            [
             0.8,
             "#7fbc41"
            ],
            [
             0.9,
             "#4d9221"
            ],
            [
             1,
             "#276419"
            ]
           ],
           "sequential": [
            [
             0,
             "#0d0887"
            ],
            [
             0.1111111111111111,
             "#46039f"
            ],
            [
             0.2222222222222222,
             "#7201a8"
            ],
            [
             0.3333333333333333,
             "#9c179e"
            ],
            [
             0.4444444444444444,
             "#bd3786"
            ],
            [
             0.5555555555555556,
             "#d8576b"
            ],
            [
             0.6666666666666666,
             "#ed7953"
            ],
            [
             0.7777777777777778,
             "#fb9f3a"
            ],
            [
             0.8888888888888888,
             "#fdca26"
            ],
            [
             1,
             "#f0f921"
            ]
           ],
           "sequentialminus": [
            [
             0,
             "#0d0887"
            ],
            [
             0.1111111111111111,
             "#46039f"
            ],
            [
             0.2222222222222222,
             "#7201a8"
            ],
            [
             0.3333333333333333,
             "#9c179e"
            ],
            [
             0.4444444444444444,
             "#bd3786"
            ],
            [
             0.5555555555555556,
             "#d8576b"
            ],
            [
             0.6666666666666666,
             "#ed7953"
            ],
            [
             0.7777777777777778,
             "#fb9f3a"
            ],
            [
             0.8888888888888888,
             "#fdca26"
            ],
            [
             1,
             "#f0f921"
            ]
           ]
          },
          "colorway": [
           "#636efa",
           "#EF553B",
           "#00cc96",
           "#ab63fa",
           "#FFA15A",
           "#19d3f3",
           "#FF6692",
           "#B6E880",
           "#FF97FF",
           "#FECB52"
          ],
          "font": {
           "color": "#2a3f5f"
          },
          "geo": {
           "bgcolor": "white",
           "lakecolor": "white",
           "landcolor": "#E5ECF6",
           "showlakes": true,
           "showland": true,
           "subunitcolor": "white"
          },
          "hoverlabel": {
           "align": "left"
          },
          "hovermode": "closest",
          "mapbox": {
           "style": "light"
          },
          "paper_bgcolor": "white",
          "plot_bgcolor": "#E5ECF6",
          "polar": {
           "angularaxis": {
            "gridcolor": "white",
            "linecolor": "white",
            "ticks": ""
           },
           "bgcolor": "#E5ECF6",
           "radialaxis": {
            "gridcolor": "white",
            "linecolor": "white",
            "ticks": ""
           }
          },
          "scene": {
           "xaxis": {
            "backgroundcolor": "#E5ECF6",
            "gridcolor": "white",
            "gridwidth": 2,
            "linecolor": "white",
            "showbackground": true,
            "ticks": "",
            "zerolinecolor": "white"
           },
           "yaxis": {
            "backgroundcolor": "#E5ECF6",
            "gridcolor": "white",
            "gridwidth": 2,
            "linecolor": "white",
            "showbackground": true,
            "ticks": "",
            "zerolinecolor": "white"
           },
           "zaxis": {
            "backgroundcolor": "#E5ECF6",
            "gridcolor": "white",
            "gridwidth": 2,
            "linecolor": "white",
            "showbackground": true,
            "ticks": "",
            "zerolinecolor": "white"
           }
          },
          "shapedefaults": {
           "line": {
            "color": "#2a3f5f"
           }
          },
          "ternary": {
           "aaxis": {
            "gridcolor": "white",
            "linecolor": "white",
            "ticks": ""
           },
           "baxis": {
            "gridcolor": "white",
            "linecolor": "white",
            "ticks": ""
           },
           "bgcolor": "#E5ECF6",
           "caxis": {
            "gridcolor": "white",
            "linecolor": "white",
            "ticks": ""
           }
          },
          "title": {
           "x": 0.05
          },
          "xaxis": {
           "automargin": true,
           "gridcolor": "white",
           "linecolor": "white",
           "ticks": "",
           "title": {
            "standoff": 15
           },
           "zerolinecolor": "white",
           "zerolinewidth": 2
          },
          "yaxis": {
           "automargin": true,
           "gridcolor": "white",
           "linecolor": "white",
           "ticks": "",
           "title": {
            "standoff": 15
           },
           "zerolinecolor": "white",
           "zerolinewidth": 2
          }
         }
        }
       }
      },
      "image/png": "[encoded data removed]",
      "text/html": [
       "<div>                            <div id=\"43afee20-523f-4fd6-ae31-7836a0585a52\" class=\"plotly-graph-div\" style=\"height:525px; width:100%;\"></div>            <script type=\"text/javascript\">                require([\"plotly\"], function(Plotly) {                    window.PLOTLYENV=window.PLOTLYENV || {};                                    if (document.getElementById(\"43afee20-523f-4fd6-ae31-7836a0585a52\")) {                    Plotly.newPlot(                        \"43afee20-523f-4fd6-ae31-7836a0585a52\",                        [{\"hovertemplate\":\"x=%{x}\\u003cbr\\u003ey=%{y}\\u003cbr\\u003ez=%{z}\\u003cextra\\u003e\\u003c\\u002fextra\\u003e\",\"legendgroup\":\"\",\"marker\":{\"color\":\"#636efa\",\"symbol\":\"circle\"},\"mode\":\"markers\",\"name\":\"\",\"scene\":\"scene\",\"showlegend\":false,\"x\":[2.8329353559788943,2.5393127311368806,2.1262243424365517,0.6280654981416909,2.3123902869750967,1.7908800541289134,2.3856074361846487,3.459518973282913,-2.2929191825351243,1.5858189560176674,2.108708439064171,2.3092075604935642,3.370412041996662,0.4898972482351498,-0.1317731922389549,0.7158270918721428,2.0884036740319125,-0.15437818844223328,2.6212406835539763,2.7093714317390214,2.5700206900556477,-0.47401816824553267,0.13232683965765712,-1.3986003386390364,1.2165748184838465,-0.06261466740854438,4.093207864261461,0.485619824988087,-1.0500489723419322,0.30981838656638816,-2.7395742611875242,3.896526675388725,-0.07436354898136344,4.1529404063831725,-1.089316734143064,1.8114340285015125,0.7657776777034253,0.3098591230882479,0.7957083074651763,-1.5575431979407373,-2.7934757439571993,2.389047554678397,-1.0687508198560707,-0.18519887793800738,-1.7704332681606783,0.5419344158398705,-0.6105341349264437,2.443176389948148,-1.3862416159873374,3.2539057678259775,2.5136271139762005,-1.020986675795559,3.9842485643005823,1.7421707613572375,2.97186144344551,1.4897405436951328,2.796577998749121,1.69792016333896,-1.8904518250118236,-1.9274597922099252,-2.5128788639632518,0.9329075172237165,-2.169426185559773,-0.752577551754726,3.8846653375290074,2.4716029668846256,-0.4670235276244199,0.2425343977316956,-0.19926602344668431,-1.1783115533357342,2.874302092987681,0.26779687591808,2.5500985125531335,1.1253196850190954,-1.4706726097691738,-0.19783345657029283,3.983029380286105,-2.489313027277893,2.1150550708060916,-1.6484798263927685,2.0284374824874263,3.7726348160501164,0.743256179727279,-1.1725147182395155,0.656282901957344,3.683651593055864,1.2916577829501197,-1.4441068736725249,1.416896332697764,-0.2880687880442281,0.2774940583490344,2.2187187334974716,-0.39936433754512946,-0.5992763969418036,0.35600855205834847,0.9735699550163508,4.182619830362996,-2.4294170488173514,-2.3976339507722977,3.073829072855956],\"y\":[1.4773523658911287,1.0303857681205049,-2.2071996639825917,2.2288034248229183,-1.5633338857810992,-1.0782202053966503,3.0621535575131835,-0.501125190420344,1.1170369597110468,-1.359691958642129,4.121590167329058,-1.2869138935586353,-2.5615358378820643,3.497095635644401,3.9401601577339216,2.3565571888439596,0.5795512671689602,1.2804806891494218,1.7330813585314084,-0.8032112189925447,-0.6461157200909042,1.7413830626611357,2.5664373595779892,-1.49485741302203,4.19190522890993,3.699754512490691,-2.4744384497663567,-0.7549803492268894,0.904997869418092,-1.531807891922052,2.751579402209324,-1.1958598115475718,0.30065141064366685,4.142706676625913,3.5680407802984853,3.677204022452706,0.3758473477363604,-1.671636257181408,2.3321511059551643,2.5840860681769353,0.7351958050781437,-2.6217988691119416,-1.9807691167338197,-1.0474073458723165,0.6185673364878808,-2.783517188178002,3.4234056318023143,4.026228078693863,1.7974163129478677,3.6985345000687415,0.17796269647667495,3.4266755092885672,-0.5248854031263979,1.639546973416441,-2.3144752031111193,2.008121009396258,-0.6153005953383959,0.823055526880204,3.5391467801117704,2.7095672962694834,0.8565587340975211,0.5145068369388675,1.203262884409706,-1.8960955880299348,1.674785111426285,3.1855618788035116,-1.1463241442613095,-1.9154635038898284,3.330988552838379,-1.5487706894534172,0.9450788687046687,3.673481609993977,4.047331439622994,-1.374306506387191,0.21466518429281,1.3281573871852386,-2.1693517729053933,-0.765435182709088,2.34091703734516,2.668535677256722,1.2024315568580723,1.016624616229998,2.172630315821827,0.751111606874403,-0.03242415527737652,-0.2024670028786817,-2.0287994798073594,-2.191857097186828,-0.42711487199803644,-1.3877324322294413,0.3952231892024787,2.5817957097152897,3.516517744669722,1.5136543917766128,1.201926264454369,1.8897360487622672,-0.48493286605204977,-1.1575357337110068,-2.2333069333789175,1.8207014359297595],\"z\":[13.519565603833138,11.779074786748348,11.35021123795118,9.091941664346447,12.066698671788473,4.93603280112472,18.78490756710485,15.249867793474749,8.422509251759466,6.325330880353437,27.571346992256117,8.27483394972975,18.108176216117418,15.311187574950447,17.106937170439203,8.688505955779137,7.854101693471482,3.7263481988849123,10.95994712405126,11.020342519219794,9.891563232367272,5.1374847933891745,8.986630963004798,7.2315188445394725,21.54757516061254,16.870889192469157,25.068980866935178,1.897071666933603,4.405303978945249,3.0279153958050515,17.78918389889625,19.281756884324345,1.7693072178994491,39.518089499810785,16.603935756269248,20.71378966430009,3.7290184838519203,5.302867471903374,9.287990663377512,9.406245899970658,8.677638481209843,15.428530911158163,5.925806650367981,2.3560802961746887,5.846632071416992,10.755721138629209,15.555054036999294,26.039091747495615,6.115849417507745,30.175972433217645,8.482755696361222,15.610223341455356,17.355362101875468,7.907692938634021,17.138400444462917,9.397893817652701,9.677182235478224,4.435415499681238,15.748755817062953,12.553734513966328,8.510129021640024,2.1175667329476107,8.866620181463352,6.036783343334685,22.544542867677666,20.43944815489122,2.627271036790437,8.11446894509741,12.215964391639158,5.054414278133045,11.34422991414188,16.74686945745784,27.525009317722475,5.797342371917137,3.159523255027315,5.120643933418908,21.74993222878189,8.27931064268787,13.388695035927745,12.984844033074701,8.268914000230259,17.351183771558397,7.563095802692243,3.3803612483232475,3.7496099886304837,14.888070938661734,6.556822275692919,10.216491449120944,5.2619486208044535,2.8997860508226188,0.7805705185504248,15.340228580347969,14.092471859400396,3.7556268776181447,2.457382943390485,7.956828792964204,22.31985310930977,7.001068669991321,10.086387309721268,15.12632456108524],\"type\":\"scatter3d\"}],                        {\"template\":{\"data\":{\"histogram2dcontour\":[{\"type\":\"histogram2dcontour\",\"colorbar\":{\"outlinewidth\":0,\"ticks\":\"\"},\"colorscale\":[[0.0,\"#0d0887\"],[0.1111111111111111,\"#46039f\"],[0.2222222222222222,\"#7201a8\"],[0.3333333333333333,\"#9c179e\"],[0.4444444444444444,\"#bd3786\"],[0.5555555555555556,\"#d8576b\"],[0.6666666666666666,\"#ed7953\"],[0.7777777777777778,\"#fb9f3a\"],[0.8888888888888888,\"#fdca26\"],[1.0,\"#f0f921\"]]}],\"choropleth\":[{\"type\":\"choropleth\",\"colorbar\":{\"outlinewidth\":0,\"ticks\":\"\"}}],\"histogram2d\":[{\"type\":\"histogram2d\",\"colorbar\":{\"outlinewidth\":0,\"ticks\":\"\"},\"colorscale\":[[0.0,\"#0d0887\"],[0.1111111111111111,\"#46039f\"],[0.2222222222222222,\"#7201a8\"],[0.3333333333333333,\"#9c179e\"],[0.4444444444444444,\"#bd3786\"],[0.5555555555555556,\"#d8576b\"],[0.6666666666666666,\"#ed7953\"],[0.7777777777777778,\"#fb9f3a\"],[0.8888888888888888,\"#fdca26\"],[1.0,\"#f0f921\"]]}],\"heatmap\":[{\"type\":\"heatmap\",\"colorbar\":{\"outlinewidth\":0,\"ticks\":\"\"},\"colorscale\":[[0.0,\"#0d0887\"],[0.1111111111111111,\"#46039f\"],[0.2222222222222222,\"#7201a8\"],[0.3333333333333333,\"#9c179e\"],[0.4444444444444444,\"#bd3786\"],[0.5555555555555556,\"#d8576b\"],[0.6666666666666666,\"#ed7953\"],[0.7777777777777778,\"#fb9f3a\"],[0.8888888888888888,\"#fdca26\"],[1.0,\"#f0f921\"]]}],\"heatmapgl\":[{\"type\":\"heatmapgl\",\"colorbar\":{\"outlinewidth\":0,\"ticks\":\"\"},\"colorscale\":[[0.0,\"#0d0887\"],[0.1111111111111111,\"#46039f\"],[0.2222222222222222,\"#7201a8\"],[0.3333333333333333,\"#9c179e\"],[0.4444444444444444,\"#bd3786\"],[0.5555555555555556,\"#d8576b\"],[0.6666666666666666,\"#ed7953\"],[0.7777777777777778,\"#fb9f3a\"],[0.8888888888888888,\"#fdca26\"],[1.0,\"#f0f921\"]]}],\"contourcarpet\":[{\"type\":\"contourcarpet\",\"colorbar\":{\"outlinewidth\":0,\"ticks\":\"\"}}],\"contour\":[{\"type\":\"contour\",\"colorbar\":{\"outlinewidth\":0,\"ticks\":\"\"},\"colorscale\":[[0.0,\"#0d0887\"],[0.1111111111111111,\"#46039f\"],[0.2222222222222222,\"#7201a8\"],[0.3333333333333333,\"#9c179e\"],[0.4444444444444444,\"#bd3786\"],[0.5555555555555556,\"#d8576b\"],[0.6666666666666666,\"#ed7953\"],[0.7777777777777778,\"#fb9f3a\"],[0.8888888888888888,\"#fdca26\"],[1.0,\"#f0f921\"]]}],\"surface\":[{\"type\":\"surface\",\"colorbar\":{\"outlinewidth\":0,\"ticks\":\"\"},\"colorscale\":[[0.0,\"#0d0887\"],[0.1111111111111111,\"#46039f\"],[0.2222222222222222,\"#7201a8\"],[0.3333333333333333,\"#9c179e\"],[0.4444444444444444,\"#bd3786\"],[0.5555555555555556,\"#d8576b\"],[0.6666666666666666,\"#ed7953\"],[0.7777777777777778,\"#fb9f3a\"],[0.8888888888888888,\"#fdca26\"],[1.0,\"#f0f921\"]]}],\"mesh3d\":[{\"type\":\"mesh3d\",\"colorbar\":{\"outlinewidth\":0,\"ticks\":\"\"}}],\"scatter\":[{\"fillpattern\":{\"fillmode\":\"overlay\",\"size\":10,\"solidity\":0.2},\"type\":\"scatter\"}],\"parcoords\":[{\"type\":\"parcoords\",\"line\":{\"colorbar\":{\"outlinewidth\":0,\"ticks\":\"\"}}}],\"scatterpolargl\":[{\"type\":\"scatterpolargl\",\"marker\":{\"colorbar\":{\"outlinewidth\":0,\"ticks\":\"\"}}}],\"bar\":[{\"error_x\":{\"color\":\"#2a3f5f\"},\"error_y\":{\"color\":\"#2a3f5f\"},\"marker\":{\"line\":{\"color\":\"#E5ECF6\",\"width\":0.5},\"pattern\":{\"fillmode\":\"overlay\",\"size\":10,\"solidity\":0.2}},\"type\":\"bar\"}],\"scattergeo\":[{\"type\":\"scattergeo\",\"marker\":{\"colorbar\":{\"outlinewidth\":0,\"ticks\":\"\"}}}],\"scatterpolar\":[{\"type\":\"scatterpolar\",\"marker\":{\"colorbar\":{\"outlinewidth\":0,\"ticks\":\"\"}}}],\"histogram\":[{\"marker\":{\"pattern\":{\"fillmode\":\"overlay\",\"size\":10,\"solidity\":0.2}},\"type\":\"histogram\"}],\"scattergl\":[{\"type\":\"scattergl\",\"marker\":{\"colorbar\":{\"outlinewidth\":0,\"ticks\":\"\"}}}],\"scatter3d\":[{\"type\":\"scatter3d\",\"line\":{\"colorbar\":{\"outlinewidth\":0,\"ticks\":\"\"}},\"marker\":{\"colorbar\":{\"outlinewidth\":0,\"ticks\":\"\"}}}],\"scattermapbox\":[{\"type\":\"scattermapbox\",\"marker\":{\"colorbar\":{\"outlinewidth\":0,\"ticks\":\"\"}}}],\"scatterternary\":[{\"type\":\"scatterternary\",\"marker\":{\"colorbar\":{\"outlinewidth\":0,\"ticks\":\"\"}}}],\"scattercarpet\":[{\"type\":\"scattercarpet\",\"marker\":{\"colorbar\":{\"outlinewidth\":0,\"ticks\":\"\"}}}],\"carpet\":[{\"aaxis\":{\"endlinecolor\":\"#2a3f5f\",\"gridcolor\":\"white\",\"linecolor\":\"white\",\"minorgridcolor\":\"white\",\"startlinecolor\":\"#2a3f5f\"},\"baxis\":{\"endlinecolor\":\"#2a3f5f\",\"gridcolor\":\"white\",\"linecolor\":\"white\",\"minorgridcolor\":\"white\",\"startlinecolor\":\"#2a3f5f\"},\"type\":\"carpet\"}],\"table\":[{\"cells\":{\"fill\":{\"color\":\"#EBF0F8\"},\"line\":{\"color\":\"white\"}},\"header\":{\"fill\":{\"color\":\"#C8D4E3\"},\"line\":{\"color\":\"white\"}},\"type\":\"table\"}],\"barpolar\":[{\"marker\":{\"line\":{\"color\":\"#E5ECF6\",\"width\":0.5},\"pattern\":{\"fillmode\":\"overlay\",\"size\":10,\"solidity\":0.2}},\"type\":\"barpolar\"}],\"pie\":[{\"automargin\":true,\"type\":\"pie\"}]},\"layout\":{\"autotypenumbers\":\"strict\",\"colorway\":[\"#636efa\",\"#EF553B\",\"#00cc96\",\"#ab63fa\",\"#FFA15A\",\"#19d3f3\",\"#FF6692\",\"#B6E880\",\"#FF97FF\",\"#FECB52\"],\"font\":{\"color\":\"#2a3f5f\"},\"hovermode\":\"closest\",\"hoverlabel\":{\"align\":\"left\"},\"paper_bgcolor\":\"white\",\"plot_bgcolor\":\"#E5ECF6\",\"polar\":{\"bgcolor\":\"#E5ECF6\",\"angularaxis\":{\"gridcolor\":\"white\",\"linecolor\":\"white\",\"ticks\":\"\"},\"radialaxis\":{\"gridcolor\":\"white\",\"linecolor\":\"white\",\"ticks\":\"\"}},\"ternary\":{\"bgcolor\":\"#E5ECF6\",\"aaxis\":{\"gridcolor\":\"white\",\"linecolor\":\"white\",\"ticks\":\"\"},\"baxis\":{\"gridcolor\":\"white\",\"linecolor\":\"white\",\"ticks\":\"\"},\"caxis\":{\"gridcolor\":\"white\",\"linecolor\":\"white\",\"ticks\":\"\"}},\"coloraxis\":{\"colorbar\":{\"outlinewidth\":0,\"ticks\":\"\"}},\"colorscale\":{\"sequential\":[[0.0,\"#0d0887\"],[0.1111111111111111,\"#46039f\"],[0.2222222222222222,\"#7201a8\"],[0.3333333333333333,\"#9c179e\"],[0.4444444444444444,\"#bd3786\"],[0.5555555555555556,\"#d8576b\"],[0.6666666666666666,\"#ed7953\"],[0.7777777777777778,\"#fb9f3a\"],[0.8888888888888888,\"#fdca26\"],[1.0,\"#f0f921\"]],\"sequentialminus\":[[0.0,\"#0d0887\"],[0.1111111111111111,\"#46039f\"],[0.2222222222222222,\"#7201a8\"],[0.3333333333333333,\"#9c179e\"],[0.4444444444444444,\"#bd3786\"],[0.5555555555555556,\"#d8576b\"],[0.6666666666666666,\"#ed7953\"],[0.7777777777777778,\"#fb9f3a\"],[0.8888888888888888,\"#fdca26\"],[1.0,\"#f0f921\"]],\"diverging\":[[0,\"#8e0152\"],[0.1,\"#c51b7d\"],[0.2,\"#de77ae\"],[0.3,\"#f1b6da\"],[0.4,\"#fde0ef\"],[0.5,\"#f7f7f7\"],[0.6,\"#e6f5d0\"],[0.7,\"#b8e186\"],[0.8,\"#7fbc41\"],[0.9,\"#4d9221\"],[1,\"#276419\"]]},\"xaxis\":{\"gridcolor\":\"white\",\"linecolor\":\"white\",\"ticks\":\"\",\"title\":{\"standoff\":15},\"zerolinecolor\":\"white\",\"automargin\":true,\"zerolinewidth\":2},\"yaxis\":{\"gridcolor\":\"white\",\"linecolor\":\"white\",\"ticks\":\"\",\"title\":{\"standoff\":15},\"zerolinecolor\":\"white\",\"automargin\":true,\"zerolinewidth\":2},\"scene\":{\"xaxis\":{\"backgroundcolor\":\"#E5ECF6\",\"gridcolor\":\"white\",\"linecolor\":\"white\",\"showbackground\":true,\"ticks\":\"\",\"zerolinecolor\":\"white\",\"gridwidth\":2},\"yaxis\":{\"backgroundcolor\":\"#E5ECF6\",\"gridcolor\":\"white\",\"linecolor\":\"white\",\"showbackground\":true,\"ticks\":\"\",\"zerolinecolor\":\"white\",\"gridwidth\":2},\"zaxis\":{\"backgroundcolor\":\"#E5ECF6\",\"gridcolor\":\"white\",\"linecolor\":\"white\",\"showbackground\":true,\"ticks\":\"\",\"zerolinecolor\":\"white\",\"gridwidth\":2}},\"shapedefaults\":{\"line\":{\"color\":\"#2a3f5f\"}},\"annotationdefaults\":{\"arrowcolor\":\"#2a3f5f\",\"arrowhead\":0,\"arrowwidth\":1},\"geo\":{\"bgcolor\":\"white\",\"landcolor\":\"#E5ECF6\",\"subunitcolor\":\"white\",\"showland\":true,\"showlakes\":true,\"lakecolor\":\"white\"},\"title\":{\"x\":0.05},\"mapbox\":{\"style\":\"light\"}}},\"scene\":{\"domain\":{\"x\":[0.0,1.0],\"y\":[0.0,1.0]},\"xaxis\":{\"title\":{\"text\":\"x\"}},\"yaxis\":{\"title\":{\"text\":\"y\"}},\"zaxis\":{\"title\":{\"text\":\"z\"}}},\"legend\":{\"tracegroupgap\":0},\"margin\":{\"t\":60}},                        {\"responsive\": true}                    ).then(function(){\n",
       "                            \n",
       "var gd = document.getElementById('43afee20-523f-4fd6-ae31-7836a0585a52');\n",
       "var x = new MutationObserver(function (mutations, observer) {{\n",
       "        var display = window.getComputedStyle(gd).display;\n",
       "        if (!display || display === 'none') {{\n",
       "            console.log([gd, 'removed!']);\n",
       "            Plotly.purge(gd);\n",
       "            observer.disconnect();\n",
       "        }}\n",
       "}});\n",
       "\n",
       "// Listen for the removal of the full notebook cells\n",
       "var notebookContainer = gd.closest('#notebook-container');\n",
       "if (notebookContainer) {{\n",
       "    x.observe(notebookContainer, {childList: true});\n",
       "}}\n",
       "\n",
       "// Listen for the clearing of the current output cell\n",
       "var outputEl = gd.closest('.output');\n",
       "if (outputEl) {{\n",
       "    x.observe(outputEl, {childList: true});\n",
       "}}\n",
       "\n",
       "                        })                };                });            </script>        </div>"
      ]
     },
     "metadata": {},
     "output_type": "display_data"
    }
   ],
   "source": [
    "import plotly.express as px\n",
    "df = px.data.iris()\n",
    "fig = px.scatter_3d(df, x=x.ravel(), y=y.ravel(), z=z.ravel())\n",
    "fig.show()"
   ]
  },
  {
   "cell_type": "markdown",
   "id": "9bd45538-5ac6-41e9-986d-f3fd1fffbbeb",
   "metadata": {},
   "source": [
    "# MLR Without any polynomial feature"
   ]
  },
  {
   "cell_type": "code",
   "execution_count": 154,
   "id": "4c53fade-333d-4b26-9154-ec04c017196c",
   "metadata": {},
   "outputs": [],
   "source": [
    "lr = LinearRegression()\n",
    "lr.fit(np.array([x,y]).reshape(100,2),z)\n",
    "\n",
    "x_input = np.linspace(x.min(), x.max(), 10)\n",
    "y_input = np.linspace(y.min(), y.max(), 10)\n",
    "xGrid, yGrid = np.meshgrid(x_input,y_input)\n",
    "\n",
    "final = np.vstack((xGrid.ravel().reshape(1,100),yGrid.ravel().reshape(1,100))).T\n",
    "\n",
    "z_final = lr.predict(final).reshape(10,10)"
   ]
  },
  {
   "cell_type": "code",
   "execution_count": 156,
   "id": "ee43f931-7481-49c2-acea-33221755a5a9",
   "metadata": {},
   "outputs": [
    {
     "data": {
      "application/vnd.plotly.v1+json": {
       "config": {
        "plotlyServerURL": "https://plot.ly"
       },
       "data": [
        {
         "hovertemplate": "x=%{x}<br>y=%{y}<br>z=%{z}<extra></extra>",
         "legendgroup": "",
         "marker": {
          "color": "#636efa",
          "symbol": "circle"
         },
         "mode": "markers",
         "name": "",
         "scene": "scene",
         "showlegend": false,
         "type": "scatter3d",
         "x": [
          2.8329353559788943,
          2.5393127311368806,
          2.1262243424365517,
          0.6280654981416909,
          2.3123902869750967,
          1.7908800541289134,
          2.3856074361846487,
          3.459518973282913,
          -2.2929191825351243,
          1.5858189560176674,
          2.108708439064171,
          2.3092075604935642,
          3.370412041996662,
          0.4898972482351498,
          -0.1317731922389549,
          0.7158270918721428,
          2.0884036740319125,
          -0.15437818844223328,
          2.6212406835539763,
          2.7093714317390214,
          2.5700206900556477,
          -0.47401816824553267,
          0.13232683965765712,
          -1.3986003386390364,
          1.2165748184838465,
          -0.06261466740854438,
          4.093207864261461,
          0.485619824988087,
          -1.0500489723419322,
          0.30981838656638816,
          -2.7395742611875242,
          3.896526675388725,
          -0.07436354898136344,
          4.1529404063831725,
          -1.089316734143064,
          1.8114340285015125,
          0.7657776777034253,
          0.3098591230882479,
          0.7957083074651763,
          -1.5575431979407373,
          -2.7934757439571993,
          2.389047554678397,
          -1.0687508198560707,
          -0.18519887793800738,
          -1.7704332681606783,
          0.5419344158398705,
          -0.6105341349264437,
          2.443176389948148,
          -1.3862416159873374,
          3.2539057678259775,
          2.5136271139762005,
          -1.020986675795559,
          3.9842485643005823,
          1.7421707613572375,
          2.97186144344551,
          1.4897405436951328,
          2.796577998749121,
          1.69792016333896,
          -1.8904518250118236,
          -1.9274597922099252,
          -2.5128788639632518,
          0.9329075172237165,
          -2.169426185559773,
          -0.752577551754726,
          3.8846653375290074,
          2.4716029668846256,
          -0.4670235276244199,
          0.2425343977316956,
          -0.19926602344668431,
          -1.1783115533357342,
          2.874302092987681,
          0.26779687591808,
          2.5500985125531335,
          1.1253196850190954,
          -1.4706726097691738,
          -0.19783345657029283,
          3.983029380286105,
          -2.489313027277893,
          2.1150550708060916,
          -1.6484798263927685,
          2.0284374824874263,
          3.7726348160501164,
          0.743256179727279,
          -1.1725147182395155,
          0.656282901957344,
          3.683651593055864,
          1.2916577829501197,
          -1.4441068736725249,
          1.416896332697764,
          -0.2880687880442281,
          0.2774940583490344,
          2.2187187334974716,
          -0.39936433754512946,
          -0.5992763969418036,
          0.35600855205834847,
          0.9735699550163508,
          4.182619830362996,
          -2.4294170488173514,
          -2.3976339507722977,
          3.073829072855956
         ],
         "y": [
          1.4773523658911287,
          1.0303857681205049,
          -2.2071996639825917,
          2.2288034248229183,
          -1.5633338857810992,
          -1.0782202053966503,
          3.0621535575131835,
          -0.501125190420344,
          1.1170369597110468,
          -1.359691958642129,
          4.121590167329058,
          -1.2869138935586353,
          -2.5615358378820643,
          3.497095635644401,
          3.9401601577339216,
          2.3565571888439596,
          0.5795512671689602,
          1.2804806891494218,
          1.7330813585314084,
          -0.8032112189925447,
          -0.6461157200909042,
          1.7413830626611357,
          2.5664373595779892,
          -1.49485741302203,
          4.19190522890993,
          3.699754512490691,
          -2.4744384497663567,
          -0.7549803492268894,
          0.904997869418092,
          -1.531807891922052,
          2.751579402209324,
          -1.1958598115475718,
          0.30065141064366685,
          4.142706676625913,
          3.5680407802984853,
          3.677204022452706,
          0.3758473477363604,
          -1.671636257181408,
          2.3321511059551643,
          2.5840860681769353,
          0.7351958050781437,
          -2.6217988691119416,
          -1.9807691167338197,
          -1.0474073458723165,
          0.6185673364878808,
          -2.783517188178002,
          3.4234056318023143,
          4.026228078693863,
          1.7974163129478677,
          3.6985345000687415,
          0.17796269647667495,
          3.4266755092885672,
          -0.5248854031263979,
          1.639546973416441,
          -2.3144752031111193,
          2.008121009396258,
          -0.6153005953383959,
          0.823055526880204,
          3.5391467801117704,
          2.7095672962694834,
          0.8565587340975211,
          0.5145068369388675,
          1.203262884409706,
          -1.8960955880299348,
          1.674785111426285,
          3.1855618788035116,
          -1.1463241442613095,
          -1.9154635038898284,
          3.330988552838379,
          -1.5487706894534172,
          0.9450788687046687,
          3.673481609993977,
          4.047331439622994,
          -1.374306506387191,
          0.21466518429281,
          1.3281573871852386,
          -2.1693517729053933,
          -0.765435182709088,
          2.34091703734516,
          2.668535677256722,
          1.2024315568580723,
          1.016624616229998,
          2.172630315821827,
          0.751111606874403,
          -0.03242415527737652,
          -0.2024670028786817,
          -2.0287994798073594,
          -2.191857097186828,
          -0.42711487199803644,
          -1.3877324322294413,
          0.3952231892024787,
          2.5817957097152897,
          3.516517744669722,
          1.5136543917766128,
          1.201926264454369,
          1.8897360487622672,
          -0.48493286605204977,
          -1.1575357337110068,
          -2.2333069333789175,
          1.8207014359297595
         ],
         "z": [
          13.519565603833138,
          11.779074786748348,
          11.35021123795118,
          9.091941664346447,
          12.066698671788473,
          4.93603280112472,
          18.78490756710485,
          15.249867793474749,
          8.422509251759466,
          6.325330880353437,
          27.571346992256117,
          8.27483394972975,
          18.108176216117418,
          15.311187574950447,
          17.106937170439203,
          8.688505955779137,
          7.854101693471482,
          3.7263481988849123,
          10.95994712405126,
          11.020342519219794,
          9.891563232367272,
          5.1374847933891745,
          8.986630963004798,
          7.2315188445394725,
          21.54757516061254,
          16.870889192469157,
          25.068980866935178,
          1.897071666933603,
          4.405303978945249,
          3.0279153958050515,
          17.78918389889625,
          19.281756884324345,
          1.7693072178994491,
          39.518089499810785,
          16.603935756269248,
          20.71378966430009,
          3.7290184838519203,
          5.302867471903374,
          9.287990663377512,
          9.406245899970658,
          8.677638481209843,
          15.428530911158163,
          5.925806650367981,
          2.3560802961746887,
          5.846632071416992,
          10.755721138629209,
          15.555054036999294,
          26.039091747495615,
          6.115849417507745,
          30.175972433217645,
          8.482755696361222,
          15.610223341455356,
          17.355362101875468,
          7.907692938634021,
          17.138400444462917,
          9.397893817652701,
          9.677182235478224,
          4.435415499681238,
          15.748755817062953,
          12.553734513966328,
          8.510129021640024,
          2.1175667329476107,
          8.866620181463352,
          6.036783343334685,
          22.544542867677666,
          20.43944815489122,
          2.627271036790437,
          8.11446894509741,
          12.215964391639158,
          5.054414278133045,
          11.34422991414188,
          16.74686945745784,
          27.525009317722475,
          5.797342371917137,
          3.159523255027315,
          5.120643933418908,
          21.74993222878189,
          8.27931064268787,
          13.388695035927745,
          12.984844033074701,
          8.268914000230259,
          17.351183771558397,
          7.563095802692243,
          3.3803612483232475,
          3.7496099886304837,
          14.888070938661734,
          6.556822275692919,
          10.216491449120944,
          5.2619486208044535,
          2.8997860508226188,
          0.7805705185504248,
          15.340228580347969,
          14.092471859400396,
          3.7556268776181447,
          2.457382943390485,
          7.956828792964204,
          22.31985310930977,
          7.001068669991321,
          10.086387309721268,
          15.12632456108524
         ]
        },
        {
         "type": "surface",
         "x": [
          -2.7934757439571993,
          -2.0183540134771776,
          -1.2432322829971558,
          -0.46811055251713407,
          0.3070111779628877,
          1.0821329084429094,
          1.8572546389229312,
          2.632376369402953,
          3.4074980998829747,
          4.182619830362996
         ],
         "y": [
          -2.783517188178002,
          -2.0084702529460094,
          -1.233423317714017,
          -0.4583763824820246,
          0.3166705527499678,
          1.0917174879819602,
          1.8667644232139526,
          2.6418113584459446,
          3.4168582936779375,
          4.19190522890993
         ],
         "z": [
          [
           14.45077084128647,
           14.15249906746774,
           13.854227293649009,
           13.555955519830277,
           13.257683746011548,
           12.959411972192816,
           12.661140198374087,
           12.362868424555355,
           12.064596650736624,
           11.766324876917894
          ],
          [
           14.077130905655839,
           13.778859131837107,
           13.480587358018376,
           13.182315584199646,
           12.884043810380915,
           12.585772036562183,
           12.287500262743453,
           11.989228488924722,
           11.69095671510599,
           11.39268494128726
          ],
          [
           13.703490970025205,
           13.405219196206474,
           13.106947422387744,
           12.808675648569013,
           12.510403874750281,
           12.212132100931552,
           11.91386032711282,
           11.615588553294089,
           11.317316779475359,
           11.019045005656627
          ],
          [
           13.329851034394572,
           13.031579260575842,
           12.733307486757111,
           12.43503571293838,
           12.13676393911965,
           11.838492165300918,
           11.540220391482187,
           11.241948617663457,
           10.943676843844726,
           10.645405070025994
          ],
          [
           12.956211098763939,
           12.65793932494521,
           12.359667551126478,
           12.061395777307746,
           11.763124003489017,
           11.464852229670285,
           11.166580455851554,
           10.868308682032824,
           10.570036908214092,
           10.271765134395363
          ],
          [
           12.582571163133307,
           12.284299389314576,
           11.986027615495845,
           11.687755841677115,
           11.389484067858383,
           11.091212294039652,
           10.792940520220922,
           10.49466874640219,
           10.19639697258346,
           9.89812519876473
          ],
          [
           12.208931227502674,
           11.910659453683943,
           11.612387679865213,
           11.314115906046482,
           11.01584413222775,
           10.717572358409019,
           10.419300584590289,
           10.121028810771557,
           9.822757036952826,
           9.524485263134096
          ],
          [
           11.835291291872041,
           11.53701951805331,
           11.23874774423458,
           10.940475970415848,
           10.642204196597117,
           10.343932422778387,
           10.045660648959656,
           9.747388875140924,
           9.449117101322194,
           9.150845327503465
          ],
          [
           11.461651356241408,
           11.163379582422678,
           10.865107808603947,
           10.566836034785215,
           10.268564260966485,
           9.970292487147754,
           9.672020713329022,
           9.373748939510293,
           9.075477165691561,
           8.77720539187283
          ],
          [
           11.088011420610774,
           10.789739646792045,
           10.491467872973313,
           10.193196099154582,
           9.894924325335852,
           9.59665255151712,
           9.298380777698389,
           9.000109003879658,
           8.701837230060928,
           8.403565456242198
          ]
         ]
        }
       ],
       "layout": {
        "autosize": true,
        "legend": {
         "tracegroupgap": 0
        },
        "margin": {
         "t": 60
        },
        "scene": {
         "aspectmode": "auto",
         "aspectratio": {
          "x": 1,
          "y": 1,
          "z": 1
         },
         "camera": {
          "center": {
           "x": 0,
           "y": 0,
           "z": 0
          },
          "eye": {
           "x": 1.0881552786307007,
           "y": 2.6634622615707295,
           "z": 0.15160952890975238
          },
          "projection": {
           "type": "perspective"
          },
          "up": {
           "x": 0,
           "y": 0,
           "z": 1
          }
         },
         "domain": {
          "x": [
           0,
           1
          ],
          "y": [
           0,
           1
          ]
         },
         "xaxis": {
          "title": {
           "text": "x"
          },
          "type": "linear"
         },
         "yaxis": {
          "title": {
           "text": "y"
          },
          "type": "linear"
         },
         "zaxis": {
          "title": {
           "text": "z"
          },
          "type": "linear"
         }
        },
        "template": {
         "data": {
          "bar": [
           {
            "error_x": {
             "color": "#2a3f5f"
            },
            "error_y": {
             "color": "#2a3f5f"
            },
            "marker": {
             "line": {
              "color": "#E5ECF6",
              "width": 0.5
             },
             "pattern": {
              "fillmode": "overlay",
              "size": 10,
              "solidity": 0.2
             }
            },
            "type": "bar"
           }
          ],
          "barpolar": [
           {
            "marker": {
             "line": {
              "color": "#E5ECF6",
              "width": 0.5
             },
             "pattern": {
              "fillmode": "overlay",
              "size": 10,
              "solidity": 0.2
             }
            },
            "type": "barpolar"
           }
          ],
          "carpet": [
           {
            "aaxis": {
             "endlinecolor": "#2a3f5f",
             "gridcolor": "white",
             "linecolor": "white",
             "minorgridcolor": "white",
             "startlinecolor": "#2a3f5f"
            },
            "baxis": {
             "endlinecolor": "#2a3f5f",
             "gridcolor": "white",
             "linecolor": "white",
             "minorgridcolor": "white",
             "startlinecolor": "#2a3f5f"
            },
            "type": "carpet"
           }
          ],
          "choropleth": [
           {
            "colorbar": {
             "outlinewidth": 0,
             "ticks": ""
            },
            "type": "choropleth"
           }
          ],
          "contour": [
           {
            "colorbar": {
             "outlinewidth": 0,
             "ticks": ""
            },
            "colorscale": [
             [
              0,
              "#0d0887"
             ],
             [
              0.1111111111111111,
              "#46039f"
             ],
             [
              0.2222222222222222,
              "#7201a8"
             ],
             [
              0.3333333333333333,
              "#9c179e"
             ],
             [
              0.4444444444444444,
              "#bd3786"
             ],
             [
              0.5555555555555556,
              "#d8576b"
             ],
             [
              0.6666666666666666,
              "#ed7953"
             ],
             [
              0.7777777777777778,
              "#fb9f3a"
             ],
             [
              0.8888888888888888,
              "#fdca26"
             ],
             [
              1,
              "#f0f921"
             ]
            ],
            "type": "contour"
           }
          ],
          "contourcarpet": [
           {
            "colorbar": {
             "outlinewidth": 0,
             "ticks": ""
            },
            "type": "contourcarpet"
           }
          ],
          "heatmap": [
           {
            "colorbar": {
             "outlinewidth": 0,
             "ticks": ""
            },
            "colorscale": [
             [
              0,
              "#0d0887"
             ],
             [
              0.1111111111111111,
              "#46039f"
             ],
             [
              0.2222222222222222,
              "#7201a8"
             ],
             [
              0.3333333333333333,
              "#9c179e"
             ],
             [
              0.4444444444444444,
              "#bd3786"
             ],
             [
              0.5555555555555556,
              "#d8576b"
             ],
             [
              0.6666666666666666,
              "#ed7953"
             ],
             [
              0.7777777777777778,
              "#fb9f3a"
             ],
             [
              0.8888888888888888,
              "#fdca26"
             ],
             [
              1,
              "#f0f921"
             ]
            ],
            "type": "heatmap"
           }
          ],
          "heatmapgl": [
           {
            "colorbar": {
             "outlinewidth": 0,
             "ticks": ""
            },
            "colorscale": [
             [
              0,
              "#0d0887"
             ],
             [
              0.1111111111111111,
              "#46039f"
             ],
             [
              0.2222222222222222,
              "#7201a8"
             ],
             [
              0.3333333333333333,
              "#9c179e"
             ],
             [
              0.4444444444444444,
              "#bd3786"
             ],
             [
              0.5555555555555556,
              "#d8576b"
             ],
             [
              0.6666666666666666,
              "#ed7953"
             ],
             [
              0.7777777777777778,
              "#fb9f3a"
             ],
             [
              0.8888888888888888,
              "#fdca26"
             ],
             [
              1,
              "#f0f921"
             ]
            ],
            "type": "heatmapgl"
           }
          ],
          "histogram": [
           {
            "marker": {
             "pattern": {
              "fillmode": "overlay",
              "size": 10,
              "solidity": 0.2
             }
            },
            "type": "histogram"
           }
          ],
          "histogram2d": [
           {
            "colorbar": {
             "outlinewidth": 0,
             "ticks": ""
            },
            "colorscale": [
             [
              0,
              "#0d0887"
             ],
             [
              0.1111111111111111,
              "#46039f"
             ],
             [
              0.2222222222222222,
              "#7201a8"
             ],
             [
              0.3333333333333333,
              "#9c179e"
             ],
             [
              0.4444444444444444,
              "#bd3786"
             ],
             [
              0.5555555555555556,
              "#d8576b"
             ],
             [
              0.6666666666666666,
              "#ed7953"
             ],
             [
              0.7777777777777778,
              "#fb9f3a"
             ],
             [
              0.8888888888888888,
              "#fdca26"
             ],
             [
              1,
              "#f0f921"
             ]
            ],
            "type": "histogram2d"
           }
          ],
          "histogram2dcontour": [
           {
            "colorbar": {
             "outlinewidth": 0,
             "ticks": ""
            },
            "colorscale": [
             [
              0,
              "#0d0887"
             ],
             [
              0.1111111111111111,
              "#46039f"
             ],
             [
              0.2222222222222222,
              "#7201a8"
             ],
             [
              0.3333333333333333,
              "#9c179e"
             ],
             [
              0.4444444444444444,
              "#bd3786"
             ],
             [
              0.5555555555555556,
              "#d8576b"
             ],
             [
              0.6666666666666666,
              "#ed7953"
             ],
             [
              0.7777777777777778,
              "#fb9f3a"
             ],
             [
              0.8888888888888888,
              "#fdca26"
             ],
             [
              1,
              "#f0f921"
             ]
            ],
            "type": "histogram2dcontour"
           }
          ],
          "mesh3d": [
           {
            "colorbar": {
             "outlinewidth": 0,
             "ticks": ""
            },
            "type": "mesh3d"
           }
          ],
          "parcoords": [
           {
            "line": {
             "colorbar": {
              "outlinewidth": 0,
              "ticks": ""
             }
            },
            "type": "parcoords"
           }
          ],
          "pie": [
           {
            "automargin": true,
            "type": "pie"
           }
          ],
          "scatter": [
           {
            "fillpattern": {
             "fillmode": "overlay",
             "size": 10,
             "solidity": 0.2
            },
            "type": "scatter"
           }
          ],
          "scatter3d": [
           {
            "line": {
             "colorbar": {
              "outlinewidth": 0,
              "ticks": ""
             }
            },
            "marker": {
             "colorbar": {
              "outlinewidth": 0,
              "ticks": ""
             }
            },
            "type": "scatter3d"
           }
          ],
          "scattercarpet": [
           {
            "marker": {
             "colorbar": {
              "outlinewidth": 0,
              "ticks": ""
             }
            },
            "type": "scattercarpet"
           }
          ],
          "scattergeo": [
           {
            "marker": {
             "colorbar": {
              "outlinewidth": 0,
              "ticks": ""
             }
            },
            "type": "scattergeo"
           }
          ],
          "scattergl": [
           {
            "marker": {
             "colorbar": {
              "outlinewidth": 0,
              "ticks": ""
             }
            },
            "type": "scattergl"
           }
          ],
          "scattermapbox": [
           {
            "marker": {
             "colorbar": {
              "outlinewidth": 0,
              "ticks": ""
             }
            },
            "type": "scattermapbox"
           }
          ],
          "scatterpolar": [
           {
            "marker": {
             "colorbar": {
              "outlinewidth": 0,
              "ticks": ""
             }
            },
            "type": "scatterpolar"
           }
          ],
          "scatterpolargl": [
           {
            "marker": {
             "colorbar": {
              "outlinewidth": 0,
              "ticks": ""
             }
            },
            "type": "scatterpolargl"
           }
          ],
          "scatterternary": [
           {
            "marker": {
             "colorbar": {
              "outlinewidth": 0,
              "ticks": ""
             }
            },
            "type": "scatterternary"
           }
          ],
          "surface": [
           {
            "colorbar": {
             "outlinewidth": 0,
             "ticks": ""
            },
            "colorscale": [
             [
              0,
              "#0d0887"
             ],
             [
              0.1111111111111111,
              "#46039f"
             ],
             [
              0.2222222222222222,
              "#7201a8"
             ],
             [
              0.3333333333333333,
              "#9c179e"
             ],
             [
              0.4444444444444444,
              "#bd3786"
             ],
             [
              0.5555555555555556,
              "#d8576b"
             ],
             [
              0.6666666666666666,
              "#ed7953"
             ],
             [
              0.7777777777777778,
              "#fb9f3a"
             ],
             [
              0.8888888888888888,
              "#fdca26"
             ],
             [
              1,
              "#f0f921"
             ]
            ],
            "type": "surface"
           }
          ],
          "table": [
           {
            "cells": {
             "fill": {
              "color": "#EBF0F8"
             },
             "line": {
              "color": "white"
             }
            },
            "header": {
             "fill": {
              "color": "#C8D4E3"
             },
             "line": {
              "color": "white"
             }
            },
            "type": "table"
           }
          ]
         },
         "layout": {
          "annotationdefaults": {
           "arrowcolor": "#2a3f5f",
           "arrowhead": 0,
           "arrowwidth": 1
          },
          "autotypenumbers": "strict",
          "coloraxis": {
           "colorbar": {
            "outlinewidth": 0,
            "ticks": ""
           }
          },
          "colorscale": {
           "diverging": [
            [
             0,
             "#8e0152"
            ],
            [
             0.1,
             "#c51b7d"
            ],
            [
             0.2,
             "#de77ae"
            ],
            [
             0.3,
             "#f1b6da"
            ],
            [
             0.4,
             "#fde0ef"
            ],
            [
             0.5,
             "#f7f7f7"
            ],
            [
             0.6,
             "#e6f5d0"
            ],
            [
             0.7,
             "#b8e186"
            ],
            [
             0.8,
             "#7fbc41"
            ],
            [
             0.9,
             "#4d9221"
            ],
            [
             1,
             "#276419"
            ]
           ],
           "sequential": [
            [
             0,
             "#0d0887"
            ],
            [
             0.1111111111111111,
             "#46039f"
            ],
            [
             0.2222222222222222,
             "#7201a8"
            ],
            [
             0.3333333333333333,
             "#9c179e"
            ],
            [
             0.4444444444444444,
             "#bd3786"
            ],
            [
             0.5555555555555556,
             "#d8576b"
            ],
            [
             0.6666666666666666,
             "#ed7953"
            ],
            [
             0.7777777777777778,
             "#fb9f3a"
            ],
            [
             0.8888888888888888,
             "#fdca26"
            ],
            [
             1,
             "#f0f921"
            ]
           ],
           "sequentialminus": [
            [
             0,
             "#0d0887"
            ],
            [
             0.1111111111111111,
             "#46039f"
            ],
            [
             0.2222222222222222,
             "#7201a8"
            ],
            [
             0.3333333333333333,
             "#9c179e"
            ],
            [
             0.4444444444444444,
             "#bd3786"
            ],
            [
             0.5555555555555556,
             "#d8576b"
            ],
            [
             0.6666666666666666,
             "#ed7953"
            ],
            [
             0.7777777777777778,
             "#fb9f3a"
            ],
            [
             0.8888888888888888,
             "#fdca26"
            ],
            [
             1,
             "#f0f921"
            ]
           ]
          },
          "colorway": [
           "#636efa",
           "#EF553B",
           "#00cc96",
           "#ab63fa",
           "#FFA15A",
           "#19d3f3",
           "#FF6692",
           "#B6E880",
           "#FF97FF",
           "#FECB52"
          ],
          "font": {
           "color": "#2a3f5f"
          },
          "geo": {
           "bgcolor": "white",
           "lakecolor": "white",
           "landcolor": "#E5ECF6",
           "showlakes": true,
           "showland": true,
           "subunitcolor": "white"
          },
          "hoverlabel": {
           "align": "left"
          },
          "hovermode": "closest",
          "mapbox": {
           "style": "light"
          },
          "paper_bgcolor": "white",
          "plot_bgcolor": "#E5ECF6",
          "polar": {
           "angularaxis": {
            "gridcolor": "white",
            "linecolor": "white",
            "ticks": ""
           },
           "bgcolor": "#E5ECF6",
           "radialaxis": {
            "gridcolor": "white",
            "linecolor": "white",
            "ticks": ""
           }
          },
          "scene": {
           "xaxis": {
            "backgroundcolor": "#E5ECF6",
            "gridcolor": "white",
            "gridwidth": 2,
            "linecolor": "white",
            "showbackground": true,
            "ticks": "",
            "zerolinecolor": "white"
           },
           "yaxis": {
            "backgroundcolor": "#E5ECF6",
            "gridcolor": "white",
            "gridwidth": 2,
            "linecolor": "white",
            "showbackground": true,
            "ticks": "",
            "zerolinecolor": "white"
           },
           "zaxis": {
            "backgroundcolor": "#E5ECF6",
            "gridcolor": "white",
            "gridwidth": 2,
            "linecolor": "white",
            "showbackground": true,
            "ticks": "",
            "zerolinecolor": "white"
           }
          },
          "shapedefaults": {
           "line": {
            "color": "#2a3f5f"
           }
          },
          "ternary": {
           "aaxis": {
            "gridcolor": "white",
            "linecolor": "white",
            "ticks": ""
           },
           "baxis": {
            "gridcolor": "white",
            "linecolor": "white",
            "ticks": ""
           },
           "bgcolor": "#E5ECF6",
           "caxis": {
            "gridcolor": "white",
            "linecolor": "white",
            "ticks": ""
           }
          },
          "title": {
           "x": 0.05
          },
          "xaxis": {
           "automargin": true,
           "gridcolor": "white",
           "linecolor": "white",
           "ticks": "",
           "title": {
            "standoff": 15
           },
           "zerolinecolor": "white",
           "zerolinewidth": 2
          },
          "yaxis": {
           "automargin": true,
           "gridcolor": "white",
           "linecolor": "white",
           "ticks": "",
           "title": {
            "standoff": 15
           },
           "zerolinecolor": "white",
           "zerolinewidth": 2
          }
         }
        }
       }
      },
      "image/png": "[encoded data removed]",
      "text/html": [
       "<div>                            <div id=\"03f78471-a6cd-422a-bba1-f56862059249\" class=\"plotly-graph-div\" style=\"height:525px; width:100%;\"></div>            <script type=\"text/javascript\">                require([\"plotly\"], function(Plotly) {                    window.PLOTLYENV=window.PLOTLYENV || {};                                    if (document.getElementById(\"03f78471-a6cd-422a-bba1-f56862059249\")) {                    Plotly.newPlot(                        \"03f78471-a6cd-422a-bba1-f56862059249\",                        [{\"hovertemplate\":\"x=%{x}\\u003cbr\\u003ey=%{y}\\u003cbr\\u003ez=%{z}\\u003cextra\\u003e\\u003c\\u002fextra\\u003e\",\"legendgroup\":\"\",\"marker\":{\"color\":\"#636efa\",\"symbol\":\"circle\"},\"mode\":\"markers\",\"name\":\"\",\"scene\":\"scene\",\"showlegend\":false,\"x\":[2.8329353559788943,2.5393127311368806,2.1262243424365517,0.6280654981416909,2.3123902869750967,1.7908800541289134,2.3856074361846487,3.459518973282913,-2.2929191825351243,1.5858189560176674,2.108708439064171,2.3092075604935642,3.370412041996662,0.4898972482351498,-0.1317731922389549,0.7158270918721428,2.0884036740319125,-0.15437818844223328,2.6212406835539763,2.7093714317390214,2.5700206900556477,-0.47401816824553267,0.13232683965765712,-1.3986003386390364,1.2165748184838465,-0.06261466740854438,4.093207864261461,0.485619824988087,-1.0500489723419322,0.30981838656638816,-2.7395742611875242,3.896526675388725,-0.07436354898136344,4.1529404063831725,-1.089316734143064,1.8114340285015125,0.7657776777034253,0.3098591230882479,0.7957083074651763,-1.5575431979407373,-2.7934757439571993,2.389047554678397,-1.0687508198560707,-0.18519887793800738,-1.7704332681606783,0.5419344158398705,-0.6105341349264437,2.443176389948148,-1.3862416159873374,3.2539057678259775,2.5136271139762005,-1.020986675795559,3.9842485643005823,1.7421707613572375,2.97186144344551,1.4897405436951328,2.796577998749121,1.69792016333896,-1.8904518250118236,-1.9274597922099252,-2.5128788639632518,0.9329075172237165,-2.169426185559773,-0.752577551754726,3.8846653375290074,2.4716029668846256,-0.4670235276244199,0.2425343977316956,-0.19926602344668431,-1.1783115533357342,2.874302092987681,0.26779687591808,2.5500985125531335,1.1253196850190954,-1.4706726097691738,-0.19783345657029283,3.983029380286105,-2.489313027277893,2.1150550708060916,-1.6484798263927685,2.0284374824874263,3.7726348160501164,0.743256179727279,-1.1725147182395155,0.656282901957344,3.683651593055864,1.2916577829501197,-1.4441068736725249,1.416896332697764,-0.2880687880442281,0.2774940583490344,2.2187187334974716,-0.39936433754512946,-0.5992763969418036,0.35600855205834847,0.9735699550163508,4.182619830362996,-2.4294170488173514,-2.3976339507722977,3.073829072855956],\"y\":[1.4773523658911287,1.0303857681205049,-2.2071996639825917,2.2288034248229183,-1.5633338857810992,-1.0782202053966503,3.0621535575131835,-0.501125190420344,1.1170369597110468,-1.359691958642129,4.121590167329058,-1.2869138935586353,-2.5615358378820643,3.497095635644401,3.9401601577339216,2.3565571888439596,0.5795512671689602,1.2804806891494218,1.7330813585314084,-0.8032112189925447,-0.6461157200909042,1.7413830626611357,2.5664373595779892,-1.49485741302203,4.19190522890993,3.699754512490691,-2.4744384497663567,-0.7549803492268894,0.904997869418092,-1.531807891922052,2.751579402209324,-1.1958598115475718,0.30065141064366685,4.142706676625913,3.5680407802984853,3.677204022452706,0.3758473477363604,-1.671636257181408,2.3321511059551643,2.5840860681769353,0.7351958050781437,-2.6217988691119416,-1.9807691167338197,-1.0474073458723165,0.6185673364878808,-2.783517188178002,3.4234056318023143,4.026228078693863,1.7974163129478677,3.6985345000687415,0.17796269647667495,3.4266755092885672,-0.5248854031263979,1.639546973416441,-2.3144752031111193,2.008121009396258,-0.6153005953383959,0.823055526880204,3.5391467801117704,2.7095672962694834,0.8565587340975211,0.5145068369388675,1.203262884409706,-1.8960955880299348,1.674785111426285,3.1855618788035116,-1.1463241442613095,-1.9154635038898284,3.330988552838379,-1.5487706894534172,0.9450788687046687,3.673481609993977,4.047331439622994,-1.374306506387191,0.21466518429281,1.3281573871852386,-2.1693517729053933,-0.765435182709088,2.34091703734516,2.668535677256722,1.2024315568580723,1.016624616229998,2.172630315821827,0.751111606874403,-0.03242415527737652,-0.2024670028786817,-2.0287994798073594,-2.191857097186828,-0.42711487199803644,-1.3877324322294413,0.3952231892024787,2.5817957097152897,3.516517744669722,1.5136543917766128,1.201926264454369,1.8897360487622672,-0.48493286605204977,-1.1575357337110068,-2.2333069333789175,1.8207014359297595],\"z\":[13.519565603833138,11.779074786748348,11.35021123795118,9.091941664346447,12.066698671788473,4.93603280112472,18.78490756710485,15.249867793474749,8.422509251759466,6.325330880353437,27.571346992256117,8.27483394972975,18.108176216117418,15.311187574950447,17.106937170439203,8.688505955779137,7.854101693471482,3.7263481988849123,10.95994712405126,11.020342519219794,9.891563232367272,5.1374847933891745,8.986630963004798,7.2315188445394725,21.54757516061254,16.870889192469157,25.068980866935178,1.897071666933603,4.405303978945249,3.0279153958050515,17.78918389889625,19.281756884324345,1.7693072178994491,39.518089499810785,16.603935756269248,20.71378966430009,3.7290184838519203,5.302867471903374,9.287990663377512,9.406245899970658,8.677638481209843,15.428530911158163,5.925806650367981,2.3560802961746887,5.846632071416992,10.755721138629209,15.555054036999294,26.039091747495615,6.115849417507745,30.175972433217645,8.482755696361222,15.610223341455356,17.355362101875468,7.907692938634021,17.138400444462917,9.397893817652701,9.677182235478224,4.435415499681238,15.748755817062953,12.553734513966328,8.510129021640024,2.1175667329476107,8.866620181463352,6.036783343334685,22.544542867677666,20.43944815489122,2.627271036790437,8.11446894509741,12.215964391639158,5.054414278133045,11.34422991414188,16.74686945745784,27.525009317722475,5.797342371917137,3.159523255027315,5.120643933418908,21.74993222878189,8.27931064268787,13.388695035927745,12.984844033074701,8.268914000230259,17.351183771558397,7.563095802692243,3.3803612483232475,3.7496099886304837,14.888070938661734,6.556822275692919,10.216491449120944,5.2619486208044535,2.8997860508226188,0.7805705185504248,15.340228580347969,14.092471859400396,3.7556268776181447,2.457382943390485,7.956828792964204,22.31985310930977,7.001068669991321,10.086387309721268,15.12632456108524],\"type\":\"scatter3d\"},{\"x\":[-2.7934757439571993,-2.0183540134771776,-1.2432322829971558,-0.46811055251713407,0.3070111779628877,1.0821329084429094,1.8572546389229312,2.632376369402953,3.4074980998829747,4.182619830362996],\"y\":[-2.783517188178002,-2.0084702529460094,-1.233423317714017,-0.4583763824820246,0.3166705527499678,1.0917174879819602,1.8667644232139526,2.6418113584459446,3.4168582936779375,4.19190522890993],\"z\":[[14.45077084128647,14.15249906746774,13.854227293649009,13.555955519830277,13.257683746011548,12.959411972192816,12.661140198374087,12.362868424555355,12.064596650736624,11.766324876917894],[14.077130905655839,13.778859131837107,13.480587358018376,13.182315584199646,12.884043810380915,12.585772036562183,12.287500262743453,11.989228488924722,11.69095671510599,11.39268494128726],[13.703490970025205,13.405219196206474,13.106947422387744,12.808675648569013,12.510403874750281,12.212132100931552,11.91386032711282,11.615588553294089,11.317316779475359,11.019045005656627],[13.329851034394572,13.031579260575842,12.733307486757111,12.43503571293838,12.13676393911965,11.838492165300918,11.540220391482187,11.241948617663457,10.943676843844726,10.645405070025994],[12.956211098763939,12.65793932494521,12.359667551126478,12.061395777307746,11.763124003489017,11.464852229670285,11.166580455851554,10.868308682032824,10.570036908214092,10.271765134395363],[12.582571163133307,12.284299389314576,11.986027615495845,11.687755841677115,11.389484067858383,11.091212294039652,10.792940520220922,10.49466874640219,10.19639697258346,9.89812519876473],[12.208931227502674,11.910659453683943,11.612387679865213,11.314115906046482,11.01584413222775,10.717572358409019,10.419300584590289,10.121028810771557,9.822757036952826,9.524485263134096],[11.835291291872041,11.53701951805331,11.23874774423458,10.940475970415848,10.642204196597117,10.343932422778387,10.045660648959656,9.747388875140924,9.449117101322194,9.150845327503465],[11.461651356241408,11.163379582422678,10.865107808603947,10.566836034785215,10.268564260966485,9.970292487147754,9.672020713329022,9.373748939510293,9.075477165691561,8.77720539187283],[11.088011420610774,10.789739646792045,10.491467872973313,10.193196099154582,9.894924325335852,9.59665255151712,9.298380777698389,9.000109003879658,8.701837230060928,8.403565456242198]],\"type\":\"surface\"}],                        {\"template\":{\"data\":{\"histogram2dcontour\":[{\"type\":\"histogram2dcontour\",\"colorbar\":{\"outlinewidth\":0,\"ticks\":\"\"},\"colorscale\":[[0.0,\"#0d0887\"],[0.1111111111111111,\"#46039f\"],[0.2222222222222222,\"#7201a8\"],[0.3333333333333333,\"#9c179e\"],[0.4444444444444444,\"#bd3786\"],[0.5555555555555556,\"#d8576b\"],[0.6666666666666666,\"#ed7953\"],[0.7777777777777778,\"#fb9f3a\"],[0.8888888888888888,\"#fdca26\"],[1.0,\"#f0f921\"]]}],\"choropleth\":[{\"type\":\"choropleth\",\"colorbar\":{\"outlinewidth\":0,\"ticks\":\"\"}}],\"histogram2d\":[{\"type\":\"histogram2d\",\"colorbar\":{\"outlinewidth\":0,\"ticks\":\"\"},\"colorscale\":[[0.0,\"#0d0887\"],[0.1111111111111111,\"#46039f\"],[0.2222222222222222,\"#7201a8\"],[0.3333333333333333,\"#9c179e\"],[0.4444444444444444,\"#bd3786\"],[0.5555555555555556,\"#d8576b\"],[0.6666666666666666,\"#ed7953\"],[0.7777777777777778,\"#fb9f3a\"],[0.8888888888888888,\"#fdca26\"],[1.0,\"#f0f921\"]]}],\"heatmap\":[{\"type\":\"heatmap\",\"colorbar\":{\"outlinewidth\":0,\"ticks\":\"\"},\"colorscale\":[[0.0,\"#0d0887\"],[0.1111111111111111,\"#46039f\"],[0.2222222222222222,\"#7201a8\"],[0.3333333333333333,\"#9c179e\"],[0.4444444444444444,\"#bd3786\"],[0.5555555555555556,\"#d8576b\"],[0.6666666666666666,\"#ed7953\"],[0.7777777777777778,\"#fb9f3a\"],[0.8888888888888888,\"#fdca26\"],[1.0,\"#f0f921\"]]}],\"heatmapgl\":[{\"type\":\"heatmapgl\",\"colorbar\":{\"outlinewidth\":0,\"ticks\":\"\"},\"colorscale\":[[0.0,\"#0d0887\"],[0.1111111111111111,\"#46039f\"],[0.2222222222222222,\"#7201a8\"],[0.3333333333333333,\"#9c179e\"],[0.4444444444444444,\"#bd3786\"],[0.5555555555555556,\"#d8576b\"],[0.6666666666666666,\"#ed7953\"],[0.7777777777777778,\"#fb9f3a\"],[0.8888888888888888,\"#fdca26\"],[1.0,\"#f0f921\"]]}],\"contourcarpet\":[{\"type\":\"contourcarpet\",\"colorbar\":{\"outlinewidth\":0,\"ticks\":\"\"}}],\"contour\":[{\"type\":\"contour\",\"colorbar\":{\"outlinewidth\":0,\"ticks\":\"\"},\"colorscale\":[[0.0,\"#0d0887\"],[0.1111111111111111,\"#46039f\"],[0.2222222222222222,\"#7201a8\"],[0.3333333333333333,\"#9c179e\"],[0.4444444444444444,\"#bd3786\"],[0.5555555555555556,\"#d8576b\"],[0.6666666666666666,\"#ed7953\"],[0.7777777777777778,\"#fb9f3a\"],[0.8888888888888888,\"#fdca26\"],[1.0,\"#f0f921\"]]}],\"surface\":[{\"type\":\"surface\",\"colorbar\":{\"outlinewidth\":0,\"ticks\":\"\"},\"colorscale\":[[0.0,\"#0d0887\"],[0.1111111111111111,\"#46039f\"],[0.2222222222222222,\"#7201a8\"],[0.3333333333333333,\"#9c179e\"],[0.4444444444444444,\"#bd3786\"],[0.5555555555555556,\"#d8576b\"],[0.6666666666666666,\"#ed7953\"],[0.7777777777777778,\"#fb9f3a\"],[0.8888888888888888,\"#fdca26\"],[1.0,\"#f0f921\"]]}],\"mesh3d\":[{\"type\":\"mesh3d\",\"colorbar\":{\"outlinewidth\":0,\"ticks\":\"\"}}],\"scatter\":[{\"fillpattern\":{\"fillmode\":\"overlay\",\"size\":10,\"solidity\":0.2},\"type\":\"scatter\"}],\"parcoords\":[{\"type\":\"parcoords\",\"line\":{\"colorbar\":{\"outlinewidth\":0,\"ticks\":\"\"}}}],\"scatterpolargl\":[{\"type\":\"scatterpolargl\",\"marker\":{\"colorbar\":{\"outlinewidth\":0,\"ticks\":\"\"}}}],\"bar\":[{\"error_x\":{\"color\":\"#2a3f5f\"},\"error_y\":{\"color\":\"#2a3f5f\"},\"marker\":{\"line\":{\"color\":\"#E5ECF6\",\"width\":0.5},\"pattern\":{\"fillmode\":\"overlay\",\"size\":10,\"solidity\":0.2}},\"type\":\"bar\"}],\"scattergeo\":[{\"type\":\"scattergeo\",\"marker\":{\"colorbar\":{\"outlinewidth\":0,\"ticks\":\"\"}}}],\"scatterpolar\":[{\"type\":\"scatterpolar\",\"marker\":{\"colorbar\":{\"outlinewidth\":0,\"ticks\":\"\"}}}],\"histogram\":[{\"marker\":{\"pattern\":{\"fillmode\":\"overlay\",\"size\":10,\"solidity\":0.2}},\"type\":\"histogram\"}],\"scattergl\":[{\"type\":\"scattergl\",\"marker\":{\"colorbar\":{\"outlinewidth\":0,\"ticks\":\"\"}}}],\"scatter3d\":[{\"type\":\"scatter3d\",\"line\":{\"colorbar\":{\"outlinewidth\":0,\"ticks\":\"\"}},\"marker\":{\"colorbar\":{\"outlinewidth\":0,\"ticks\":\"\"}}}],\"scattermapbox\":[{\"type\":\"scattermapbox\",\"marker\":{\"colorbar\":{\"outlinewidth\":0,\"ticks\":\"\"}}}],\"scatterternary\":[{\"type\":\"scatterternary\",\"marker\":{\"colorbar\":{\"outlinewidth\":0,\"ticks\":\"\"}}}],\"scattercarpet\":[{\"type\":\"scattercarpet\",\"marker\":{\"colorbar\":{\"outlinewidth\":0,\"ticks\":\"\"}}}],\"carpet\":[{\"aaxis\":{\"endlinecolor\":\"#2a3f5f\",\"gridcolor\":\"white\",\"linecolor\":\"white\",\"minorgridcolor\":\"white\",\"startlinecolor\":\"#2a3f5f\"},\"baxis\":{\"endlinecolor\":\"#2a3f5f\",\"gridcolor\":\"white\",\"linecolor\":\"white\",\"minorgridcolor\":\"white\",\"startlinecolor\":\"#2a3f5f\"},\"type\":\"carpet\"}],\"table\":[{\"cells\":{\"fill\":{\"color\":\"#EBF0F8\"},\"line\":{\"color\":\"white\"}},\"header\":{\"fill\":{\"color\":\"#C8D4E3\"},\"line\":{\"color\":\"white\"}},\"type\":\"table\"}],\"barpolar\":[{\"marker\":{\"line\":{\"color\":\"#E5ECF6\",\"width\":0.5},\"pattern\":{\"fillmode\":\"overlay\",\"size\":10,\"solidity\":0.2}},\"type\":\"barpolar\"}],\"pie\":[{\"automargin\":true,\"type\":\"pie\"}]},\"layout\":{\"autotypenumbers\":\"strict\",\"colorway\":[\"#636efa\",\"#EF553B\",\"#00cc96\",\"#ab63fa\",\"#FFA15A\",\"#19d3f3\",\"#FF6692\",\"#B6E880\",\"#FF97FF\",\"#FECB52\"],\"font\":{\"color\":\"#2a3f5f\"},\"hovermode\":\"closest\",\"hoverlabel\":{\"align\":\"left\"},\"paper_bgcolor\":\"white\",\"plot_bgcolor\":\"#E5ECF6\",\"polar\":{\"bgcolor\":\"#E5ECF6\",\"angularaxis\":{\"gridcolor\":\"white\",\"linecolor\":\"white\",\"ticks\":\"\"},\"radialaxis\":{\"gridcolor\":\"white\",\"linecolor\":\"white\",\"ticks\":\"\"}},\"ternary\":{\"bgcolor\":\"#E5ECF6\",\"aaxis\":{\"gridcolor\":\"white\",\"linecolor\":\"white\",\"ticks\":\"\"},\"baxis\":{\"gridcolor\":\"white\",\"linecolor\":\"white\",\"ticks\":\"\"},\"caxis\":{\"gridcolor\":\"white\",\"linecolor\":\"white\",\"ticks\":\"\"}},\"coloraxis\":{\"colorbar\":{\"outlinewidth\":0,\"ticks\":\"\"}},\"colorscale\":{\"sequential\":[[0.0,\"#0d0887\"],[0.1111111111111111,\"#46039f\"],[0.2222222222222222,\"#7201a8\"],[0.3333333333333333,\"#9c179e\"],[0.4444444444444444,\"#bd3786\"],[0.5555555555555556,\"#d8576b\"],[0.6666666666666666,\"#ed7953\"],[0.7777777777777778,\"#fb9f3a\"],[0.8888888888888888,\"#fdca26\"],[1.0,\"#f0f921\"]],\"sequentialminus\":[[0.0,\"#0d0887\"],[0.1111111111111111,\"#46039f\"],[0.2222222222222222,\"#7201a8\"],[0.3333333333333333,\"#9c179e\"],[0.4444444444444444,\"#bd3786\"],[0.5555555555555556,\"#d8576b\"],[0.6666666666666666,\"#ed7953\"],[0.7777777777777778,\"#fb9f3a\"],[0.8888888888888888,\"#fdca26\"],[1.0,\"#f0f921\"]],\"diverging\":[[0,\"#8e0152\"],[0.1,\"#c51b7d\"],[0.2,\"#de77ae\"],[0.3,\"#f1b6da\"],[0.4,\"#fde0ef\"],[0.5,\"#f7f7f7\"],[0.6,\"#e6f5d0\"],[0.7,\"#b8e186\"],[0.8,\"#7fbc41\"],[0.9,\"#4d9221\"],[1,\"#276419\"]]},\"xaxis\":{\"gridcolor\":\"white\",\"linecolor\":\"white\",\"ticks\":\"\",\"title\":{\"standoff\":15},\"zerolinecolor\":\"white\",\"automargin\":true,\"zerolinewidth\":2},\"yaxis\":{\"gridcolor\":\"white\",\"linecolor\":\"white\",\"ticks\":\"\",\"title\":{\"standoff\":15},\"zerolinecolor\":\"white\",\"automargin\":true,\"zerolinewidth\":2},\"scene\":{\"xaxis\":{\"backgroundcolor\":\"#E5ECF6\",\"gridcolor\":\"white\",\"linecolor\":\"white\",\"showbackground\":true,\"ticks\":\"\",\"zerolinecolor\":\"white\",\"gridwidth\":2},\"yaxis\":{\"backgroundcolor\":\"#E5ECF6\",\"gridcolor\":\"white\",\"linecolor\":\"white\",\"showbackground\":true,\"ticks\":\"\",\"zerolinecolor\":\"white\",\"gridwidth\":2},\"zaxis\":{\"backgroundcolor\":\"#E5ECF6\",\"gridcolor\":\"white\",\"linecolor\":\"white\",\"showbackground\":true,\"ticks\":\"\",\"zerolinecolor\":\"white\",\"gridwidth\":2}},\"shapedefaults\":{\"line\":{\"color\":\"#2a3f5f\"}},\"annotationdefaults\":{\"arrowcolor\":\"#2a3f5f\",\"arrowhead\":0,\"arrowwidth\":1},\"geo\":{\"bgcolor\":\"white\",\"landcolor\":\"#E5ECF6\",\"subunitcolor\":\"white\",\"showland\":true,\"showlakes\":true,\"lakecolor\":\"white\"},\"title\":{\"x\":0.05},\"mapbox\":{\"style\":\"light\"}}},\"scene\":{\"domain\":{\"x\":[0.0,1.0],\"y\":[0.0,1.0]},\"xaxis\":{\"title\":{\"text\":\"x\"}},\"yaxis\":{\"title\":{\"text\":\"y\"}},\"zaxis\":{\"title\":{\"text\":\"z\"}}},\"legend\":{\"tracegroupgap\":0},\"margin\":{\"t\":60}},                        {\"responsive\": true}                    ).then(function(){\n",
       "                            \n",
       "var gd = document.getElementById('03f78471-a6cd-422a-bba1-f56862059249');\n",
       "var x = new MutationObserver(function (mutations, observer) {{\n",
       "        var display = window.getComputedStyle(gd).display;\n",
       "        if (!display || display === 'none') {{\n",
       "            console.log([gd, 'removed!']);\n",
       "            Plotly.purge(gd);\n",
       "            observer.disconnect();\n",
       "        }}\n",
       "}});\n",
       "\n",
       "// Listen for the removal of the full notebook cells\n",
       "var notebookContainer = gd.closest('#notebook-container');\n",
       "if (notebookContainer) {{\n",
       "    x.observe(notebookContainer, {childList: true});\n",
       "}}\n",
       "\n",
       "// Listen for the clearing of the current output cell\n",
       "var outputEl = gd.closest('.output');\n",
       "if (outputEl) {{\n",
       "    x.observe(outputEl, {childList: true});\n",
       "}}\n",
       "\n",
       "                        })                };                });            </script>        </div>"
      ]
     },
     "metadata": {},
     "output_type": "display_data"
    }
   ],
   "source": [
    "import plotly.graph_objects as go\n",
    "\n",
    "fig = px.scatter_3d(df, x=x.ravel(), y=y.ravel(), z=z.ravel())\n",
    "\n",
    "fig.add_trace(go.Surface(x = x_input, y = y_input, z =z_final ))\n",
    "\n",
    "fig.show()"
   ]
  },
  {
   "cell_type": "code",
   "execution_count": 128,
   "id": "813fbbc8-2dde-41d8-95c3-0e24bce2d230",
   "metadata": {},
   "outputs": [
    {
     "name": "stdout",
     "output_type": "stream",
     "text": [
      "1.4.2\n"
     ]
    }
   ],
   "source": [
    "import sklearn\n",
    "print(sklearn.__version__)"
   ]
  },
  {
   "cell_type": "code",
   "execution_count": 136,
   "id": "8696089e-93cc-4965-b377-41d6801e4299",
   "metadata": {},
   "outputs": [
    {
     "data": {
      "text/plain": [
       "(100, 2)"
      ]
     },
     "execution_count": 136,
     "metadata": {},
     "output_type": "execute_result"
    }
   ],
   "source": [
    "X_multi = np.array([x,y]).reshape(100,2)\n",
    "X_multi.shape"
   ]
  },
  {
   "cell_type": "markdown",
   "id": "b75ee10b-8c09-4985-a580-cdc6d33f5419",
   "metadata": {},
   "source": [
    "# By Polynomial Regression"
   ]
  },
  {
   "cell_type": "code",
   "execution_count": 159,
   "id": "3bc045cf-092c-4760-9085-61850b9dcba1",
   "metadata": {},
   "outputs": [],
   "source": [
    "poly = PolynomialFeatures(degree=3)\n",
    "X_multi_trans = poly.fit_transform(X_multi)"
   ]
  },
  {
   "cell_type": "code",
   "execution_count": 161,
   "id": "0c7fdde7-fb56-46f8-ac5c-095ae892f1ce",
   "metadata": {},
   "outputs": [
    {
     "name": "stdout",
     "output_type": "stream",
     "text": [
      "Input 2\n",
      "Ouput 10\n",
      "Powers\n",
      " [[0 0]\n",
      " [1 0]\n",
      " [0 1]\n",
      " [2 0]\n",
      " [1 1]\n",
      " [0 2]\n",
      " [3 0]\n",
      " [2 1]\n",
      " [1 2]\n",
      " [0 3]]\n"
     ]
    }
   ],
   "source": [
    "n_input_features = X_multi.shape[1]  # Number of input features\n",
    "n_output_features = X_multi_trans.shape[1]  # Number of output features\n",
    "print(\"Input\",n_input_features)\n",
    "print(\"Ouput\",n_output_features)\n",
    "print(\"Powers\\n\",poly.powers_)"
   ]
  },
  {
   "cell_type": "code",
   "execution_count": 163,
   "id": "11097219-40b6-40c6-a838-972d06e5ed47",
   "metadata": {},
   "outputs": [
    {
     "data": {
      "text/plain": [
       "(100, 10)"
      ]
     },
     "execution_count": 163,
     "metadata": {},
     "output_type": "execute_result"
    }
   ],
   "source": [
    "X_multi_trans.shape"
   ]
  },
  {
   "cell_type": "code",
   "execution_count": 165,
   "id": "362d642b-a806-43ae-a7e6-4889b1466f06",
   "metadata": {},
   "outputs": [
    {
     "data": {
      "text/html": [
       "<style>#sk-container-id-5 {\n",
       "  /* Definition of color scheme common for light and dark mode */\n",
       "  --sklearn-color-text: black;\n",
       "  --sklearn-color-line: gray;\n",
       "  /* Definition of color scheme for unfitted estimators */\n",
       "  --sklearn-color-unfitted-level-0: #fff5e6;\n",
       "  --sklearn-color-unfitted-level-1: #f6e4d2;\n",
       "  --sklearn-color-unfitted-level-2: #ffe0b3;\n",
       "  --sklearn-color-unfitted-level-3: chocolate;\n",
       "  /* Definition of color scheme for fitted estimators */\n",
       "  --sklearn-color-fitted-level-0: #f0f8ff;\n",
       "  --sklearn-color-fitted-level-1: #d4ebff;\n",
       "  --sklearn-color-fitted-level-2: #b3dbfd;\n",
       "  --sklearn-color-fitted-level-3: cornflowerblue;\n",
       "\n",
       "  /* Specific color for light theme */\n",
       "  --sklearn-color-text-on-default-background: var(--sg-text-color, var(--theme-code-foreground, var(--jp-content-font-color1, black)));\n",
       "  --sklearn-color-background: var(--sg-background-color, var(--theme-background, var(--jp-layout-color0, white)));\n",
       "  --sklearn-color-border-box: var(--sg-text-color, var(--theme-code-foreground, var(--jp-content-font-color1, black)));\n",
       "  --sklearn-color-icon: #696969;\n",
       "\n",
       "  @media (prefers-color-scheme: dark) {\n",
       "    /* Redefinition of color scheme for dark theme */\n",
       "    --sklearn-color-text-on-default-background: var(--sg-text-color, var(--theme-code-foreground, var(--jp-content-font-color1, white)));\n",
       "    --sklearn-color-background: var(--sg-background-color, var(--theme-background, var(--jp-layout-color0, #111)));\n",
       "    --sklearn-color-border-box: var(--sg-text-color, var(--theme-code-foreground, var(--jp-content-font-color1, white)));\n",
       "    --sklearn-color-icon: #878787;\n",
       "  }\n",
       "}\n",
       "\n",
       "#sk-container-id-5 {\n",
       "  color: var(--sklearn-color-text);\n",
       "}\n",
       "\n",
       "#sk-container-id-5 pre {\n",
       "  padding: 0;\n",
       "}\n",
       "\n",
       "#sk-container-id-5 input.sk-hidden--visually {\n",
       "  border: 0;\n",
       "  clip: rect(1px 1px 1px 1px);\n",
       "  clip: rect(1px, 1px, 1px, 1px);\n",
       "  height: 1px;\n",
       "  margin: -1px;\n",
       "  overflow: hidden;\n",
       "  padding: 0;\n",
       "  position: absolute;\n",
       "  width: 1px;\n",
       "}\n",
       "\n",
       "#sk-container-id-5 div.sk-dashed-wrapped {\n",
       "  border: 1px dashed var(--sklearn-color-line);\n",
       "  margin: 0 0.4em 0.5em 0.4em;\n",
       "  box-sizing: border-box;\n",
       "  padding-bottom: 0.4em;\n",
       "  background-color: var(--sklearn-color-background);\n",
       "}\n",
       "\n",
       "#sk-container-id-5 div.sk-container {\n",
       "  /* jupyter's `normalize.less` sets `[hidden] { display: none; }`\n",
       "     but bootstrap.min.css set `[hidden] { display: none !important; }`\n",
       "     so we also need the `!important` here to be able to override the\n",
       "     default hidden behavior on the sphinx rendered scikit-learn.org.\n",
       "     See: https://github.com/scikit-learn/scikit-learn/issues/21755 */\n",
       "  display: inline-block !important;\n",
       "  position: relative;\n",
       "}\n",
       "\n",
       "#sk-container-id-5 div.sk-text-repr-fallback {\n",
       "  display: none;\n",
       "}\n",
       "\n",
       "div.sk-parallel-item,\n",
       "div.sk-serial,\n",
       "div.sk-item {\n",
       "  /* draw centered vertical line to link estimators */\n",
       "  background-image: linear-gradient(var(--sklearn-color-text-on-default-background), var(--sklearn-color-text-on-default-background));\n",
       "  background-size: 2px 100%;\n",
       "  background-repeat: no-repeat;\n",
       "  background-position: center center;\n",
       "}\n",
       "\n",
       "/* Parallel-specific style estimator block */\n",
       "\n",
       "#sk-container-id-5 div.sk-parallel-item::after {\n",
       "  content: \"\";\n",
       "  width: 100%;\n",
       "  border-bottom: 2px solid var(--sklearn-color-text-on-default-background);\n",
       "  flex-grow: 1;\n",
       "}\n",
       "\n",
       "#sk-container-id-5 div.sk-parallel {\n",
       "  display: flex;\n",
       "  align-items: stretch;\n",
       "  justify-content: center;\n",
       "  background-color: var(--sklearn-color-background);\n",
       "  position: relative;\n",
       "}\n",
       "\n",
       "#sk-container-id-5 div.sk-parallel-item {\n",
       "  display: flex;\n",
       "  flex-direction: column;\n",
       "}\n",
       "\n",
       "#sk-container-id-5 div.sk-parallel-item:first-child::after {\n",
       "  align-self: flex-end;\n",
       "  width: 50%;\n",
       "}\n",
       "\n",
       "#sk-container-id-5 div.sk-parallel-item:last-child::after {\n",
       "  align-self: flex-start;\n",
       "  width: 50%;\n",
       "}\n",
       "\n",
       "#sk-container-id-5 div.sk-parallel-item:only-child::after {\n",
       "  width: 0;\n",
       "}\n",
       "\n",
       "/* Serial-specific style estimator block */\n",
       "\n",
       "#sk-container-id-5 div.sk-serial {\n",
       "  display: flex;\n",
       "  flex-direction: column;\n",
       "  align-items: center;\n",
       "  background-color: var(--sklearn-color-background);\n",
       "  padding-right: 1em;\n",
       "  padding-left: 1em;\n",
       "}\n",
       "\n",
       "\n",
       "/* Toggleable style: style used for estimator/Pipeline/ColumnTransformer box that is\n",
       "clickable and can be expanded/collapsed.\n",
       "- Pipeline and ColumnTransformer use this feature and define the default style\n",
       "- Estimators will overwrite some part of the style using the `sk-estimator` class\n",
       "*/\n",
       "\n",
       "/* Pipeline and ColumnTransformer style (default) */\n",
       "\n",
       "#sk-container-id-5 div.sk-toggleable {\n",
       "  /* Default theme specific background. It is overwritten whether we have a\n",
       "  specific estimator or a Pipeline/ColumnTransformer */\n",
       "  background-color: var(--sklearn-color-background);\n",
       "}\n",
       "\n",
       "/* Toggleable label */\n",
       "#sk-container-id-5 label.sk-toggleable__label {\n",
       "  cursor: pointer;\n",
       "  display: block;\n",
       "  width: 100%;\n",
       "  margin-bottom: 0;\n",
       "  padding: 0.5em;\n",
       "  box-sizing: border-box;\n",
       "  text-align: center;\n",
       "}\n",
       "\n",
       "#sk-container-id-5 label.sk-toggleable__label-arrow:before {\n",
       "  /* Arrow on the left of the label */\n",
       "  content: \"▸\";\n",
       "  float: left;\n",
       "  margin-right: 0.25em;\n",
       "  color: var(--sklearn-color-icon);\n",
       "}\n",
       "\n",
       "#sk-container-id-5 label.sk-toggleable__label-arrow:hover:before {\n",
       "  color: var(--sklearn-color-text);\n",
       "}\n",
       "\n",
       "/* Toggleable content - dropdown */\n",
       "\n",
       "#sk-container-id-5 div.sk-toggleable__content {\n",
       "  max-height: 0;\n",
       "  max-width: 0;\n",
       "  overflow: hidden;\n",
       "  text-align: left;\n",
       "  /* unfitted */\n",
       "  background-color: var(--sklearn-color-unfitted-level-0);\n",
       "}\n",
       "\n",
       "#sk-container-id-5 div.sk-toggleable__content.fitted {\n",
       "  /* fitted */\n",
       "  background-color: var(--sklearn-color-fitted-level-0);\n",
       "}\n",
       "\n",
       "#sk-container-id-5 div.sk-toggleable__content pre {\n",
       "  margin: 0.2em;\n",
       "  border-radius: 0.25em;\n",
       "  color: var(--sklearn-color-text);\n",
       "  /* unfitted */\n",
       "  background-color: var(--sklearn-color-unfitted-level-0);\n",
       "}\n",
       "\n",
       "#sk-container-id-5 div.sk-toggleable__content.fitted pre {\n",
       "  /* unfitted */\n",
       "  background-color: var(--sklearn-color-fitted-level-0);\n",
       "}\n",
       "\n",
       "#sk-container-id-5 input.sk-toggleable__control:checked~div.sk-toggleable__content {\n",
       "  /* Expand drop-down */\n",
       "  max-height: 200px;\n",
       "  max-width: 100%;\n",
       "  overflow: auto;\n",
       "}\n",
       "\n",
       "#sk-container-id-5 input.sk-toggleable__control:checked~label.sk-toggleable__label-arrow:before {\n",
       "  content: \"▾\";\n",
       "}\n",
       "\n",
       "/* Pipeline/ColumnTransformer-specific style */\n",
       "\n",
       "#sk-container-id-5 div.sk-label input.sk-toggleable__control:checked~label.sk-toggleable__label {\n",
       "  color: var(--sklearn-color-text);\n",
       "  background-color: var(--sklearn-color-unfitted-level-2);\n",
       "}\n",
       "\n",
       "#sk-container-id-5 div.sk-label.fitted input.sk-toggleable__control:checked~label.sk-toggleable__label {\n",
       "  background-color: var(--sklearn-color-fitted-level-2);\n",
       "}\n",
       "\n",
       "/* Estimator-specific style */\n",
       "\n",
       "/* Colorize estimator box */\n",
       "#sk-container-id-5 div.sk-estimator input.sk-toggleable__control:checked~label.sk-toggleable__label {\n",
       "  /* unfitted */\n",
       "  background-color: var(--sklearn-color-unfitted-level-2);\n",
       "}\n",
       "\n",
       "#sk-container-id-5 div.sk-estimator.fitted input.sk-toggleable__control:checked~label.sk-toggleable__label {\n",
       "  /* fitted */\n",
       "  background-color: var(--sklearn-color-fitted-level-2);\n",
       "}\n",
       "\n",
       "#sk-container-id-5 div.sk-label label.sk-toggleable__label,\n",
       "#sk-container-id-5 div.sk-label label {\n",
       "  /* The background is the default theme color */\n",
       "  color: var(--sklearn-color-text-on-default-background);\n",
       "}\n",
       "\n",
       "/* On hover, darken the color of the background */\n",
       "#sk-container-id-5 div.sk-label:hover label.sk-toggleable__label {\n",
       "  color: var(--sklearn-color-text);\n",
       "  background-color: var(--sklearn-color-unfitted-level-2);\n",
       "}\n",
       "\n",
       "/* Label box, darken color on hover, fitted */\n",
       "#sk-container-id-5 div.sk-label.fitted:hover label.sk-toggleable__label.fitted {\n",
       "  color: var(--sklearn-color-text);\n",
       "  background-color: var(--sklearn-color-fitted-level-2);\n",
       "}\n",
       "\n",
       "/* Estimator label */\n",
       "\n",
       "#sk-container-id-5 div.sk-label label {\n",
       "  font-family: monospace;\n",
       "  font-weight: bold;\n",
       "  display: inline-block;\n",
       "  line-height: 1.2em;\n",
       "}\n",
       "\n",
       "#sk-container-id-5 div.sk-label-container {\n",
       "  text-align: center;\n",
       "}\n",
       "\n",
       "/* Estimator-specific */\n",
       "#sk-container-id-5 div.sk-estimator {\n",
       "  font-family: monospace;\n",
       "  border: 1px dotted var(--sklearn-color-border-box);\n",
       "  border-radius: 0.25em;\n",
       "  box-sizing: border-box;\n",
       "  margin-bottom: 0.5em;\n",
       "  /* unfitted */\n",
       "  background-color: var(--sklearn-color-unfitted-level-0);\n",
       "}\n",
       "\n",
       "#sk-container-id-5 div.sk-estimator.fitted {\n",
       "  /* fitted */\n",
       "  background-color: var(--sklearn-color-fitted-level-0);\n",
       "}\n",
       "\n",
       "/* on hover */\n",
       "#sk-container-id-5 div.sk-estimator:hover {\n",
       "  /* unfitted */\n",
       "  background-color: var(--sklearn-color-unfitted-level-2);\n",
       "}\n",
       "\n",
       "#sk-container-id-5 div.sk-estimator.fitted:hover {\n",
       "  /* fitted */\n",
       "  background-color: var(--sklearn-color-fitted-level-2);\n",
       "}\n",
       "\n",
       "/* Specification for estimator info (e.g. \"i\" and \"?\") */\n",
       "\n",
       "/* Common style for \"i\" and \"?\" */\n",
       "\n",
       ".sk-estimator-doc-link,\n",
       "a:link.sk-estimator-doc-link,\n",
       "a:visited.sk-estimator-doc-link {\n",
       "  float: right;\n",
       "  font-size: smaller;\n",
       "  line-height: 1em;\n",
       "  font-family: monospace;\n",
       "  background-color: var(--sklearn-color-background);\n",
       "  border-radius: 1em;\n",
       "  height: 1em;\n",
       "  width: 1em;\n",
       "  text-decoration: none !important;\n",
       "  margin-left: 1ex;\n",
       "  /* unfitted */\n",
       "  border: var(--sklearn-color-unfitted-level-1) 1pt solid;\n",
       "  color: var(--sklearn-color-unfitted-level-1);\n",
       "}\n",
       "\n",
       ".sk-estimator-doc-link.fitted,\n",
       "a:link.sk-estimator-doc-link.fitted,\n",
       "a:visited.sk-estimator-doc-link.fitted {\n",
       "  /* fitted */\n",
       "  border: var(--sklearn-color-fitted-level-1) 1pt solid;\n",
       "  color: var(--sklearn-color-fitted-level-1);\n",
       "}\n",
       "\n",
       "/* On hover */\n",
       "div.sk-estimator:hover .sk-estimator-doc-link:hover,\n",
       ".sk-estimator-doc-link:hover,\n",
       "div.sk-label-container:hover .sk-estimator-doc-link:hover,\n",
       ".sk-estimator-doc-link:hover {\n",
       "  /* unfitted */\n",
       "  background-color: var(--sklearn-color-unfitted-level-3);\n",
       "  color: var(--sklearn-color-background);\n",
       "  text-decoration: none;\n",
       "}\n",
       "\n",
       "div.sk-estimator.fitted:hover .sk-estimator-doc-link.fitted:hover,\n",
       ".sk-estimator-doc-link.fitted:hover,\n",
       "div.sk-label-container:hover .sk-estimator-doc-link.fitted:hover,\n",
       ".sk-estimator-doc-link.fitted:hover {\n",
       "  /* fitted */\n",
       "  background-color: var(--sklearn-color-fitted-level-3);\n",
       "  color: var(--sklearn-color-background);\n",
       "  text-decoration: none;\n",
       "}\n",
       "\n",
       "/* Span, style for the box shown on hovering the info icon */\n",
       ".sk-estimator-doc-link span {\n",
       "  display: none;\n",
       "  z-index: 9999;\n",
       "  position: relative;\n",
       "  font-weight: normal;\n",
       "  right: .2ex;\n",
       "  padding: .5ex;\n",
       "  margin: .5ex;\n",
       "  width: min-content;\n",
       "  min-width: 20ex;\n",
       "  max-width: 50ex;\n",
       "  color: var(--sklearn-color-text);\n",
       "  box-shadow: 2pt 2pt 4pt #999;\n",
       "  /* unfitted */\n",
       "  background: var(--sklearn-color-unfitted-level-0);\n",
       "  border: .5pt solid var(--sklearn-color-unfitted-level-3);\n",
       "}\n",
       "\n",
       ".sk-estimator-doc-link.fitted span {\n",
       "  /* fitted */\n",
       "  background: var(--sklearn-color-fitted-level-0);\n",
       "  border: var(--sklearn-color-fitted-level-3);\n",
       "}\n",
       "\n",
       ".sk-estimator-doc-link:hover span {\n",
       "  display: block;\n",
       "}\n",
       "\n",
       "/* \"?\"-specific style due to the `<a>` HTML tag */\n",
       "\n",
       "#sk-container-id-5 a.estimator_doc_link {\n",
       "  float: right;\n",
       "  font-size: 1rem;\n",
       "  line-height: 1em;\n",
       "  font-family: monospace;\n",
       "  background-color: var(--sklearn-color-background);\n",
       "  border-radius: 1rem;\n",
       "  height: 1rem;\n",
       "  width: 1rem;\n",
       "  text-decoration: none;\n",
       "  /* unfitted */\n",
       "  color: var(--sklearn-color-unfitted-level-1);\n",
       "  border: var(--sklearn-color-unfitted-level-1) 1pt solid;\n",
       "}\n",
       "\n",
       "#sk-container-id-5 a.estimator_doc_link.fitted {\n",
       "  /* fitted */\n",
       "  border: var(--sklearn-color-fitted-level-1) 1pt solid;\n",
       "  color: var(--sklearn-color-fitted-level-1);\n",
       "}\n",
       "\n",
       "/* On hover */\n",
       "#sk-container-id-5 a.estimator_doc_link:hover {\n",
       "  /* unfitted */\n",
       "  background-color: var(--sklearn-color-unfitted-level-3);\n",
       "  color: var(--sklearn-color-background);\n",
       "  text-decoration: none;\n",
       "}\n",
       "\n",
       "#sk-container-id-5 a.estimator_doc_link.fitted:hover {\n",
       "  /* fitted */\n",
       "  background-color: var(--sklearn-color-fitted-level-3);\n",
       "}\n",
       "</style><div id=\"sk-container-id-5\" class=\"sk-top-container\"><div class=\"sk-text-repr-fallback\"><pre>LinearRegression()</pre><b>In a Jupyter environment, please rerun this cell to show the HTML representation or trust the notebook. <br />On GitHub, the HTML representation is unable to render, please try loading this page with nbviewer.org.</b></div><div class=\"sk-container\" hidden><div class=\"sk-item\"><div class=\"sk-estimator fitted sk-toggleable\"><input class=\"sk-toggleable__control sk-hidden--visually\" id=\"sk-estimator-id-5\" type=\"checkbox\" checked><label for=\"sk-estimator-id-5\" class=\"sk-toggleable__label fitted sk-toggleable__label-arrow fitted\">&nbsp;&nbsp;LinearRegression<a class=\"sk-estimator-doc-link fitted\" rel=\"noreferrer\" target=\"_blank\" href=\"https://scikit-learn.org/1.4/modules/generated/sklearn.linear_model.LinearRegression.html\">?<span>Documentation for LinearRegression</span></a><span class=\"sk-estimator-doc-link fitted\">i<span>Fitted</span></span></label><div class=\"sk-toggleable__content fitted\"><pre>LinearRegression()</pre></div> </div></div></div></div>"
      ],
      "text/plain": [
       "LinearRegression()"
      ]
     },
     "execution_count": 165,
     "metadata": {},
     "output_type": "execute_result"
    }
   ],
   "source": [
    "lr = LinearRegression()\n",
    "lr.fit(X_multi_trans,z)"
   ]
  },
  {
   "cell_type": "code",
   "execution_count": 167,
   "id": "5ba0d5b3-32f8-4800-ade5-9eb4616b52c0",
   "metadata": {},
   "outputs": [],
   "source": [
    "X_test_multi = poly.transform(final)"
   ]
  },
  {
   "cell_type": "code",
   "execution_count": 169,
   "id": "2791a57c-1662-4b09-b0fa-d510854cd003",
   "metadata": {},
   "outputs": [],
   "source": [
    "z_final = lr.predict(X_multi_trans).reshape(10,10)"
   ]
  },
  {
   "cell_type": "code",
   "execution_count": 171,
   "id": "0cbc946f-ea14-4983-955f-0b8b910277f3",
   "metadata": {},
   "outputs": [
    {
     "data": {
      "application/vnd.plotly.v1+json": {
       "config": {
        "plotlyServerURL": "https://plot.ly"
       },
       "data": [
        {
         "hovertemplate": "x=%{x}<br>y=%{y}<br>z=%{z}<extra></extra>",
         "legendgroup": "",
         "marker": {
          "color": "#636efa",
          "symbol": "circle"
         },
         "mode": "markers",
         "name": "",
         "scene": "scene",
         "showlegend": false,
         "type": "scatter3d",
         "x": [
          2.8329353559788943,
          2.5393127311368806,
          2.1262243424365517,
          0.6280654981416909,
          2.3123902869750967,
          1.7908800541289134,
          2.3856074361846487,
          3.459518973282913,
          -2.2929191825351243,
          1.5858189560176674,
          2.108708439064171,
          2.3092075604935642,
          3.370412041996662,
          0.4898972482351498,
          -0.1317731922389549,
          0.7158270918721428,
          2.0884036740319125,
          -0.15437818844223328,
          2.6212406835539763,
          2.7093714317390214,
          2.5700206900556477,
          -0.47401816824553267,
          0.13232683965765712,
          -1.3986003386390364,
          1.2165748184838465,
          -0.06261466740854438,
          4.093207864261461,
          0.485619824988087,
          -1.0500489723419322,
          0.30981838656638816,
          -2.7395742611875242,
          3.896526675388725,
          -0.07436354898136344,
          4.1529404063831725,
          -1.089316734143064,
          1.8114340285015125,
          0.7657776777034253,
          0.3098591230882479,
          0.7957083074651763,
          -1.5575431979407373,
          -2.7934757439571993,
          2.389047554678397,
          -1.0687508198560707,
          -0.18519887793800738,
          -1.7704332681606783,
          0.5419344158398705,
          -0.6105341349264437,
          2.443176389948148,
          -1.3862416159873374,
          3.2539057678259775,
          2.5136271139762005,
          -1.020986675795559,
          3.9842485643005823,
          1.7421707613572375,
          2.97186144344551,
          1.4897405436951328,
          2.796577998749121,
          1.69792016333896,
          -1.8904518250118236,
          -1.9274597922099252,
          -2.5128788639632518,
          0.9329075172237165,
          -2.169426185559773,
          -0.752577551754726,
          3.8846653375290074,
          2.4716029668846256,
          -0.4670235276244199,
          0.2425343977316956,
          -0.19926602344668431,
          -1.1783115533357342,
          2.874302092987681,
          0.26779687591808,
          2.5500985125531335,
          1.1253196850190954,
          -1.4706726097691738,
          -0.19783345657029283,
          3.983029380286105,
          -2.489313027277893,
          2.1150550708060916,
          -1.6484798263927685,
          2.0284374824874263,
          3.7726348160501164,
          0.743256179727279,
          -1.1725147182395155,
          0.656282901957344,
          3.683651593055864,
          1.2916577829501197,
          -1.4441068736725249,
          1.416896332697764,
          -0.2880687880442281,
          0.2774940583490344,
          2.2187187334974716,
          -0.39936433754512946,
          -0.5992763969418036,
          0.35600855205834847,
          0.9735699550163508,
          4.182619830362996,
          -2.4294170488173514,
          -2.3976339507722977,
          3.073829072855956
         ],
         "y": [
          1.4773523658911287,
          1.0303857681205049,
          -2.2071996639825917,
          2.2288034248229183,
          -1.5633338857810992,
          -1.0782202053966503,
          3.0621535575131835,
          -0.501125190420344,
          1.1170369597110468,
          -1.359691958642129,
          4.121590167329058,
          -1.2869138935586353,
          -2.5615358378820643,
          3.497095635644401,
          3.9401601577339216,
          2.3565571888439596,
          0.5795512671689602,
          1.2804806891494218,
          1.7330813585314084,
          -0.8032112189925447,
          -0.6461157200909042,
          1.7413830626611357,
          2.5664373595779892,
          -1.49485741302203,
          4.19190522890993,
          3.699754512490691,
          -2.4744384497663567,
          -0.7549803492268894,
          0.904997869418092,
          -1.531807891922052,
          2.751579402209324,
          -1.1958598115475718,
          0.30065141064366685,
          4.142706676625913,
          3.5680407802984853,
          3.677204022452706,
          0.3758473477363604,
          -1.671636257181408,
          2.3321511059551643,
          2.5840860681769353,
          0.7351958050781437,
          -2.6217988691119416,
          -1.9807691167338197,
          -1.0474073458723165,
          0.6185673364878808,
          -2.783517188178002,
          3.4234056318023143,
          4.026228078693863,
          1.7974163129478677,
          3.6985345000687415,
          0.17796269647667495,
          3.4266755092885672,
          -0.5248854031263979,
          1.639546973416441,
          -2.3144752031111193,
          2.008121009396258,
          -0.6153005953383959,
          0.823055526880204,
          3.5391467801117704,
          2.7095672962694834,
          0.8565587340975211,
          0.5145068369388675,
          1.203262884409706,
          -1.8960955880299348,
          1.674785111426285,
          3.1855618788035116,
          -1.1463241442613095,
          -1.9154635038898284,
          3.330988552838379,
          -1.5487706894534172,
          0.9450788687046687,
          3.673481609993977,
          4.047331439622994,
          -1.374306506387191,
          0.21466518429281,
          1.3281573871852386,
          -2.1693517729053933,
          -0.765435182709088,
          2.34091703734516,
          2.668535677256722,
          1.2024315568580723,
          1.016624616229998,
          2.172630315821827,
          0.751111606874403,
          -0.03242415527737652,
          -0.2024670028786817,
          -2.0287994798073594,
          -2.191857097186828,
          -0.42711487199803644,
          -1.3877324322294413,
          0.3952231892024787,
          2.5817957097152897,
          3.516517744669722,
          1.5136543917766128,
          1.201926264454369,
          1.8897360487622672,
          -0.48493286605204977,
          -1.1575357337110068,
          -2.2333069333789175,
          1.8207014359297595
         ],
         "z": [
          13.519565603833138,
          11.779074786748348,
          11.35021123795118,
          9.091941664346447,
          12.066698671788473,
          4.93603280112472,
          18.78490756710485,
          15.249867793474749,
          8.422509251759466,
          6.325330880353437,
          27.571346992256117,
          8.27483394972975,
          18.108176216117418,
          15.311187574950447,
          17.106937170439203,
          8.688505955779137,
          7.854101693471482,
          3.7263481988849123,
          10.95994712405126,
          11.020342519219794,
          9.891563232367272,
          5.1374847933891745,
          8.986630963004798,
          7.2315188445394725,
          21.54757516061254,
          16.870889192469157,
          25.068980866935178,
          1.897071666933603,
          4.405303978945249,
          3.0279153958050515,
          17.78918389889625,
          19.281756884324345,
          1.7693072178994491,
          39.518089499810785,
          16.603935756269248,
          20.71378966430009,
          3.7290184838519203,
          5.302867471903374,
          9.287990663377512,
          9.406245899970658,
          8.677638481209843,
          15.428530911158163,
          5.925806650367981,
          2.3560802961746887,
          5.846632071416992,
          10.755721138629209,
          15.555054036999294,
          26.039091747495615,
          6.115849417507745,
          30.175972433217645,
          8.482755696361222,
          15.610223341455356,
          17.355362101875468,
          7.907692938634021,
          17.138400444462917,
          9.397893817652701,
          9.677182235478224,
          4.435415499681238,
          15.748755817062953,
          12.553734513966328,
          8.510129021640024,
          2.1175667329476107,
          8.866620181463352,
          6.036783343334685,
          22.544542867677666,
          20.43944815489122,
          2.627271036790437,
          8.11446894509741,
          12.215964391639158,
          5.054414278133045,
          11.34422991414188,
          16.74686945745784,
          27.525009317722475,
          5.797342371917137,
          3.159523255027315,
          5.120643933418908,
          21.74993222878189,
          8.27931064268787,
          13.388695035927745,
          12.984844033074701,
          8.268914000230259,
          17.351183771558397,
          7.563095802692243,
          3.3803612483232475,
          3.7496099886304837,
          14.888070938661734,
          6.556822275692919,
          10.216491449120944,
          5.2619486208044535,
          2.8997860508226188,
          0.7805705185504248,
          15.340228580347969,
          14.092471859400396,
          3.7556268776181447,
          2.457382943390485,
          7.956828792964204,
          22.31985310930977,
          7.001068669991321,
          10.086387309721268,
          15.12632456108524
         ]
        },
        {
         "type": "surface",
         "x": [
          -2.7934757439571993,
          -2.0183540134771776,
          -1.2432322829971558,
          -0.46811055251713407,
          0.3070111779628877,
          1.0821329084429094,
          1.8572546389229312,
          2.632376369402953,
          3.4074980998829747,
          4.182619830362996
         ],
         "y": [
          -2.783517188178002,
          -2.0084702529460094,
          -1.233423317714017,
          -0.4583763824820246,
          0.3166705527499678,
          1.0917174879819602,
          1.8667644232139526,
          2.6418113584459446,
          3.4168582936779375,
          4.19190522890993
         ],
         "z": [
          [
           8.539946845463472,
           11.843904753560313,
           9.933530127121,
           5.375531093515319,
           13.36709237297822,
           8.781599379209446,
           11.901392724528037,
           14.078127115891297,
           12.506138948605454,
           7.875107898093763
          ],
          [
           12.139039508979137,
           14.071478241952523,
           13.4170998467558,
           13.033561255141047,
           14.083362278691341,
           15.14056696574768,
           6.608377626597877,
           13.902979005710417,
           13.617562515365403,
           13.882637313334655
          ],
          [
           13.714445362749778,
           13.747841448390561,
           13.133192491419603,
           12.534262538898574,
           12.799359064622987,
           12.09827487914525,
           12.60001122058491,
           10.7093667160864,
           10.244608373369449,
           7.241550037074322
          ],
          [
           11.687660881031727,
           9.085054376931712,
           11.423650664255685,
           14.379583473737773,
           14.045045551166698,
           11.808753239960403,
           11.048713484051037,
           12.911841110561836,
           7.897542448981159,
           12.312579371363178
          ],
          [
           4.116671479442839,
           14.073133846333201,
           6.271960583005891,
           13.515777752548768,
           13.322351577976093,
           11.341384278789313,
           14.248781050669832,
           13.362849555428332,
           7.801798160832558,
           14.483331158642276
          ],
          [
           11.90396752105664,
           14.067946005307588,
           11.10956868011932,
           11.808601283248297,
           13.724069451540837,
           10.76549479895788,
           14.763468951307583,
           11.81192659564304,
           12.646449892453234,
           13.095033612639623
          ],
          [
           13.566413379575263,
           11.750982943869104,
           10.767416486076229,
           7.293113715323566,
           13.826544563613602,
           11.724515820343708,
           5.4857792605737234,
           7.456323572140572,
           13.919252726544824,
           8.054518381049856
          ],
          [
           12.892426710639862,
           9.279663564783107,
           12.67219467129791,
           5.763205247067862,
           4.472995310045624,
           8.327513311912625,
           13.548683697530159,
           13.811202162781449,
           14.2390879248628,
           9.732993269199042
          ],
          [
           13.319193403785924,
           13.348601221289016,
           6.405523462925583,
           10.953772119348478,
           10.710164577570435,
           5.688520461829958,
           10.580834231178308,
           13.060856183981862,
           9.049935280047931,
           7.8247957259306045
          ],
          [
           12.248721035331712,
           11.668745670349988,
           14.417352360911261,
           5.4392389893978255,
           13.606507951223243,
           10.25142357821514,
           11.481726770620543,
           10.597867437987363,
           13.761621624145254,
           13.718249699616472
          ]
         ]
        }
       ],
       "layout": {
        "autosize": true,
        "legend": {
         "tracegroupgap": 0
        },
        "margin": {
         "t": 60
        },
        "scene": {
         "aspectmode": "auto",
         "aspectratio": {
          "x": 1,
          "y": 1,
          "z": 1
         },
         "camera": {
          "center": {
           "x": 0,
           "y": 0,
           "z": 0
          },
          "eye": {
           "x": 1.1301580786705754,
           "y": 1.832956596449214,
           "z": 0.22475060122043294
          },
          "projection": {
           "type": "perspective"
          },
          "up": {
           "x": 0,
           "y": 0,
           "z": 1
          }
         },
         "domain": {
          "x": [
           0,
           1
          ],
          "y": [
           0,
           1
          ]
         },
         "xaxis": {
          "title": {
           "text": "x"
          },
          "type": "linear"
         },
         "yaxis": {
          "title": {
           "text": "y"
          },
          "type": "linear"
         },
         "zaxis": {
          "range": [
           0,
           35
          ],
          "title": {
           "text": "z"
          },
          "type": "linear"
         }
        },
        "template": {
         "data": {
          "bar": [
           {
            "error_x": {
             "color": "#2a3f5f"
            },
            "error_y": {
             "color": "#2a3f5f"
            },
            "marker": {
             "line": {
              "color": "#E5ECF6",
              "width": 0.5
             },
             "pattern": {
              "fillmode": "overlay",
              "size": 10,
              "solidity": 0.2
             }
            },
            "type": "bar"
           }
          ],
          "barpolar": [
           {
            "marker": {
             "line": {
              "color": "#E5ECF6",
              "width": 0.5
             },
             "pattern": {
              "fillmode": "overlay",
              "size": 10,
              "solidity": 0.2
             }
            },
            "type": "barpolar"
           }
          ],
          "carpet": [
           {
            "aaxis": {
             "endlinecolor": "#2a3f5f",
             "gridcolor": "white",
             "linecolor": "white",
             "minorgridcolor": "white",
             "startlinecolor": "#2a3f5f"
            },
            "baxis": {
             "endlinecolor": "#2a3f5f",
             "gridcolor": "white",
             "linecolor": "white",
             "minorgridcolor": "white",
             "startlinecolor": "#2a3f5f"
            },
            "type": "carpet"
           }
          ],
          "choropleth": [
           {
            "colorbar": {
             "outlinewidth": 0,
             "ticks": ""
            },
            "type": "choropleth"
           }
          ],
          "contour": [
           {
            "colorbar": {
             "outlinewidth": 0,
             "ticks": ""
            },
            "colorscale": [
             [
              0,
              "#0d0887"
             ],
             [
              0.1111111111111111,
              "#46039f"
             ],
             [
              0.2222222222222222,
              "#7201a8"
             ],
             [
              0.3333333333333333,
              "#9c179e"
             ],
             [
              0.4444444444444444,
              "#bd3786"
             ],
             [
              0.5555555555555556,
              "#d8576b"
             ],
             [
              0.6666666666666666,
              "#ed7953"
             ],
             [
              0.7777777777777778,
              "#fb9f3a"
             ],
             [
              0.8888888888888888,
              "#fdca26"
             ],
             [
              1,
              "#f0f921"
             ]
            ],
            "type": "contour"
           }
          ],
          "contourcarpet": [
           {
            "colorbar": {
             "outlinewidth": 0,
             "ticks": ""
            },
            "type": "contourcarpet"
           }
          ],
          "heatmap": [
           {
            "colorbar": {
             "outlinewidth": 0,
             "ticks": ""
            },
            "colorscale": [
             [
              0,
              "#0d0887"
             ],
             [
              0.1111111111111111,
              "#46039f"
             ],
             [
              0.2222222222222222,
              "#7201a8"
             ],
             [
              0.3333333333333333,
              "#9c179e"
             ],
             [
              0.4444444444444444,
              "#bd3786"
             ],
             [
              0.5555555555555556,
              "#d8576b"
             ],
             [
              0.6666666666666666,
              "#ed7953"
             ],
             [
              0.7777777777777778,
              "#fb9f3a"
             ],
             [
              0.8888888888888888,
              "#fdca26"
             ],
             [
              1,
              "#f0f921"
             ]
            ],
            "type": "heatmap"
           }
          ],
          "heatmapgl": [
           {
            "colorbar": {
             "outlinewidth": 0,
             "ticks": ""
            },
            "colorscale": [
             [
              0,
              "#0d0887"
             ],
             [
              0.1111111111111111,
              "#46039f"
             ],
             [
              0.2222222222222222,
              "#7201a8"
             ],
             [
              0.3333333333333333,
              "#9c179e"
             ],
             [
              0.4444444444444444,
              "#bd3786"
             ],
             [
              0.5555555555555556,
              "#d8576b"
             ],
             [
              0.6666666666666666,
              "#ed7953"
             ],
             [
              0.7777777777777778,
              "#fb9f3a"
             ],
             [
              0.8888888888888888,
              "#fdca26"
             ],
             [
              1,
              "#f0f921"
             ]
            ],
            "type": "heatmapgl"
           }
          ],
          "histogram": [
           {
            "marker": {
             "pattern": {
              "fillmode": "overlay",
              "size": 10,
              "solidity": 0.2
             }
            },
            "type": "histogram"
           }
          ],
          "histogram2d": [
           {
            "colorbar": {
             "outlinewidth": 0,
             "ticks": ""
            },
            "colorscale": [
             [
              0,
              "#0d0887"
             ],
             [
              0.1111111111111111,
              "#46039f"
             ],
             [
              0.2222222222222222,
              "#7201a8"
             ],
             [
              0.3333333333333333,
              "#9c179e"
             ],
             [
              0.4444444444444444,
              "#bd3786"
             ],
             [
              0.5555555555555556,
              "#d8576b"
             ],
             [
              0.6666666666666666,
              "#ed7953"
             ],
             [
              0.7777777777777778,
              "#fb9f3a"
             ],
             [
              0.8888888888888888,
              "#fdca26"
             ],
             [
              1,
              "#f0f921"
             ]
            ],
            "type": "histogram2d"
           }
          ],
          "histogram2dcontour": [
           {
            "colorbar": {
             "outlinewidth": 0,
             "ticks": ""
            },
            "colorscale": [
             [
              0,
              "#0d0887"
             ],
             [
              0.1111111111111111,
              "#46039f"
             ],
             [
              0.2222222222222222,
              "#7201a8"
             ],
             [
              0.3333333333333333,
              "#9c179e"
             ],
             [
              0.4444444444444444,
              "#bd3786"
             ],
             [
              0.5555555555555556,
              "#d8576b"
             ],
             [
              0.6666666666666666,
              "#ed7953"
             ],
             [
              0.7777777777777778,
              "#fb9f3a"
             ],
             [
              0.8888888888888888,
              "#fdca26"
             ],
             [
              1,
              "#f0f921"
             ]
            ],
            "type": "histogram2dcontour"
           }
          ],
          "mesh3d": [
           {
            "colorbar": {
             "outlinewidth": 0,
             "ticks": ""
            },
            "type": "mesh3d"
           }
          ],
          "parcoords": [
           {
            "line": {
             "colorbar": {
              "outlinewidth": 0,
              "ticks": ""
             }
            },
            "type": "parcoords"
           }
          ],
          "pie": [
           {
            "automargin": true,
            "type": "pie"
           }
          ],
          "scatter": [
           {
            "fillpattern": {
             "fillmode": "overlay",
             "size": 10,
             "solidity": 0.2
            },
            "type": "scatter"
           }
          ],
          "scatter3d": [
           {
            "line": {
             "colorbar": {
              "outlinewidth": 0,
              "ticks": ""
             }
            },
            "marker": {
             "colorbar": {
              "outlinewidth": 0,
              "ticks": ""
             }
            },
            "type": "scatter3d"
           }
          ],
          "scattercarpet": [
           {
            "marker": {
             "colorbar": {
              "outlinewidth": 0,
              "ticks": ""
             }
            },
            "type": "scattercarpet"
           }
          ],
          "scattergeo": [
           {
            "marker": {
             "colorbar": {
              "outlinewidth": 0,
              "ticks": ""
             }
            },
            "type": "scattergeo"
           }
          ],
          "scattergl": [
           {
            "marker": {
             "colorbar": {
              "outlinewidth": 0,
              "ticks": ""
             }
            },
            "type": "scattergl"
           }
          ],
          "scattermapbox": [
           {
            "marker": {
             "colorbar": {
              "outlinewidth": 0,
              "ticks": ""
             }
            },
            "type": "scattermapbox"
           }
          ],
          "scatterpolar": [
           {
            "marker": {
             "colorbar": {
              "outlinewidth": 0,
              "ticks": ""
             }
            },
            "type": "scatterpolar"
           }
          ],
          "scatterpolargl": [
           {
            "marker": {
             "colorbar": {
              "outlinewidth": 0,
              "ticks": ""
             }
            },
            "type": "scatterpolargl"
           }
          ],
          "scatterternary": [
           {
            "marker": {
             "colorbar": {
              "outlinewidth": 0,
              "ticks": ""
             }
            },
            "type": "scatterternary"
           }
          ],
          "surface": [
           {
            "colorbar": {
             "outlinewidth": 0,
             "ticks": ""
            },
            "colorscale": [
             [
              0,
              "#0d0887"
             ],
             [
              0.1111111111111111,
              "#46039f"
             ],
             [
              0.2222222222222222,
              "#7201a8"
             ],
             [
              0.3333333333333333,
              "#9c179e"
             ],
             [
              0.4444444444444444,
              "#bd3786"
             ],
             [
              0.5555555555555556,
              "#d8576b"
             ],
             [
              0.6666666666666666,
              "#ed7953"
             ],
             [
              0.7777777777777778,
              "#fb9f3a"
             ],
             [
              0.8888888888888888,
              "#fdca26"
             ],
             [
              1,
              "#f0f921"
             ]
            ],
            "type": "surface"
           }
          ],
          "table": [
           {
            "cells": {
             "fill": {
              "color": "#EBF0F8"
             },
             "line": {
              "color": "white"
             }
            },
            "header": {
             "fill": {
              "color": "#C8D4E3"
             },
             "line": {
              "color": "white"
             }
            },
            "type": "table"
           }
          ]
         },
         "layout": {
          "annotationdefaults": {
           "arrowcolor": "#2a3f5f",
           "arrowhead": 0,
           "arrowwidth": 1
          },
          "autotypenumbers": "strict",
          "coloraxis": {
           "colorbar": {
            "outlinewidth": 0,
            "ticks": ""
           }
          },
          "colorscale": {
           "diverging": [
            [
             0,
             "#8e0152"
            ],
            [
             0.1,
             "#c51b7d"
            ],
            [
             0.2,
             "#de77ae"
            ],
            [
             0.3,
             "#f1b6da"
            ],
            [
             0.4,
             "#fde0ef"
            ],
            [
             0.5,
             "#f7f7f7"
            ],
            [
             0.6,
             "#e6f5d0"
            ],
            [
             0.7,
             "#b8e186"
            ],
            [
             0.8,
             "#7fbc41"
            ],
            [
             0.9,
             "#4d9221"
            ],
            [
             1,
             "#276419"
            ]
           ],
           "sequential": [
            [
             0,
             "#0d0887"
            ],
            [
             0.1111111111111111,
             "#46039f"
            ],
            [
             0.2222222222222222,
             "#7201a8"
            ],
            [
             0.3333333333333333,
             "#9c179e"
            ],
            [
             0.4444444444444444,
             "#bd3786"
            ],
            [
             0.5555555555555556,
             "#d8576b"
            ],
            [
             0.6666666666666666,
             "#ed7953"
            ],
            [
             0.7777777777777778,
             "#fb9f3a"
            ],
            [
             0.8888888888888888,
             "#fdca26"
            ],
            [
             1,
             "#f0f921"
            ]
           ],
           "sequentialminus": [
            [
             0,
             "#0d0887"
            ],
            [
             0.1111111111111111,
             "#46039f"
            ],
            [
             0.2222222222222222,
             "#7201a8"
            ],
            [
             0.3333333333333333,
             "#9c179e"
            ],
            [
             0.4444444444444444,
             "#bd3786"
            ],
            [
             0.5555555555555556,
             "#d8576b"
            ],
            [
             0.6666666666666666,
             "#ed7953"
            ],
            [
             0.7777777777777778,
             "#fb9f3a"
            ],
            [
             0.8888888888888888,
             "#fdca26"
            ],
            [
             1,
             "#f0f921"
            ]
           ]
          },
          "colorway": [
           "#636efa",
           "#EF553B",
           "#00cc96",
           "#ab63fa",
           "#FFA15A",
           "#19d3f3",
           "#FF6692",
           "#B6E880",
           "#FF97FF",
           "#FECB52"
          ],
          "font": {
           "color": "#2a3f5f"
          },
          "geo": {
           "bgcolor": "white",
           "lakecolor": "white",
           "landcolor": "#E5ECF6",
           "showlakes": true,
           "showland": true,
           "subunitcolor": "white"
          },
          "hoverlabel": {
           "align": "left"
          },
          "hovermode": "closest",
          "mapbox": {
           "style": "light"
          },
          "paper_bgcolor": "white",
          "plot_bgcolor": "#E5ECF6",
          "polar": {
           "angularaxis": {
            "gridcolor": "white",
            "linecolor": "white",
            "ticks": ""
           },
           "bgcolor": "#E5ECF6",
           "radialaxis": {
            "gridcolor": "white",
            "linecolor": "white",
            "ticks": ""
           }
          },
          "scene": {
           "xaxis": {
            "backgroundcolor": "#E5ECF6",
            "gridcolor": "white",
            "gridwidth": 2,
            "linecolor": "white",
            "showbackground": true,
            "ticks": "",
            "zerolinecolor": "white"
           },
           "yaxis": {
            "backgroundcolor": "#E5ECF6",
            "gridcolor": "white",
            "gridwidth": 2,
            "linecolor": "white",
            "showbackground": true,
            "ticks": "",
            "zerolinecolor": "white"
           },
           "zaxis": {
            "backgroundcolor": "#E5ECF6",
            "gridcolor": "white",
            "gridwidth": 2,
            "linecolor": "white",
            "showbackground": true,
            "ticks": "",
            "zerolinecolor": "white"
           }
          },
          "shapedefaults": {
           "line": {
            "color": "#2a3f5f"
           }
          },
          "ternary": {
           "aaxis": {
            "gridcolor": "white",
            "linecolor": "white",
            "ticks": ""
           },
           "baxis": {
            "gridcolor": "white",
            "linecolor": "white",
            "ticks": ""
           },
           "bgcolor": "#E5ECF6",
           "caxis": {
            "gridcolor": "white",
            "linecolor": "white",
            "ticks": ""
           }
          },
          "title": {
           "x": 0.05
          },
          "xaxis": {
           "automargin": true,
           "gridcolor": "white",
           "linecolor": "white",
           "ticks": "",
           "title": {
            "standoff": 15
           },
           "zerolinecolor": "white",
           "zerolinewidth": 2
          },
          "yaxis": {
           "automargin": true,
           "gridcolor": "white",
           "linecolor": "white",
           "ticks": "",
           "title": {
            "standoff": 15
           },
           "zerolinecolor": "white",
           "zerolinewidth": 2
          }
         }
        }
       }
      },
      "image/png": "[encoded data removed]",
      "text/html": [
       "<div>                            <div id=\"0f9be1d3-ff37-454e-b5c4-5c148f968422\" class=\"plotly-graph-div\" style=\"height:525px; width:100%;\"></div>            <script type=\"text/javascript\">                require([\"plotly\"], function(Plotly) {                    window.PLOTLYENV=window.PLOTLYENV || {};                                    if (document.getElementById(\"0f9be1d3-ff37-454e-b5c4-5c148f968422\")) {                    Plotly.newPlot(                        \"0f9be1d3-ff37-454e-b5c4-5c148f968422\",                        [{\"hovertemplate\":\"x=%{x}\\u003cbr\\u003ey=%{y}\\u003cbr\\u003ez=%{z}\\u003cextra\\u003e\\u003c\\u002fextra\\u003e\",\"legendgroup\":\"\",\"marker\":{\"color\":\"#636efa\",\"symbol\":\"circle\"},\"mode\":\"markers\",\"name\":\"\",\"scene\":\"scene\",\"showlegend\":false,\"x\":[2.8329353559788943,2.5393127311368806,2.1262243424365517,0.6280654981416909,2.3123902869750967,1.7908800541289134,2.3856074361846487,3.459518973282913,-2.2929191825351243,1.5858189560176674,2.108708439064171,2.3092075604935642,3.370412041996662,0.4898972482351498,-0.1317731922389549,0.7158270918721428,2.0884036740319125,-0.15437818844223328,2.6212406835539763,2.7093714317390214,2.5700206900556477,-0.47401816824553267,0.13232683965765712,-1.3986003386390364,1.2165748184838465,-0.06261466740854438,4.093207864261461,0.485619824988087,-1.0500489723419322,0.30981838656638816,-2.7395742611875242,3.896526675388725,-0.07436354898136344,4.1529404063831725,-1.089316734143064,1.8114340285015125,0.7657776777034253,0.3098591230882479,0.7957083074651763,-1.5575431979407373,-2.7934757439571993,2.389047554678397,-1.0687508198560707,-0.18519887793800738,-1.7704332681606783,0.5419344158398705,-0.6105341349264437,2.443176389948148,-1.3862416159873374,3.2539057678259775,2.5136271139762005,-1.020986675795559,3.9842485643005823,1.7421707613572375,2.97186144344551,1.4897405436951328,2.796577998749121,1.69792016333896,-1.8904518250118236,-1.9274597922099252,-2.5128788639632518,0.9329075172237165,-2.169426185559773,-0.752577551754726,3.8846653375290074,2.4716029668846256,-0.4670235276244199,0.2425343977316956,-0.19926602344668431,-1.1783115533357342,2.874302092987681,0.26779687591808,2.5500985125531335,1.1253196850190954,-1.4706726097691738,-0.19783345657029283,3.983029380286105,-2.489313027277893,2.1150550708060916,-1.6484798263927685,2.0284374824874263,3.7726348160501164,0.743256179727279,-1.1725147182395155,0.656282901957344,3.683651593055864,1.2916577829501197,-1.4441068736725249,1.416896332697764,-0.2880687880442281,0.2774940583490344,2.2187187334974716,-0.39936433754512946,-0.5992763969418036,0.35600855205834847,0.9735699550163508,4.182619830362996,-2.4294170488173514,-2.3976339507722977,3.073829072855956],\"y\":[1.4773523658911287,1.0303857681205049,-2.2071996639825917,2.2288034248229183,-1.5633338857810992,-1.0782202053966503,3.0621535575131835,-0.501125190420344,1.1170369597110468,-1.359691958642129,4.121590167329058,-1.2869138935586353,-2.5615358378820643,3.497095635644401,3.9401601577339216,2.3565571888439596,0.5795512671689602,1.2804806891494218,1.7330813585314084,-0.8032112189925447,-0.6461157200909042,1.7413830626611357,2.5664373595779892,-1.49485741302203,4.19190522890993,3.699754512490691,-2.4744384497663567,-0.7549803492268894,0.904997869418092,-1.531807891922052,2.751579402209324,-1.1958598115475718,0.30065141064366685,4.142706676625913,3.5680407802984853,3.677204022452706,0.3758473477363604,-1.671636257181408,2.3321511059551643,2.5840860681769353,0.7351958050781437,-2.6217988691119416,-1.9807691167338197,-1.0474073458723165,0.6185673364878808,-2.783517188178002,3.4234056318023143,4.026228078693863,1.7974163129478677,3.6985345000687415,0.17796269647667495,3.4266755092885672,-0.5248854031263979,1.639546973416441,-2.3144752031111193,2.008121009396258,-0.6153005953383959,0.823055526880204,3.5391467801117704,2.7095672962694834,0.8565587340975211,0.5145068369388675,1.203262884409706,-1.8960955880299348,1.674785111426285,3.1855618788035116,-1.1463241442613095,-1.9154635038898284,3.330988552838379,-1.5487706894534172,0.9450788687046687,3.673481609993977,4.047331439622994,-1.374306506387191,0.21466518429281,1.3281573871852386,-2.1693517729053933,-0.765435182709088,2.34091703734516,2.668535677256722,1.2024315568580723,1.016624616229998,2.172630315821827,0.751111606874403,-0.03242415527737652,-0.2024670028786817,-2.0287994798073594,-2.191857097186828,-0.42711487199803644,-1.3877324322294413,0.3952231892024787,2.5817957097152897,3.516517744669722,1.5136543917766128,1.201926264454369,1.8897360487622672,-0.48493286605204977,-1.1575357337110068,-2.2333069333789175,1.8207014359297595],\"z\":[13.519565603833138,11.779074786748348,11.35021123795118,9.091941664346447,12.066698671788473,4.93603280112472,18.78490756710485,15.249867793474749,8.422509251759466,6.325330880353437,27.571346992256117,8.27483394972975,18.108176216117418,15.311187574950447,17.106937170439203,8.688505955779137,7.854101693471482,3.7263481988849123,10.95994712405126,11.020342519219794,9.891563232367272,5.1374847933891745,8.986630963004798,7.2315188445394725,21.54757516061254,16.870889192469157,25.068980866935178,1.897071666933603,4.405303978945249,3.0279153958050515,17.78918389889625,19.281756884324345,1.7693072178994491,39.518089499810785,16.603935756269248,20.71378966430009,3.7290184838519203,5.302867471903374,9.287990663377512,9.406245899970658,8.677638481209843,15.428530911158163,5.925806650367981,2.3560802961746887,5.846632071416992,10.755721138629209,15.555054036999294,26.039091747495615,6.115849417507745,30.175972433217645,8.482755696361222,15.610223341455356,17.355362101875468,7.907692938634021,17.138400444462917,9.397893817652701,9.677182235478224,4.435415499681238,15.748755817062953,12.553734513966328,8.510129021640024,2.1175667329476107,8.866620181463352,6.036783343334685,22.544542867677666,20.43944815489122,2.627271036790437,8.11446894509741,12.215964391639158,5.054414278133045,11.34422991414188,16.74686945745784,27.525009317722475,5.797342371917137,3.159523255027315,5.120643933418908,21.74993222878189,8.27931064268787,13.388695035927745,12.984844033074701,8.268914000230259,17.351183771558397,7.563095802692243,3.3803612483232475,3.7496099886304837,14.888070938661734,6.556822275692919,10.216491449120944,5.2619486208044535,2.8997860508226188,0.7805705185504248,15.340228580347969,14.092471859400396,3.7556268776181447,2.457382943390485,7.956828792964204,22.31985310930977,7.001068669991321,10.086387309721268,15.12632456108524],\"type\":\"scatter3d\"},{\"x\":[-2.7934757439571993,-2.0183540134771776,-1.2432322829971558,-0.46811055251713407,0.3070111779628877,1.0821329084429094,1.8572546389229312,2.632376369402953,3.4074980998829747,4.182619830362996],\"y\":[-2.783517188178002,-2.0084702529460094,-1.233423317714017,-0.4583763824820246,0.3166705527499678,1.0917174879819602,1.8667644232139526,2.6418113584459446,3.4168582936779375,4.19190522890993],\"z\":[[8.539946845463472,11.843904753560313,9.933530127121,5.375531093515319,13.36709237297822,8.781599379209446,11.901392724528037,14.078127115891297,12.506138948605454,7.875107898093763],[12.139039508979137,14.071478241952523,13.4170998467558,13.033561255141047,14.083362278691341,15.14056696574768,6.608377626597877,13.902979005710417,13.617562515365403,13.882637313334655],[13.714445362749778,13.747841448390561,13.133192491419603,12.534262538898574,12.799359064622987,12.09827487914525,12.60001122058491,10.7093667160864,10.244608373369449,7.241550037074322],[11.687660881031727,9.085054376931712,11.423650664255685,14.379583473737773,14.045045551166698,11.808753239960403,11.048713484051037,12.911841110561836,7.897542448981159,12.312579371363178],[4.116671479442839,14.073133846333201,6.271960583005891,13.515777752548768,13.322351577976093,11.341384278789313,14.248781050669832,13.362849555428332,7.801798160832558,14.483331158642276],[11.90396752105664,14.067946005307588,11.10956868011932,11.808601283248297,13.724069451540837,10.76549479895788,14.763468951307583,11.81192659564304,12.646449892453234,13.095033612639623],[13.566413379575263,11.750982943869104,10.767416486076229,7.293113715323566,13.826544563613602,11.724515820343708,5.4857792605737234,7.456323572140572,13.919252726544824,8.054518381049856],[12.892426710639862,9.279663564783107,12.67219467129791,5.763205247067862,4.472995310045624,8.327513311912625,13.548683697530159,13.811202162781449,14.2390879248628,9.732993269199042],[13.319193403785924,13.348601221289016,6.405523462925583,10.953772119348478,10.710164577570435,5.688520461829958,10.580834231178308,13.060856183981862,9.049935280047931,7.8247957259306045],[12.248721035331712,11.668745670349988,14.417352360911261,5.4392389893978255,13.606507951223243,10.25142357821514,11.481726770620543,10.597867437987363,13.761621624145254,13.718249699616472]],\"type\":\"surface\"}],                        {\"template\":{\"data\":{\"histogram2dcontour\":[{\"type\":\"histogram2dcontour\",\"colorbar\":{\"outlinewidth\":0,\"ticks\":\"\"},\"colorscale\":[[0.0,\"#0d0887\"],[0.1111111111111111,\"#46039f\"],[0.2222222222222222,\"#7201a8\"],[0.3333333333333333,\"#9c179e\"],[0.4444444444444444,\"#bd3786\"],[0.5555555555555556,\"#d8576b\"],[0.6666666666666666,\"#ed7953\"],[0.7777777777777778,\"#fb9f3a\"],[0.8888888888888888,\"#fdca26\"],[1.0,\"#f0f921\"]]}],\"choropleth\":[{\"type\":\"choropleth\",\"colorbar\":{\"outlinewidth\":0,\"ticks\":\"\"}}],\"histogram2d\":[{\"type\":\"histogram2d\",\"colorbar\":{\"outlinewidth\":0,\"ticks\":\"\"},\"colorscale\":[[0.0,\"#0d0887\"],[0.1111111111111111,\"#46039f\"],[0.2222222222222222,\"#7201a8\"],[0.3333333333333333,\"#9c179e\"],[0.4444444444444444,\"#bd3786\"],[0.5555555555555556,\"#d8576b\"],[0.6666666666666666,\"#ed7953\"],[0.7777777777777778,\"#fb9f3a\"],[0.8888888888888888,\"#fdca26\"],[1.0,\"#f0f921\"]]}],\"heatmap\":[{\"type\":\"heatmap\",\"colorbar\":{\"outlinewidth\":0,\"ticks\":\"\"},\"colorscale\":[[0.0,\"#0d0887\"],[0.1111111111111111,\"#46039f\"],[0.2222222222222222,\"#7201a8\"],[0.3333333333333333,\"#9c179e\"],[0.4444444444444444,\"#bd3786\"],[0.5555555555555556,\"#d8576b\"],[0.6666666666666666,\"#ed7953\"],[0.7777777777777778,\"#fb9f3a\"],[0.8888888888888888,\"#fdca26\"],[1.0,\"#f0f921\"]]}],\"heatmapgl\":[{\"type\":\"heatmapgl\",\"colorbar\":{\"outlinewidth\":0,\"ticks\":\"\"},\"colorscale\":[[0.0,\"#0d0887\"],[0.1111111111111111,\"#46039f\"],[0.2222222222222222,\"#7201a8\"],[0.3333333333333333,\"#9c179e\"],[0.4444444444444444,\"#bd3786\"],[0.5555555555555556,\"#d8576b\"],[0.6666666666666666,\"#ed7953\"],[0.7777777777777778,\"#fb9f3a\"],[0.8888888888888888,\"#fdca26\"],[1.0,\"#f0f921\"]]}],\"contourcarpet\":[{\"type\":\"contourcarpet\",\"colorbar\":{\"outlinewidth\":0,\"ticks\":\"\"}}],\"contour\":[{\"type\":\"contour\",\"colorbar\":{\"outlinewidth\":0,\"ticks\":\"\"},\"colorscale\":[[0.0,\"#0d0887\"],[0.1111111111111111,\"#46039f\"],[0.2222222222222222,\"#7201a8\"],[0.3333333333333333,\"#9c179e\"],[0.4444444444444444,\"#bd3786\"],[0.5555555555555556,\"#d8576b\"],[0.6666666666666666,\"#ed7953\"],[0.7777777777777778,\"#fb9f3a\"],[0.8888888888888888,\"#fdca26\"],[1.0,\"#f0f921\"]]}],\"surface\":[{\"type\":\"surface\",\"colorbar\":{\"outlinewidth\":0,\"ticks\":\"\"},\"colorscale\":[[0.0,\"#0d0887\"],[0.1111111111111111,\"#46039f\"],[0.2222222222222222,\"#7201a8\"],[0.3333333333333333,\"#9c179e\"],[0.4444444444444444,\"#bd3786\"],[0.5555555555555556,\"#d8576b\"],[0.6666666666666666,\"#ed7953\"],[0.7777777777777778,\"#fb9f3a\"],[0.8888888888888888,\"#fdca26\"],[1.0,\"#f0f921\"]]}],\"mesh3d\":[{\"type\":\"mesh3d\",\"colorbar\":{\"outlinewidth\":0,\"ticks\":\"\"}}],\"scatter\":[{\"fillpattern\":{\"fillmode\":\"overlay\",\"size\":10,\"solidity\":0.2},\"type\":\"scatter\"}],\"parcoords\":[{\"type\":\"parcoords\",\"line\":{\"colorbar\":{\"outlinewidth\":0,\"ticks\":\"\"}}}],\"scatterpolargl\":[{\"type\":\"scatterpolargl\",\"marker\":{\"colorbar\":{\"outlinewidth\":0,\"ticks\":\"\"}}}],\"bar\":[{\"error_x\":{\"color\":\"#2a3f5f\"},\"error_y\":{\"color\":\"#2a3f5f\"},\"marker\":{\"line\":{\"color\":\"#E5ECF6\",\"width\":0.5},\"pattern\":{\"fillmode\":\"overlay\",\"size\":10,\"solidity\":0.2}},\"type\":\"bar\"}],\"scattergeo\":[{\"type\":\"scattergeo\",\"marker\":{\"colorbar\":{\"outlinewidth\":0,\"ticks\":\"\"}}}],\"scatterpolar\":[{\"type\":\"scatterpolar\",\"marker\":{\"colorbar\":{\"outlinewidth\":0,\"ticks\":\"\"}}}],\"histogram\":[{\"marker\":{\"pattern\":{\"fillmode\":\"overlay\",\"size\":10,\"solidity\":0.2}},\"type\":\"histogram\"}],\"scattergl\":[{\"type\":\"scattergl\",\"marker\":{\"colorbar\":{\"outlinewidth\":0,\"ticks\":\"\"}}}],\"scatter3d\":[{\"type\":\"scatter3d\",\"line\":{\"colorbar\":{\"outlinewidth\":0,\"ticks\":\"\"}},\"marker\":{\"colorbar\":{\"outlinewidth\":0,\"ticks\":\"\"}}}],\"scattermapbox\":[{\"type\":\"scattermapbox\",\"marker\":{\"colorbar\":{\"outlinewidth\":0,\"ticks\":\"\"}}}],\"scatterternary\":[{\"type\":\"scatterternary\",\"marker\":{\"colorbar\":{\"outlinewidth\":0,\"ticks\":\"\"}}}],\"scattercarpet\":[{\"type\":\"scattercarpet\",\"marker\":{\"colorbar\":{\"outlinewidth\":0,\"ticks\":\"\"}}}],\"carpet\":[{\"aaxis\":{\"endlinecolor\":\"#2a3f5f\",\"gridcolor\":\"white\",\"linecolor\":\"white\",\"minorgridcolor\":\"white\",\"startlinecolor\":\"#2a3f5f\"},\"baxis\":{\"endlinecolor\":\"#2a3f5f\",\"gridcolor\":\"white\",\"linecolor\":\"white\",\"minorgridcolor\":\"white\",\"startlinecolor\":\"#2a3f5f\"},\"type\":\"carpet\"}],\"table\":[{\"cells\":{\"fill\":{\"color\":\"#EBF0F8\"},\"line\":{\"color\":\"white\"}},\"header\":{\"fill\":{\"color\":\"#C8D4E3\"},\"line\":{\"color\":\"white\"}},\"type\":\"table\"}],\"barpolar\":[{\"marker\":{\"line\":{\"color\":\"#E5ECF6\",\"width\":0.5},\"pattern\":{\"fillmode\":\"overlay\",\"size\":10,\"solidity\":0.2}},\"type\":\"barpolar\"}],\"pie\":[{\"automargin\":true,\"type\":\"pie\"}]},\"layout\":{\"autotypenumbers\":\"strict\",\"colorway\":[\"#636efa\",\"#EF553B\",\"#00cc96\",\"#ab63fa\",\"#FFA15A\",\"#19d3f3\",\"#FF6692\",\"#B6E880\",\"#FF97FF\",\"#FECB52\"],\"font\":{\"color\":\"#2a3f5f\"},\"hovermode\":\"closest\",\"hoverlabel\":{\"align\":\"left\"},\"paper_bgcolor\":\"white\",\"plot_bgcolor\":\"#E5ECF6\",\"polar\":{\"bgcolor\":\"#E5ECF6\",\"angularaxis\":{\"gridcolor\":\"white\",\"linecolor\":\"white\",\"ticks\":\"\"},\"radialaxis\":{\"gridcolor\":\"white\",\"linecolor\":\"white\",\"ticks\":\"\"}},\"ternary\":{\"bgcolor\":\"#E5ECF6\",\"aaxis\":{\"gridcolor\":\"white\",\"linecolor\":\"white\",\"ticks\":\"\"},\"baxis\":{\"gridcolor\":\"white\",\"linecolor\":\"white\",\"ticks\":\"\"},\"caxis\":{\"gridcolor\":\"white\",\"linecolor\":\"white\",\"ticks\":\"\"}},\"coloraxis\":{\"colorbar\":{\"outlinewidth\":0,\"ticks\":\"\"}},\"colorscale\":{\"sequential\":[[0.0,\"#0d0887\"],[0.1111111111111111,\"#46039f\"],[0.2222222222222222,\"#7201a8\"],[0.3333333333333333,\"#9c179e\"],[0.4444444444444444,\"#bd3786\"],[0.5555555555555556,\"#d8576b\"],[0.6666666666666666,\"#ed7953\"],[0.7777777777777778,\"#fb9f3a\"],[0.8888888888888888,\"#fdca26\"],[1.0,\"#f0f921\"]],\"sequentialminus\":[[0.0,\"#0d0887\"],[0.1111111111111111,\"#46039f\"],[0.2222222222222222,\"#7201a8\"],[0.3333333333333333,\"#9c179e\"],[0.4444444444444444,\"#bd3786\"],[0.5555555555555556,\"#d8576b\"],[0.6666666666666666,\"#ed7953\"],[0.7777777777777778,\"#fb9f3a\"],[0.8888888888888888,\"#fdca26\"],[1.0,\"#f0f921\"]],\"diverging\":[[0,\"#8e0152\"],[0.1,\"#c51b7d\"],[0.2,\"#de77ae\"],[0.3,\"#f1b6da\"],[0.4,\"#fde0ef\"],[0.5,\"#f7f7f7\"],[0.6,\"#e6f5d0\"],[0.7,\"#b8e186\"],[0.8,\"#7fbc41\"],[0.9,\"#4d9221\"],[1,\"#276419\"]]},\"xaxis\":{\"gridcolor\":\"white\",\"linecolor\":\"white\",\"ticks\":\"\",\"title\":{\"standoff\":15},\"zerolinecolor\":\"white\",\"automargin\":true,\"zerolinewidth\":2},\"yaxis\":{\"gridcolor\":\"white\",\"linecolor\":\"white\",\"ticks\":\"\",\"title\":{\"standoff\":15},\"zerolinecolor\":\"white\",\"automargin\":true,\"zerolinewidth\":2},\"scene\":{\"xaxis\":{\"backgroundcolor\":\"#E5ECF6\",\"gridcolor\":\"white\",\"linecolor\":\"white\",\"showbackground\":true,\"ticks\":\"\",\"zerolinecolor\":\"white\",\"gridwidth\":2},\"yaxis\":{\"backgroundcolor\":\"#E5ECF6\",\"gridcolor\":\"white\",\"linecolor\":\"white\",\"showbackground\":true,\"ticks\":\"\",\"zerolinecolor\":\"white\",\"gridwidth\":2},\"zaxis\":{\"backgroundcolor\":\"#E5ECF6\",\"gridcolor\":\"white\",\"linecolor\":\"white\",\"showbackground\":true,\"ticks\":\"\",\"zerolinecolor\":\"white\",\"gridwidth\":2}},\"shapedefaults\":{\"line\":{\"color\":\"#2a3f5f\"}},\"annotationdefaults\":{\"arrowcolor\":\"#2a3f5f\",\"arrowhead\":0,\"arrowwidth\":1},\"geo\":{\"bgcolor\":\"white\",\"landcolor\":\"#E5ECF6\",\"subunitcolor\":\"white\",\"showland\":true,\"showlakes\":true,\"lakecolor\":\"white\"},\"title\":{\"x\":0.05},\"mapbox\":{\"style\":\"light\"}}},\"scene\":{\"domain\":{\"x\":[0.0,1.0],\"y\":[0.0,1.0]},\"xaxis\":{\"title\":{\"text\":\"x\"}},\"yaxis\":{\"title\":{\"text\":\"y\"}},\"zaxis\":{\"title\":{\"text\":\"z\"},\"range\":[0,35]}},\"legend\":{\"tracegroupgap\":0},\"margin\":{\"t\":60}},                        {\"responsive\": true}                    ).then(function(){\n",
       "                            \n",
       "var gd = document.getElementById('0f9be1d3-ff37-454e-b5c4-5c148f968422');\n",
       "var x = new MutationObserver(function (mutations, observer) {{\n",
       "        var display = window.getComputedStyle(gd).display;\n",
       "        if (!display || display === 'none') {{\n",
       "            console.log([gd, 'removed!']);\n",
       "            Plotly.purge(gd);\n",
       "            observer.disconnect();\n",
       "        }}\n",
       "}});\n",
       "\n",
       "// Listen for the removal of the full notebook cells\n",
       "var notebookContainer = gd.closest('#notebook-container');\n",
       "if (notebookContainer) {{\n",
       "    x.observe(notebookContainer, {childList: true});\n",
       "}}\n",
       "\n",
       "// Listen for the clearing of the current output cell\n",
       "var outputEl = gd.closest('.output');\n",
       "if (outputEl) {{\n",
       "    x.observe(outputEl, {childList: true});\n",
       "}}\n",
       "\n",
       "                        })                };                });            </script>        </div>"
      ]
     },
     "metadata": {},
     "output_type": "display_data"
    }
   ],
   "source": [
    "fig = px.scatter_3d(x=x.ravel(), y=y.ravel(), z=z.ravel())\n",
    "\n",
    "fig.add_trace(go.Surface(x = x_input, y = y_input, z =z_final))\n",
    "\n",
    "fig.update_layout(scene = dict(zaxis = dict(range=[0,35])))\n",
    "\n",
    "fig.show()"
   ]
  },
  {
   "cell_type": "code",
   "execution_count": null,
   "id": "83a875f5-9e42-4f4f-8959-133c5e00a147",
   "metadata": {},
   "outputs": [],
   "source": []
  }
 ],
 "metadata": {
  "kernelspec": {
   "display_name": "Python 3 (ipykernel)",
   "language": "python",
   "name": "python3"
  },
  "language_info": {
   "codemirror_mode": {
    "name": "ipython",
    "version": 3
   },
   "file_extension": ".py",
   "mimetype": "text/x-python",
   "name": "python",
   "nbconvert_exporter": "python",
   "pygments_lexer": "ipython3",
   "version": "3.12.4"
  }
 },
 "nbformat": 4,
 "nbformat_minor": 5
}
